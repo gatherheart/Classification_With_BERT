{
  "nbformat": 4,
  "nbformat_minor": 0,
  "metadata": {
    "kernelspec": {
      "display_name": "Python 3",
      "language": "python",
      "name": "python3"
    },
    "language_info": {
      "codemirror_mode": {
        "name": "ipython",
        "version": 3
      },
      "file_extension": ".py",
      "mimetype": "text/x-python",
      "name": "python",
      "nbconvert_exporter": "python",
      "pygments_lexer": "ipython3",
      "version": "3.7.6-final"
    },
    "colab": {
      "name": "news_classifications_pytorch_kobert.ipynb",
      "provenance": [],
      "collapsed_sections": [],
      "machine_shape": "hm",
      "include_colab_link": true
    },
    "accelerator": "GPU",
    "widgets": {
      "application/vnd.jupyter.widget-state+json": {
        "e0559a33597c4ebeb38f88af63f091a0": {
          "model_module": "@jupyter-widgets/controls",
          "model_name": "HBoxModel",
          "state": {
            "_view_name": "HBoxView",
            "_dom_classes": [],
            "_model_name": "HBoxModel",
            "_view_module": "@jupyter-widgets/controls",
            "_model_module_version": "1.5.0",
            "_view_count": null,
            "_view_module_version": "1.5.0",
            "box_style": "",
            "layout": "IPY_MODEL_81463ecbb3b9444b8fdaed67cd790cec",
            "_model_module": "@jupyter-widgets/controls",
            "children": [
              "IPY_MODEL_2d4b0882305b40bfb87c5a062368e81e",
              "IPY_MODEL_2fc06b91e9934cafaada6a83ddcde9c7"
            ]
          }
        },
        "81463ecbb3b9444b8fdaed67cd790cec": {
          "model_module": "@jupyter-widgets/base",
          "model_name": "LayoutModel",
          "state": {
            "_view_name": "LayoutView",
            "grid_template_rows": null,
            "right": null,
            "justify_content": null,
            "_view_module": "@jupyter-widgets/base",
            "overflow": null,
            "_model_module_version": "1.2.0",
            "_view_count": null,
            "flex_flow": null,
            "width": null,
            "min_width": null,
            "border": null,
            "align_items": null,
            "bottom": null,
            "_model_module": "@jupyter-widgets/base",
            "top": null,
            "grid_column": null,
            "overflow_y": null,
            "overflow_x": null,
            "grid_auto_flow": null,
            "grid_area": null,
            "grid_template_columns": null,
            "flex": null,
            "_model_name": "LayoutModel",
            "justify_items": null,
            "grid_row": null,
            "max_height": null,
            "align_content": null,
            "visibility": null,
            "align_self": null,
            "height": null,
            "min_height": null,
            "padding": null,
            "grid_auto_rows": null,
            "grid_gap": null,
            "max_width": null,
            "order": null,
            "_view_module_version": "1.2.0",
            "grid_template_areas": null,
            "object_position": null,
            "object_fit": null,
            "grid_auto_columns": null,
            "margin": null,
            "display": null,
            "left": null
          }
        },
        "2d4b0882305b40bfb87c5a062368e81e": {
          "model_module": "@jupyter-widgets/controls",
          "model_name": "FloatProgressModel",
          "state": {
            "_view_name": "ProgressView",
            "style": "IPY_MODEL_b76c956c22014607907ccdaf3c9370e8",
            "_dom_classes": [],
            "description": "  0%",
            "_model_name": "FloatProgressModel",
            "bar_style": "danger",
            "max": 606,
            "_view_module": "@jupyter-widgets/controls",
            "_model_module_version": "1.5.0",
            "value": 0,
            "_view_count": null,
            "_view_module_version": "1.5.0",
            "orientation": "horizontal",
            "min": 0,
            "description_tooltip": null,
            "_model_module": "@jupyter-widgets/controls",
            "layout": "IPY_MODEL_f881696b8e044752adce3c11530de493"
          }
        },
        "2fc06b91e9934cafaada6a83ddcde9c7": {
          "model_module": "@jupyter-widgets/controls",
          "model_name": "HTMLModel",
          "state": {
            "_view_name": "HTMLView",
            "style": "IPY_MODEL_428c9d5aa70044e299424f978be44a33",
            "_dom_classes": [],
            "description": "",
            "_model_name": "HTMLModel",
            "placeholder": "​",
            "_view_module": "@jupyter-widgets/controls",
            "_model_module_version": "1.5.0",
            "value": " 0/606 [00:00&lt;?, ?it/s]",
            "_view_count": null,
            "_view_module_version": "1.5.0",
            "description_tooltip": null,
            "_model_module": "@jupyter-widgets/controls",
            "layout": "IPY_MODEL_c4a27d438c154592a0c0887848138fb0"
          }
        },
        "b76c956c22014607907ccdaf3c9370e8": {
          "model_module": "@jupyter-widgets/controls",
          "model_name": "ProgressStyleModel",
          "state": {
            "_view_name": "StyleView",
            "_model_name": "ProgressStyleModel",
            "description_width": "initial",
            "_view_module": "@jupyter-widgets/base",
            "_model_module_version": "1.5.0",
            "_view_count": null,
            "_view_module_version": "1.2.0",
            "bar_color": null,
            "_model_module": "@jupyter-widgets/controls"
          }
        },
        "f881696b8e044752adce3c11530de493": {
          "model_module": "@jupyter-widgets/base",
          "model_name": "LayoutModel",
          "state": {
            "_view_name": "LayoutView",
            "grid_template_rows": null,
            "right": null,
            "justify_content": null,
            "_view_module": "@jupyter-widgets/base",
            "overflow": null,
            "_model_module_version": "1.2.0",
            "_view_count": null,
            "flex_flow": null,
            "width": null,
            "min_width": null,
            "border": null,
            "align_items": null,
            "bottom": null,
            "_model_module": "@jupyter-widgets/base",
            "top": null,
            "grid_column": null,
            "overflow_y": null,
            "overflow_x": null,
            "grid_auto_flow": null,
            "grid_area": null,
            "grid_template_columns": null,
            "flex": null,
            "_model_name": "LayoutModel",
            "justify_items": null,
            "grid_row": null,
            "max_height": null,
            "align_content": null,
            "visibility": null,
            "align_self": null,
            "height": null,
            "min_height": null,
            "padding": null,
            "grid_auto_rows": null,
            "grid_gap": null,
            "max_width": null,
            "order": null,
            "_view_module_version": "1.2.0",
            "grid_template_areas": null,
            "object_position": null,
            "object_fit": null,
            "grid_auto_columns": null,
            "margin": null,
            "display": null,
            "left": null
          }
        },
        "428c9d5aa70044e299424f978be44a33": {
          "model_module": "@jupyter-widgets/controls",
          "model_name": "DescriptionStyleModel",
          "state": {
            "_view_name": "StyleView",
            "_model_name": "DescriptionStyleModel",
            "description_width": "",
            "_view_module": "@jupyter-widgets/base",
            "_model_module_version": "1.5.0",
            "_view_count": null,
            "_view_module_version": "1.2.0",
            "_model_module": "@jupyter-widgets/controls"
          }
        },
        "c4a27d438c154592a0c0887848138fb0": {
          "model_module": "@jupyter-widgets/base",
          "model_name": "LayoutModel",
          "state": {
            "_view_name": "LayoutView",
            "grid_template_rows": null,
            "right": null,
            "justify_content": null,
            "_view_module": "@jupyter-widgets/base",
            "overflow": null,
            "_model_module_version": "1.2.0",
            "_view_count": null,
            "flex_flow": null,
            "width": null,
            "min_width": null,
            "border": null,
            "align_items": null,
            "bottom": null,
            "_model_module": "@jupyter-widgets/base",
            "top": null,
            "grid_column": null,
            "overflow_y": null,
            "overflow_x": null,
            "grid_auto_flow": null,
            "grid_area": null,
            "grid_template_columns": null,
            "flex": null,
            "_model_name": "LayoutModel",
            "justify_items": null,
            "grid_row": null,
            "max_height": null,
            "align_content": null,
            "visibility": null,
            "align_self": null,
            "height": null,
            "min_height": null,
            "padding": null,
            "grid_auto_rows": null,
            "grid_gap": null,
            "max_width": null,
            "order": null,
            "_view_module_version": "1.2.0",
            "grid_template_areas": null,
            "object_position": null,
            "object_fit": null,
            "grid_auto_columns": null,
            "margin": null,
            "display": null,
            "left": null
          }
        }
      }
    }
  },
  "cells": [
    {
      "cell_type": "markdown",
      "metadata": {
        "id": "view-in-github",
        "colab_type": "text"
      },
      "source": [
        "<a href=\"https://colab.research.google.com/github/gatherheart/Classification_With_BERT/blob/main/news_classifications_pytorch_kobert.ipynb\" target=\"_parent\"><img src=\"https://colab.research.google.com/assets/colab-badge.svg\" alt=\"Open In Colab\"/></a>"
      ]
    },
    {
      "cell_type": "code",
      "metadata": {
        "id": "t3QrgLNn3fhF",
        "colab": {
          "base_uri": "https://localhost:8080/",
          "height": 1000
        },
        "outputId": "b2381fd6-652e-4ffe-f38e-b56e671ab72d"
      },
      "source": [
        "!pip install mxnet\n",
        "!pip install gluonnlp pandas tqdm\n",
        "!pip install sentencepiece\n",
        "!pip install transformers==3\n",
        "!pip install torch"
      ],
      "execution_count": 148,
      "outputs": [
        {
          "output_type": "stream",
          "text": [
            "Requirement already satisfied: mxnet in /usr/local/lib/python3.6/dist-packages (1.7.0.post1)\n",
            "Requirement already satisfied: graphviz<0.9.0,>=0.8.1 in /usr/local/lib/python3.6/dist-packages (from mxnet) (0.8.4)\n",
            "Requirement already satisfied: numpy<2.0.0,>1.16.0 in /usr/local/lib/python3.6/dist-packages (from mxnet) (1.18.5)\n",
            "Requirement already satisfied: requests<3,>=2.20.0 in /usr/local/lib/python3.6/dist-packages (from mxnet) (2.23.0)\n",
            "Requirement already satisfied: certifi>=2017.4.17 in /usr/local/lib/python3.6/dist-packages (from requests<3,>=2.20.0->mxnet) (2020.12.5)\n",
            "Requirement already satisfied: chardet<4,>=3.0.2 in /usr/local/lib/python3.6/dist-packages (from requests<3,>=2.20.0->mxnet) (3.0.4)\n",
            "Requirement already satisfied: idna<3,>=2.5 in /usr/local/lib/python3.6/dist-packages (from requests<3,>=2.20.0->mxnet) (2.10)\n",
            "Requirement already satisfied: urllib3!=1.25.0,!=1.25.1,<1.26,>=1.21.1 in /usr/local/lib/python3.6/dist-packages (from requests<3,>=2.20.0->mxnet) (1.24.3)\n",
            "Requirement already satisfied: gluonnlp in /usr/local/lib/python3.6/dist-packages (0.10.0)\n",
            "Requirement already satisfied: pandas in /usr/local/lib/python3.6/dist-packages (1.1.5)\n",
            "Requirement already satisfied: tqdm in /usr/local/lib/python3.6/dist-packages (4.41.1)\n",
            "Requirement already satisfied: cython in /usr/local/lib/python3.6/dist-packages (from gluonnlp) (0.29.21)\n",
            "Requirement already satisfied: packaging in /usr/local/lib/python3.6/dist-packages (from gluonnlp) (20.7)\n",
            "Requirement already satisfied: numpy>=1.16.0 in /usr/local/lib/python3.6/dist-packages (from gluonnlp) (1.18.5)\n",
            "Requirement already satisfied: python-dateutil>=2.7.3 in /usr/local/lib/python3.6/dist-packages (from pandas) (2.8.1)\n",
            "Requirement already satisfied: pytz>=2017.2 in /usr/local/lib/python3.6/dist-packages (from pandas) (2018.9)\n",
            "Requirement already satisfied: pyparsing>=2.0.2 in /usr/local/lib/python3.6/dist-packages (from packaging->gluonnlp) (2.4.7)\n",
            "Requirement already satisfied: six>=1.5 in /usr/local/lib/python3.6/dist-packages (from python-dateutil>=2.7.3->pandas) (1.15.0)\n",
            "Requirement already satisfied: sentencepiece in /usr/local/lib/python3.6/dist-packages (0.1.94)\n",
            "Collecting transformers==3\n",
            "\u001b[?25l  Downloading https://files.pythonhosted.org/packages/9c/35/1c3f6e62d81f5f0daff1384e6d5e6c5758682a8357ebc765ece2b9def62b/transformers-3.0.0-py3-none-any.whl (754kB)\n",
            "\u001b[K     |████████████████████████████████| 757kB 10.1MB/s \n",
            "\u001b[?25hRequirement already satisfied: dataclasses; python_version < \"3.7\" in /usr/local/lib/python3.6/dist-packages (from transformers==3) (0.8)\n",
            "Requirement already satisfied: requests in /usr/local/lib/python3.6/dist-packages (from transformers==3) (2.23.0)\n",
            "Requirement already satisfied: sacremoses in /usr/local/lib/python3.6/dist-packages (from transformers==3) (0.0.43)\n",
            "Requirement already satisfied: sentencepiece in /usr/local/lib/python3.6/dist-packages (from transformers==3) (0.1.94)\n",
            "Requirement already satisfied: tqdm>=4.27 in /usr/local/lib/python3.6/dist-packages (from transformers==3) (4.41.1)\n",
            "Requirement already satisfied: numpy in /usr/local/lib/python3.6/dist-packages (from transformers==3) (1.18.5)\n",
            "Collecting tokenizers==0.8.0-rc4\n",
            "\u001b[?25l  Downloading https://files.pythonhosted.org/packages/e8/bd/e5abec46af977c8a1375c1dca7cb1e5b3ec392ef279067af7f6bc50491a0/tokenizers-0.8.0rc4-cp36-cp36m-manylinux1_x86_64.whl (3.0MB)\n",
            "\u001b[K     |████████████████████████████████| 3.0MB 22.8MB/s \n",
            "\u001b[?25hRequirement already satisfied: packaging in /usr/local/lib/python3.6/dist-packages (from transformers==3) (20.7)\n",
            "Requirement already satisfied: regex!=2019.12.17 in /usr/local/lib/python3.6/dist-packages (from transformers==3) (2019.12.20)\n",
            "Requirement already satisfied: filelock in /usr/local/lib/python3.6/dist-packages (from transformers==3) (3.0.12)\n",
            "Requirement already satisfied: chardet<4,>=3.0.2 in /usr/local/lib/python3.6/dist-packages (from requests->transformers==3) (3.0.4)\n",
            "Requirement already satisfied: idna<3,>=2.5 in /usr/local/lib/python3.6/dist-packages (from requests->transformers==3) (2.10)\n",
            "Requirement already satisfied: urllib3!=1.25.0,!=1.25.1,<1.26,>=1.21.1 in /usr/local/lib/python3.6/dist-packages (from requests->transformers==3) (1.24.3)\n",
            "Requirement already satisfied: certifi>=2017.4.17 in /usr/local/lib/python3.6/dist-packages (from requests->transformers==3) (2020.12.5)\n",
            "Requirement already satisfied: six in /usr/local/lib/python3.6/dist-packages (from sacremoses->transformers==3) (1.15.0)\n",
            "Requirement already satisfied: click in /usr/local/lib/python3.6/dist-packages (from sacremoses->transformers==3) (7.1.2)\n",
            "Requirement already satisfied: joblib in /usr/local/lib/python3.6/dist-packages (from sacremoses->transformers==3) (0.17.0)\n",
            "Requirement already satisfied: pyparsing>=2.0.2 in /usr/local/lib/python3.6/dist-packages (from packaging->transformers==3) (2.4.7)\n",
            "Installing collected packages: tokenizers, transformers\n",
            "  Found existing installation: tokenizers 0.9.4\n",
            "    Uninstalling tokenizers-0.9.4:\n",
            "      Successfully uninstalled tokenizers-0.9.4\n",
            "  Found existing installation: transformers 4.0.1\n",
            "    Uninstalling transformers-4.0.1:\n",
            "      Successfully uninstalled transformers-4.0.1\n",
            "Successfully installed tokenizers-0.8.0rc4 transformers-3.0.0\n"
          ],
          "name": "stdout"
        },
        {
          "output_type": "display_data",
          "data": {
            "application/vnd.colab-display-data+json": {
              "pip_warning": {
                "packages": [
                  "tokenizers",
                  "transformers"
                ]
              }
            }
          },
          "metadata": {
            "tags": []
          }
        },
        {
          "output_type": "stream",
          "text": [
            "Requirement already satisfied: torch in /usr/local/lib/python3.6/dist-packages (1.7.0+cu101)\n",
            "Requirement already satisfied: numpy in /usr/local/lib/python3.6/dist-packages (from torch) (1.18.5)\n",
            "Requirement already satisfied: dataclasses in /usr/local/lib/python3.6/dist-packages (from torch) (0.8)\n",
            "Requirement already satisfied: future in /usr/local/lib/python3.6/dist-packages (from torch) (0.16.0)\n",
            "Requirement already satisfied: typing-extensions in /usr/local/lib/python3.6/dist-packages (from torch) (3.7.4.3)\n"
          ],
          "name": "stdout"
        }
      ]
    },
    {
      "cell_type": "code",
      "metadata": {
        "colab": {
          "base_uri": "https://localhost:8080/"
        },
        "id": "tbBxVCJK9I9d",
        "outputId": "d2b5bdde-76f3-4e48-cd5b-0c4656507b67"
      },
      "source": [
        "from google.colab import drive\n",
        "drive.mount('/content/drive')"
      ],
      "execution_count": 2,
      "outputs": [
        {
          "output_type": "stream",
          "text": [
            "Mounted at /content/drive\n"
          ],
          "name": "stdout"
        }
      ]
    },
    {
      "cell_type": "code",
      "metadata": {
        "id": "74vQa_653fhR",
        "colab": {
          "base_uri": "https://localhost:8080/"
        },
        "outputId": "d7c018b5-44d4-43de-9243-2b4f4a86dfe4"
      },
      "source": [
        "!pip install git+https://git@github.com/SKTBrain/KoBERT.git@master"
      ],
      "execution_count": 3,
      "outputs": [
        {
          "output_type": "stream",
          "text": [
            "Collecting git+https://****@github.com/SKTBrain/KoBERT.git@master\n",
            "  Cloning https://****@github.com/SKTBrain/KoBERT.git (to revision master) to /tmp/pip-req-build-jesns6hw\n",
            "  Running command git clone -q 'https://****@github.com/SKTBrain/KoBERT.git' /tmp/pip-req-build-jesns6hw\n",
            "Building wheels for collected packages: kobert\n",
            "  Building wheel for kobert (setup.py) ... \u001b[?25l\u001b[?25hdone\n",
            "  Created wheel for kobert: filename=kobert-0.1.2-cp36-none-any.whl size=12734 sha256=3a709a570db29c247bb4b8b2b36b6412ef407db015d26b24359256ad232052c7\n",
            "  Stored in directory: /tmp/pip-ephem-wheel-cache-dvw162ae/wheels/a2/b0/41/435ee4e918f91918be41529283c5ff86cd010f02e7525aecf3\n",
            "Successfully built kobert\n",
            "Installing collected packages: kobert\n",
            "Successfully installed kobert-0.1.2\n"
          ],
          "name": "stdout"
        }
      ]
    },
    {
      "cell_type": "code",
      "metadata": {
        "id": "5ZX5VedV3fhS"
      },
      "source": [
        "import torch\n",
        "from torch import nn\n",
        "import torch.nn.functional as F\n",
        "import torch.optim as optim\n",
        "from torch.utils.data import Dataset, DataLoader\n",
        "import gluonnlp as nlp\n",
        "from tqdm import tqdm, tqdm_notebook, notebook"
      ],
      "execution_count": 149,
      "outputs": []
    },
    {
      "cell_type": "code",
      "metadata": {
        "id": "KtNxYIJc3fhS"
      },
      "source": [
        "from kobert.utils import get_tokenizer\n",
        "from kobert.pytorch_kobert import get_pytorch_kobert_model"
      ],
      "execution_count": 150,
      "outputs": []
    },
    {
      "cell_type": "code",
      "metadata": {
        "id": "7sNO_5z43fhS"
      },
      "source": [
        "from transformers import AdamW\n",
        "from transformers.optimization import get_cosine_schedule_with_warmup"
      ],
      "execution_count": 151,
      "outputs": []
    },
    {
      "cell_type": "code",
      "metadata": {
        "id": "g_Qf1j1x92wF"
      },
      "source": [
        "import tensorflow as tf\n",
        "\n",
        "from transformers import BertTokenizer\n",
        "from transformers import BertForSequenceClassification, BertConfig\n",
        "from transformers import get_linear_schedule_with_warmup\n",
        "from torch.utils.data import TensorDataset, DataLoader, RandomSampler, SequentialSampler\n",
        "from keras.preprocessing.sequence import pad_sequences\n",
        "from sklearn.model_selection import train_test_split\n",
        "\n",
        "import pandas as pd\n",
        "import numpy as np\n",
        "import random\n",
        "import time\n",
        "import datetime"
      ],
      "execution_count": 152,
      "outputs": []
    },
    {
      "cell_type": "code",
      "metadata": {
        "id": "HZ9Us7UG3fhS"
      },
      "source": [
        "##GPU 사용 시\n",
        "device = torch.device(\"cuda:0\")"
      ],
      "execution_count": 155,
      "outputs": []
    },
    {
      "cell_type": "code",
      "metadata": {
        "id": "oiL08-_O3fhU",
        "colab": {
          "base_uri": "https://localhost:8080/"
        },
        "outputId": "d53ed53b-ae77-41a9-9f1d-69cdcce00543"
      },
      "source": [
        "bertmodel, vocab = get_pytorch_kobert_model()"
      ],
      "execution_count": 156,
      "outputs": [
        {
          "output_type": "stream",
          "text": [
            "using cached model\n",
            "using cached model\n"
          ],
          "name": "stdout"
        }
      ]
    },
    {
      "cell_type": "code",
      "metadata": {
        "id": "p6RBn9ds9oHp"
      },
      "source": [
        "BASE_PATH = '/content/drive/MyDrive/hyun_data'"
      ],
      "execution_count": 157,
      "outputs": []
    },
    {
      "cell_type": "code",
      "metadata": {
        "colab": {
          "base_uri": "https://localhost:8080/"
        },
        "id": "X69NoNtg9pFL",
        "outputId": "a05ba0ae-0870-40ae-bc2f-c118e9d22f89"
      },
      "source": [
        "gpu_info = !nvidia-smi\n",
        "gpu_info = '\\n'.join(gpu_info)\n",
        "if gpu_info.find('failed') >= 0:\n",
        "  print('Select the Runtime > \"Change runtime type\" menu to enable a GPU accelerator, ')\n",
        "  print('and then re-execute this cell.')\n",
        "else:\n",
        "  print(gpu_info)"
      ],
      "execution_count": 158,
      "outputs": [
        {
          "output_type": "stream",
          "text": [
            "Sat Dec 12 04:25:16 2020       \n",
            "+-----------------------------------------------------------------------------+\n",
            "| NVIDIA-SMI 455.45.01    Driver Version: 418.67       CUDA Version: 10.1     |\n",
            "|-------------------------------+----------------------+----------------------+\n",
            "| GPU  Name        Persistence-M| Bus-Id        Disp.A | Volatile Uncorr. ECC |\n",
            "| Fan  Temp  Perf  Pwr:Usage/Cap|         Memory-Usage | GPU-Util  Compute M. |\n",
            "|                               |                      |               MIG M. |\n",
            "|===============================+======================+======================|\n",
            "|   0  Tesla P100-PCIE...  Off  | 00000000:00:04.0 Off |                    0 |\n",
            "| N/A   44C    P0    33W / 250W |   8037MiB / 16280MiB |      0%      Default |\n",
            "|                               |                      |                 ERR! |\n",
            "+-------------------------------+----------------------+----------------------+\n",
            "                                                                               \n",
            "+-----------------------------------------------------------------------------+\n",
            "| Processes:                                                                  |\n",
            "|  GPU   GI   CI        PID   Type   Process name                  GPU Memory |\n",
            "|        ID   ID                                                   Usage      |\n",
            "|=============================================================================|\n",
            "|  No running processes found                                                 |\n",
            "+-----------------------------------------------------------------------------+\n"
          ],
          "name": "stdout"
        }
      ]
    },
    {
      "cell_type": "code",
      "metadata": {
        "id": "-sFEqZhj9rCr"
      },
      "source": [
        "df = pd.read_csv(BASE_PATH+'/preprocessed_norm.csv', index_col=[0])"
      ],
      "execution_count": 159,
      "outputs": []
    },
    {
      "cell_type": "code",
      "metadata": {
        "id": "wReAS3ZD9wLG"
      },
      "source": [
        "labels_csv = pd.read_csv(BASE_PATH+'/labels_dict2.csv', index_col=[0])"
      ],
      "execution_count": 160,
      "outputs": []
    },
    {
      "cell_type": "code",
      "metadata": {
        "colab": {
          "base_uri": "https://localhost:8080/",
          "height": 253
        },
        "id": "3RpXoFKK-Crw",
        "outputId": "d9b901fd-2cba-48fe-cf13-15fa3babb431"
      },
      "source": [
        "labels_csv"
      ],
      "execution_count": 161,
      "outputs": [
        {
          "output_type": "execute_result",
          "data": {
            "text/html": [
              "<div>\n",
              "<style scoped>\n",
              "    .dataframe tbody tr th:only-of-type {\n",
              "        vertical-align: middle;\n",
              "    }\n",
              "\n",
              "    .dataframe tbody tr th {\n",
              "        vertical-align: top;\n",
              "    }\n",
              "\n",
              "    .dataframe thead th {\n",
              "        text-align: right;\n",
              "    }\n",
              "</style>\n",
              "<table border=\"1\" class=\"dataframe\">\n",
              "  <thead>\n",
              "    <tr style=\"text-align: right;\">\n",
              "      <th></th>\n",
              "      <th>문화&gt;방송_연예</th>\n",
              "      <th>국제&gt;중국</th>\n",
              "      <th>사회&gt;사회일반</th>\n",
              "      <th>정치&gt;국회_정당</th>\n",
              "      <th>사회&gt;교육_시험</th>\n",
              "      <th>IT_과학&gt;모바일</th>\n",
              "      <th>정치&gt;행정_자치</th>\n",
              "      <th>사회&gt;사건_사고</th>\n",
              "      <th>문화&gt;문화일반</th>\n",
              "      <th>정치&gt;청와대</th>\n",
              "      <th>사회&gt;여성</th>\n",
              "      <th>국제&gt;유럽_EU</th>\n",
              "      <th>경제&gt;자원</th>\n",
              "      <th>국제&gt;미국_북미</th>\n",
              "      <th>사회&gt;날씨</th>\n",
              "      <th>사회&gt;의료_건강</th>\n",
              "      <th>IT_과학&gt;콘텐츠</th>\n",
              "      <th>경제&gt;증권_증시</th>\n",
              "      <th>정치&gt;선거</th>\n",
              "      <th>국제&gt;일본</th>\n",
              "      <th>사회&gt;미디어</th>\n",
              "      <th>문화&gt;음악</th>\n",
              "      <th>국제&gt;중남미</th>\n",
              "      <th>국제&gt;중동_아프리카</th>\n",
              "      <th>경제&gt;유통</th>\n",
              "      <th>문화&gt;출판</th>\n",
              "      <th>경제&gt;자동차</th>\n",
              "      <th>사회&gt;환경</th>\n",
              "      <th>경제&gt;금융_재테크</th>\n",
              "      <th>사회&gt;장애인</th>\n",
              "      <th>문화&gt;전시_공연</th>\n",
              "      <th>경제&gt;부동산</th>\n",
              "      <th>IT_과학&gt;IT_과학일반</th>\n",
              "      <th>문화&gt;요리_여행</th>\n",
              "      <th>IT_과학&gt;과학</th>\n",
              "      <th>경제&gt;서비스_쇼핑</th>\n",
              "      <th>경제&gt;외환</th>\n",
              "      <th>미분류</th>\n",
              "      <th>문화&gt;미술_건축</th>\n",
              "      <th>문화&gt;생활</th>\n",
              "      <th>경제&gt;경제일반</th>\n",
              "      <th>국제&gt;아시아</th>\n",
              "      <th>정치&gt;정치일반</th>\n",
              "      <th>경제&gt;국제경제</th>\n",
              "      <th>경제&gt;취업_창업</th>\n",
              "      <th>IT_과학&gt;보안</th>\n",
              "      <th>정치&gt;외교</th>\n",
              "      <th>경제&gt;무역</th>\n",
              "      <th>문화&gt;영화</th>\n",
              "      <th>정치&gt;북한</th>\n",
              "      <th>경제&gt;산업_기업</th>\n",
              "      <th>문화&gt;종교</th>\n",
              "      <th>경제&gt;반도체</th>\n",
              "      <th>문화&gt;학술_문화재</th>\n",
              "      <th>사회&gt;노동_복지</th>\n",
              "      <th>국제&gt;국제일반</th>\n",
              "      <th>IT_과학&gt;인터넷_SNS</th>\n",
              "      <th>국제&gt;러시아</th>\n",
              "    </tr>\n",
              "  </thead>\n",
              "  <tbody>\n",
              "    <tr>\n",
              "      <th>0</th>\n",
              "      <td>0</td>\n",
              "      <td>1</td>\n",
              "      <td>2</td>\n",
              "      <td>3</td>\n",
              "      <td>4</td>\n",
              "      <td>5</td>\n",
              "      <td>6</td>\n",
              "      <td>7</td>\n",
              "      <td>8</td>\n",
              "      <td>9</td>\n",
              "      <td>10</td>\n",
              "      <td>11</td>\n",
              "      <td>12</td>\n",
              "      <td>13</td>\n",
              "      <td>14</td>\n",
              "      <td>15</td>\n",
              "      <td>16</td>\n",
              "      <td>17</td>\n",
              "      <td>18</td>\n",
              "      <td>19</td>\n",
              "      <td>20</td>\n",
              "      <td>21</td>\n",
              "      <td>22</td>\n",
              "      <td>23</td>\n",
              "      <td>24</td>\n",
              "      <td>25</td>\n",
              "      <td>26</td>\n",
              "      <td>27</td>\n",
              "      <td>28</td>\n",
              "      <td>29</td>\n",
              "      <td>30</td>\n",
              "      <td>31</td>\n",
              "      <td>32</td>\n",
              "      <td>33</td>\n",
              "      <td>34</td>\n",
              "      <td>35</td>\n",
              "      <td>36</td>\n",
              "      <td>37</td>\n",
              "      <td>38</td>\n",
              "      <td>39</td>\n",
              "      <td>40</td>\n",
              "      <td>41</td>\n",
              "      <td>42</td>\n",
              "      <td>43</td>\n",
              "      <td>44</td>\n",
              "      <td>45</td>\n",
              "      <td>46</td>\n",
              "      <td>47</td>\n",
              "      <td>48</td>\n",
              "      <td>49</td>\n",
              "      <td>50</td>\n",
              "      <td>51</td>\n",
              "      <td>52</td>\n",
              "      <td>53</td>\n",
              "      <td>54</td>\n",
              "      <td>55</td>\n",
              "      <td>56</td>\n",
              "      <td>57</td>\n",
              "    </tr>\n",
              "  </tbody>\n",
              "</table>\n",
              "</div>"
            ],
            "text/plain": [
              "   문화>방송_연예  국제>중국  사회>사회일반  정치>국회_정당  ...  사회>노동_복지  국제>국제일반  IT_과학>인터넷_SNS  국제>러시아\n",
              "0         0      1        2         3  ...        54       55             56      57\n",
              "\n",
              "[1 rows x 58 columns]"
            ]
          },
          "metadata": {
            "tags": []
          },
          "execution_count": 161
        }
      ]
    },
    {
      "cell_type": "code",
      "metadata": {
        "colab": {
          "base_uri": "https://localhost:8080/"
        },
        "id": "StzhV2CT-Drv",
        "outputId": "c3387de4-0726-4fa5-ea46-de5279de0e88"
      },
      "source": [
        "df.columns"
      ],
      "execution_count": 162,
      "outputs": [
        {
          "output_type": "execute_result",
          "data": {
            "text/plain": [
              "Index(['date', 'title', 'topic', 'keyword', 'input', 'body', 'label'], dtype='object')"
            ]
          },
          "metadata": {
            "tags": []
          },
          "execution_count": 162
        }
      ]
    },
    {
      "cell_type": "code",
      "metadata": {
        "colab": {
          "base_uri": "https://localhost:8080/",
          "height": 759
        },
        "id": "zo0QdrVB-F0J",
        "outputId": "625a2412-11b7-4810-f3aa-f59bacb56a30"
      },
      "source": [
        "df[df.label==0]"
      ],
      "execution_count": 163,
      "outputs": [
        {
          "output_type": "execute_result",
          "data": {
            "text/html": [
              "<div>\n",
              "<style scoped>\n",
              "    .dataframe tbody tr th:only-of-type {\n",
              "        vertical-align: middle;\n",
              "    }\n",
              "\n",
              "    .dataframe tbody tr th {\n",
              "        vertical-align: top;\n",
              "    }\n",
              "\n",
              "    .dataframe thead th {\n",
              "        text-align: right;\n",
              "    }\n",
              "</style>\n",
              "<table border=\"1\" class=\"dataframe\">\n",
              "  <thead>\n",
              "    <tr style=\"text-align: right;\">\n",
              "      <th></th>\n",
              "      <th>date</th>\n",
              "      <th>title</th>\n",
              "      <th>topic</th>\n",
              "      <th>keyword</th>\n",
              "      <th>input</th>\n",
              "      <th>body</th>\n",
              "      <th>label</th>\n",
              "    </tr>\n",
              "  </thead>\n",
              "  <tbody>\n",
              "    <tr>\n",
              "      <th>8</th>\n",
              "      <td>20201128</td>\n",
              "      <td>'온앤오프' 이지아, '데뷔 후 최초' 베일 싸여있던 일상 공개</td>\n",
              "      <td>문화&gt;방송_연예</td>\n",
              "      <td>온앤오프,이지아,데뷔,베일,일상,공개,28일,방송,tvN,온앤오프,배우,이지아,반전...</td>\n",
              "      <td>이지아 온앤오프 덕후 한경닷컴 김나경 tvn 은하계 ufo 동작 하나하나 외계인설 ...</td>\n",
              "      <td>28일(토) 방송하는 tvN ’온앤오프‘에서는 배우 이지아의 반전 매력 넘치는 일상...</td>\n",
              "      <td>0</td>\n",
              "    </tr>\n",
              "    <tr>\n",
              "      <th>10</th>\n",
              "      <td>20201128</td>\n",
              "      <td>'런닝맨' 김소연, '팬심' 폭발시킨 멤버 정체는?</td>\n",
              "      <td>문화&gt;방송_연예</td>\n",
              "      <td>런닝맨,김소연,팬심,폭발,멤버,정체,배우,김소연,팬심,고백,29일,방송,SBS,런닝...</td>\n",
              "      <td>김소연 런닝맨 팬심 이상우 멤버들 리액션 반박해 180도 다들 거짓말 펜트하우스 1...</td>\n",
              "      <td>배우 김소연이 수줍은 팬심을 고백한다.\\n오는 29일 오후 방송되는 SBS ‘런닝맨...</td>\n",
              "      <td>0</td>\n",
              "    </tr>\n",
              "    <tr>\n",
              "      <th>15</th>\n",
              "      <td>20201128</td>\n",
              "      <td>‘트로트의 민족’ 김소연, 우승 후보→패자부활전 합격할까[M+TV인사이드]</td>\n",
              "      <td>문화&gt;방송_연예</td>\n",
              "      <td>트로트,민족,김소연,우승,후보,패자부활전,합격,TV인사이드,트로트,민족,유력,우승,...</td>\n",
              "      <td>트로트 박하명 긴장감 김소연 안성준 시청률 신명근 생존자 패자부활전 장명서 나미애 ...</td>\n",
              "      <td>‘트로트의 민족’ 유력 우승 후보 김소연이 패자부활전에 나선 가운데 그의 생존에 관...</td>\n",
              "      <td>0</td>\n",
              "    </tr>\n",
              "    <tr>\n",
              "      <th>21</th>\n",
              "      <td>20201128</td>\n",
              "      <td>'아는 형님' 조병규, 즉석 액션부터 성대모사까지 매력 대방출!</td>\n",
              "      <td>문화&gt;방송_연예</td>\n",
              "      <td>형님,조병규,즉석,액션,성대모사,매력,대방출,배우,조병규,예능,블루칩,등극,방송,J...</td>\n",
              "      <td>조병규 김세정 눈물 성대모사 유준상 친밀도 만큼 촬영장 웃픈 블루칩 자유자재 전학생...</td>\n",
              "      <td>배우 조병규가 넘치는 끼로 예능 블루칩에 등극했다.\\n \\n28일 방송되는 JTBC...</td>\n",
              "      <td>0</td>\n",
              "    </tr>\n",
              "    <tr>\n",
              "      <th>67</th>\n",
              "      <td>20201128</td>\n",
              "      <td>‘온앤오프’ 이지아 “UFO 출몰 지역을 간 적도 있다”</td>\n",
              "      <td>문화&gt;방송_연예</td>\n",
              "      <td>온앤오프,이지아,UFO,출몰,지역,28일,방송,tvN,온앤오프,배우,이지아,반전,매...</td>\n",
              "      <td>이지아 온앤오프 덕후 ufo tvn 동작 하나하나 은하계 외계인설 싱어송라이터 놀라...</td>\n",
              "      <td>[헤럴드경제 = 서병기 선임기자]28일(토) 밤 방송되는 tvN ’온앤오프‘에서는 ...</td>\n",
              "      <td>0</td>\n",
              "    </tr>\n",
              "    <tr>\n",
              "      <th>...</th>\n",
              "      <td>...</td>\n",
              "      <td>...</td>\n",
              "      <td>...</td>\n",
              "      <td>...</td>\n",
              "      <td>...</td>\n",
              "      <td>...</td>\n",
              "      <td>...</td>\n",
              "    </tr>\n",
              "    <tr>\n",
              "      <th>19069</th>\n",
              "      <td>20201201</td>\n",
              "      <td>영화보며 시간 여행 자연 힐링 독서하며 언택트 송년</td>\n",
              "      <td>문화&gt;방송_연예</td>\n",
              "      <td>영화,여행,자연,힐링,독서,언택트,송년,연말,영화,리틀,포레스트,Little,개봉,...</td>\n",
              "      <td>구멍가게 일본 순천만 미국 곽재구 루나나 해남 목포 원스 혜원 보이저 시간여행 드루...</td>\n",
              "      <td>[연말에 보면 좋은 영화]\\n▲리틀 포레스트(Little Forest /감독 임순례...</td>\n",
              "      <td>0</td>\n",
              "    </tr>\n",
              "    <tr>\n",
              "      <th>19304</th>\n",
              "      <td>20201201</td>\n",
              "      <td>[종합] 아이랜드 통해 데뷔한 '엔하이픈' \"7명 전원이 센터급 비주얼\"  연말 신...</td>\n",
              "      <td>문화&gt;방송_연예</td>\n",
              "      <td>아이랜드,데뷔,엔하이픈,전원,센터,비주얼,연말,신인상,사진,빌리프랩,제공,빅히트엔터...</td>\n",
              "      <td>엔하이픈 아이랜드 빅히트 니키 희승 제이크 제이 타이틀곡 성훈 7명 신인상 팬들 방...</td>\n",
              "      <td>[사진= 빌리프랩 제공] \\n  \\n \\n 빅히트엔터테인먼트와 Mnet의 프로젝트 ...</td>\n",
              "      <td>0</td>\n",
              "    </tr>\n",
              "    <tr>\n",
              "      <th>19581</th>\n",
              "      <td>20201130</td>\n",
              "      <td>[이웃사랑] 뇌병변에 유방암까지 온 아내, 홀로 고군분투 중인 남편</td>\n",
              "      <td>문화&gt;방송_연예</td>\n",
              "      <td>뇌병변,유방암,아내,고군분투,남편,결혼식,뇌병변,장애,남편,4년,병간호,유방암,생활...</td>\n",
              "      <td>주희 영석 결혼식 예주 유방암 중국집 대구은행 병간호 핸드폰 일자리 생활비 매일신문...</td>\n",
              "      <td>지난 27일 달서구 감삼동의 한 주택 2층. 쿵쾅쿵쾅 계단 위로 한 여자아이가 급히...</td>\n",
              "      <td>0</td>\n",
              "    </tr>\n",
              "    <tr>\n",
              "      <th>19598</th>\n",
              "      <td>20201130</td>\n",
              "      <td>전효성 다이어트 “3개월만에 허리 26인치→23.5인치”</td>\n",
              "      <td>문화&gt;방송_연예</td>\n",
              "      <td>3개월,전효,다이어트,허리,인치,23.5인치,가수,전효,다이어트,영상,공개,화제,전...</td>\n",
              "      <td>전효성 전효 3개월 다이어터 필라테스 배달음식 필요성 유튜브 장장 2개월 식이요법 ...</td>\n",
              "      <td>가수 전효성이 다이어트 영상을 공개해 화제다.\\n\\n\\n\\n전효성이 30일 오후 자...</td>\n",
              "      <td>0</td>\n",
              "    </tr>\n",
              "    <tr>\n",
              "      <th>19930</th>\n",
              "      <td>20201130</td>\n",
              "      <td>아산시 ‘은빛 숲해설’ 프로그램, 요양기관 어르신에 활력 제공</td>\n",
              "      <td>문화&gt;방송_연예</td>\n",
              "      <td>숲해설,아산시,은빛,프로그램,요양,기관,어르신,활력,제공,아산시,시장,오세현,코로나...</td>\n",
              "      <td>요양기관 어르신들 코로나19 비대면 숲해설 외부인 복지사 아산시 자연물 아산 영상콘...</td>\n",
              "      <td>아산시(시장 오세현)가 코로나19 장기화로 외부인과의 접촉이 제한된 관내 13개 요...</td>\n",
              "      <td>0</td>\n",
              "    </tr>\n",
              "  </tbody>\n",
              "</table>\n",
              "<p>2201 rows × 7 columns</p>\n",
              "</div>"
            ],
            "text/plain": [
              "           date  ... label\n",
              "8      20201128  ...     0\n",
              "10     20201128  ...     0\n",
              "15     20201128  ...     0\n",
              "21     20201128  ...     0\n",
              "67     20201128  ...     0\n",
              "...         ...  ...   ...\n",
              "19069  20201201  ...     0\n",
              "19304  20201201  ...     0\n",
              "19581  20201130  ...     0\n",
              "19598  20201130  ...     0\n",
              "19930  20201130  ...     0\n",
              "\n",
              "[2201 rows x 7 columns]"
            ]
          },
          "metadata": {
            "tags": []
          },
          "execution_count": 163
        }
      ]
    },
    {
      "cell_type": "code",
      "metadata": {
        "colab": {
          "base_uri": "https://localhost:8080/"
        },
        "id": "wCgjlB1V-ITR",
        "outputId": "2523776b-9e2d-430a-c7ea-f45a0b2e59cc"
      },
      "source": [
        "NUM_LABELS = max(set(df['label'])) + 1\n",
        "NUM_LABELS"
      ],
      "execution_count": 164,
      "outputs": [
        {
          "output_type": "execute_result",
          "data": {
            "text/plain": [
              "58"
            ]
          },
          "metadata": {
            "tags": []
          },
          "execution_count": 164
        }
      ]
    },
    {
      "cell_type": "code",
      "metadata": {
        "id": "C5I3mose-L2P"
      },
      "source": [
        "text_to_label = dict(labels_csv)"
      ],
      "execution_count": 165,
      "outputs": []
    },
    {
      "cell_type": "code",
      "metadata": {
        "id": "iQukM4T8-ObU"
      },
      "source": [
        "label_to_text = {}\n",
        "for label in text_to_label:\n",
        "    label_to_text[int(text_to_label[label])] = label"
      ],
      "execution_count": 166,
      "outputs": []
    },
    {
      "cell_type": "code",
      "metadata": {
        "colab": {
          "base_uri": "https://localhost:8080/"
        },
        "id": "F9M0jrGE-QdC",
        "outputId": "1f5883f4-5642-4bcd-cadd-1299c589b254"
      },
      "source": [
        "label_to_text"
      ],
      "execution_count": 167,
      "outputs": [
        {
          "output_type": "execute_result",
          "data": {
            "text/plain": [
              "{0: '문화>방송_연예',\n",
              " 1: '국제>중국',\n",
              " 2: '사회>사회일반',\n",
              " 3: '정치>국회_정당',\n",
              " 4: '사회>교육_시험',\n",
              " 5: 'IT_과학>모바일',\n",
              " 6: '정치>행정_자치',\n",
              " 7: '사회>사건_사고',\n",
              " 8: '문화>문화일반',\n",
              " 9: '정치>청와대',\n",
              " 10: '사회>여성',\n",
              " 11: '국제>유럽_EU',\n",
              " 12: '경제>자원',\n",
              " 13: '국제>미국_북미',\n",
              " 14: '사회>날씨',\n",
              " 15: '사회>의료_건강',\n",
              " 16: 'IT_과학>콘텐츠',\n",
              " 17: '경제>증권_증시',\n",
              " 18: '정치>선거',\n",
              " 19: '국제>일본',\n",
              " 20: '사회>미디어',\n",
              " 21: '문화>음악',\n",
              " 22: '국제>중남미',\n",
              " 23: '국제>중동_아프리카',\n",
              " 24: '경제>유통',\n",
              " 25: '문화>출판',\n",
              " 26: '경제>자동차',\n",
              " 27: '사회>환경',\n",
              " 28: '경제>금융_재테크',\n",
              " 29: '사회>장애인',\n",
              " 30: '문화>전시_공연',\n",
              " 31: '경제>부동산',\n",
              " 32: 'IT_과학>IT_과학일반',\n",
              " 33: '문화>요리_여행',\n",
              " 34: 'IT_과학>과학',\n",
              " 35: '경제>서비스_쇼핑',\n",
              " 36: '경제>외환',\n",
              " 37: '미분류',\n",
              " 38: '문화>미술_건축',\n",
              " 39: '문화>생활',\n",
              " 40: '경제>경제일반',\n",
              " 41: '국제>아시아',\n",
              " 42: '정치>정치일반',\n",
              " 43: '경제>국제경제',\n",
              " 44: '경제>취업_창업',\n",
              " 45: 'IT_과학>보안',\n",
              " 46: '정치>외교',\n",
              " 47: '경제>무역',\n",
              " 48: '문화>영화',\n",
              " 49: '정치>북한',\n",
              " 50: '경제>산업_기업',\n",
              " 51: '문화>종교',\n",
              " 52: '경제>반도체',\n",
              " 53: '문화>학술_문화재',\n",
              " 54: '사회>노동_복지',\n",
              " 55: '국제>국제일반',\n",
              " 56: 'IT_과학>인터넷_SNS',\n",
              " 57: '국제>러시아'}"
            ]
          },
          "metadata": {
            "tags": []
          },
          "execution_count": 167
        }
      ]
    },
    {
      "cell_type": "code",
      "metadata": {
        "colab": {
          "base_uri": "https://localhost:8080/"
        },
        "id": "u6TD0lXo-SUi",
        "outputId": "be90819f-b2d7-4572-909d-f42babafb3ea"
      },
      "source": [
        "train, test = train, test = train_test_split(df, test_size=0.2)\n",
        "\n",
        "print(train.shape)\n",
        "print(test.shape)"
      ],
      "execution_count": 168,
      "outputs": [
        {
          "output_type": "stream",
          "text": [
            "(38783, 7)\n",
            "(9696, 7)\n"
          ],
          "name": "stdout"
        }
      ]
    },
    {
      "cell_type": "code",
      "metadata": {
        "colab": {
          "base_uri": "https://localhost:8080/",
          "height": 699
        },
        "id": "dY8mvByT-U4j",
        "outputId": "d2565325-8782-4836-c5b7-b23d9ea4bab6"
      },
      "source": [
        "train.head(10)"
      ],
      "execution_count": 169,
      "outputs": [
        {
          "output_type": "execute_result",
          "data": {
            "text/html": [
              "<div>\n",
              "<style scoped>\n",
              "    .dataframe tbody tr th:only-of-type {\n",
              "        vertical-align: middle;\n",
              "    }\n",
              "\n",
              "    .dataframe tbody tr th {\n",
              "        vertical-align: top;\n",
              "    }\n",
              "\n",
              "    .dataframe thead th {\n",
              "        text-align: right;\n",
              "    }\n",
              "</style>\n",
              "<table border=\"1\" class=\"dataframe\">\n",
              "  <thead>\n",
              "    <tr style=\"text-align: right;\">\n",
              "      <th></th>\n",
              "      <th>date</th>\n",
              "      <th>title</th>\n",
              "      <th>topic</th>\n",
              "      <th>keyword</th>\n",
              "      <th>input</th>\n",
              "      <th>body</th>\n",
              "      <th>label</th>\n",
              "    </tr>\n",
              "  </thead>\n",
              "  <tbody>\n",
              "    <tr>\n",
              "      <th>15030</th>\n",
              "      <td>20201126</td>\n",
              "      <td>‘2625.91’ 코스피 이틀 만에 또 최고치 기록</td>\n",
              "      <td>경제&gt;증권_증시</td>\n",
              "      <td>2625.91,코스피,이틀,최고,기록,코스피지수,26일,기록,사상,최고,지수,24....</td>\n",
              "      <td>성장률 코스피 최고치 코로나19 총생산 네이버 삼성에스디아이 엘지화학 셀트리온 반도...</td>\n",
              "      <td>코스피지수가 26일 또 사상 최고 기록을 세웠다. \\n\\n지수는 전날보다 24.37...</td>\n",
              "      <td>17</td>\n",
              "    </tr>\n",
              "    <tr>\n",
              "      <th>12722</th>\n",
              "      <td>20201120</td>\n",
              "      <td>이낙연 “공수처법 개정안 등 정기국회서 처리” 마지노선 제시</td>\n",
              "      <td>정치&gt;국회_정당</td>\n",
              "      <td>개정안,이낙연,공수처법,정기국회,처리,마지,노선,제시,국회법,절차,처리,입법과제,언...</td>\n",
              "      <td>공수처 민주당 공수처법 헌법재판소 정기국회 위원회 법사위 이낙연 의원들 본회의 개정...</td>\n",
              "      <td>“국회법 절차대로 처리해달라”\\n\\n입법과제 중 가장 먼저 언급\\n\\n與, 내달 2...</td>\n",
              "      <td>3</td>\n",
              "    </tr>\n",
              "    <tr>\n",
              "      <th>1854</th>\n",
              "      <td>20201122</td>\n",
              "      <td>이랜드 그룹 랜섬웨어 공격에 도내 뉴코아 NC 등 오프라인 매장 혼란</td>\n",
              "      <td>경제&gt;유통</td>\n",
              "      <td>이랜드,그룹,랜섬웨어,공격,도내,뉴코아,NC,혼란,오프라인,매장,22일,이랜드,그룹...</td>\n",
              "      <td>아울렛 뉴코아 이랜드 킴스클럽 nc백화점 오프라인 동수원 nc 백화점 휴대폰 랜섬웨...</td>\n",
              "      <td>22일 새벽 이랜드 그룹 사내 네트워크가 랜섬웨어 공격을 받으면서 오프라인 매장에서...</td>\n",
              "      <td>24</td>\n",
              "    </tr>\n",
              "    <tr>\n",
              "      <th>7555</th>\n",
              "      <td>20201127</td>\n",
              "      <td>中 위안화고시환율 6.5755위안 0.04%↓</td>\n",
              "      <td>국제&gt;중국</td>\n",
              "      <td>6.5755위안,위안화,고시,환율,위안,0.04%,인민은행,중국,위안화,절상고시,인...</td>\n",
              "      <td>위안화 인민은행 중국 절상고시 고시 위안 환율 거래 달러 이날 기준 절상 대비 전장</td>\n",
              "      <td>[아시아경제 권재희 기자] 27일 중국 인민은행은 위안화를 절상고시했다. 인민은행은...</td>\n",
              "      <td>1</td>\n",
              "    </tr>\n",
              "    <tr>\n",
              "      <th>1117</th>\n",
              "      <td>20191128</td>\n",
              "      <td>정치개혁 울산시민행동, 패스트트랙 처리 촉구</td>\n",
              "      <td>정치&gt;국회_정당</td>\n",
              "      <td>정치,개혁,울산,시민,행동,촉구,패스트,트랙,처리,정치,개혁,울산,시민,행동,보도,...</td>\n",
              "      <td>패스트트랙 본회의 울산시민행동 울산 국회의원 선거제도 공직선거법 국회 처리 개혁 권...</td>\n",
              "      <td>정치개혁 울산시민행동은 28일 보도자료를 통해 \"정치 국회 개혁을 위한 패스트트랙을...</td>\n",
              "      <td>3</td>\n",
              "    </tr>\n",
              "    <tr>\n",
              "      <th>17184</th>\n",
              "      <td>20201120</td>\n",
              "      <td>SR, 역사 안내문 응급장비 사용법 수어 안내 제공</td>\n",
              "      <td>IT_과학&gt;모바일</td>\n",
              "      <td>SR,역사,안내문,응급장비,사용법,수어,안내,제공,SR,대표이사,권태명,SRT,역사...</td>\n",
              "      <td>srt 청각장애인 안내문 권태명 사용법 수어통 장애인 응급장비 수서 수어안내 대표이...</td>\n",
              "      <td>[충청투데이 최정우 기자] SR(대표이사 권태명)은 SRT 역사를 이용하는 청각장애...</td>\n",
              "      <td>5</td>\n",
              "    </tr>\n",
              "    <tr>\n",
              "      <th>17608</th>\n",
              "      <td>20191127</td>\n",
              "      <td>대웅제약, 역류성 식도염 신약 임상 3상 완료</td>\n",
              "      <td>IT_과학&gt;과학</td>\n",
              "      <td>대웅제약,3상,역류,식도염,임상,대웅제약,차세대,위식,도역,질환,펙수프라잔,임상,2...</td>\n",
              "      <td>대웅제약 펙수프라잔 위식도역류 식도염 차세대 위식 3상 블록버스터 전승호 파이프라 ...</td>\n",
              "      <td>대웅제약이 차세대 위식도역류질환 신약 ‘펙수프라잔’의 임상 3상을 완료했다고 27일...</td>\n",
              "      <td>34</td>\n",
              "    </tr>\n",
              "    <tr>\n",
              "      <th>18935</th>\n",
              "      <td>20201126</td>\n",
              "      <td>배달앱 10년 치킨집 사장님은 전화기를 없앴다</td>\n",
              "      <td>경제&gt;서비스_쇼핑</td>\n",
              "      <td>배달,치킨집,사장님,전화기,서울,동대문구,18년,치킨집,운영,매장,전화기,1대,10...</td>\n",
              "      <td>배달앱 요기요 쿠팡이츠 전화기 배달통 배민 네이버 수수료 소비자 전단지 다음달 시장...</td>\n",
              "      <td>서울 동대문구에서 18년째 치킨집을 운영하는 A(65)씨는 매장 전화기를 단 1대만...</td>\n",
              "      <td>35</td>\n",
              "    </tr>\n",
              "    <tr>\n",
              "      <th>1765</th>\n",
              "      <td>20201205</td>\n",
              "      <td>바레인도 화이자 코로나19 백신 긴급사용 허용</td>\n",
              "      <td>국제&gt;중국</td>\n",
              "      <td>바레인,코로나19,백신,긴급,사용,허용,바레인,4일,현지시간,화이자,바이오엔테크,감...</td>\n",
              "      <td>바레인 바이오엔테크 코로나19 영국 긴급사용 시노팜 코로나바이러스 뉴욕 중국 제약사...</td>\n",
              "      <td>[아시아경제 뉴욕=백종민 특파원] 바레인이 4일(현지시간) 화이자-바이오엔테크의 신...</td>\n",
              "      <td>1</td>\n",
              "    </tr>\n",
              "    <tr>\n",
              "      <th>18864</th>\n",
              "      <td>20201119</td>\n",
              "      <td>제14회 서덕출 문학상에 한상순 작가</td>\n",
              "      <td>문화&gt;미술_건축</td>\n",
              "      <td>문학상,서덕출,한상순,작가,서덕출,문학상,운영,위원회,서덕출,문학상,수상자,세상,그...</td>\n",
              "      <td>문학상 서덕출 수상자 동시인 한상순 서덕출문학상 위원장 동시집 롯데호텔 황금펜 울산...</td>\n",
              "      <td>서덕출문학상 운영위원회는 '제14회 서덕출문학상' 수상자로 '세상에서 제일 큰 키'...</td>\n",
              "      <td>38</td>\n",
              "    </tr>\n",
              "  </tbody>\n",
              "</table>\n",
              "</div>"
            ],
            "text/plain": [
              "           date  ... label\n",
              "15030  20201126  ...    17\n",
              "12722  20201120  ...     3\n",
              "1854   20201122  ...    24\n",
              "7555   20201127  ...     1\n",
              "1117   20191128  ...     3\n",
              "17184  20201120  ...     5\n",
              "17608  20191127  ...    34\n",
              "18935  20201126  ...    35\n",
              "1765   20201205  ...     1\n",
              "18864  20201119  ...    38\n",
              "\n",
              "[10 rows x 7 columns]"
            ]
          },
          "metadata": {
            "tags": []
          },
          "execution_count": 169
        }
      ]
    },
    {
      "cell_type": "markdown",
      "metadata": {
        "id": "iPwEF9g3-eGM"
      },
      "source": [
        "<br>\n",
        "<br>\n",
        "\n",
        "# **Preprocessing - TRAINING SET**"
      ]
    },
    {
      "cell_type": "code",
      "metadata": {
        "colab": {
          "base_uri": "https://localhost:8080/"
        },
        "id": "YovU0tbx-XBv",
        "outputId": "99f786f9-9b20-4a73-9313-581221677fba"
      },
      "source": [
        "# 문장 추출\n",
        "sentences = train['input'].values\n",
        "sentences[:10]"
      ],
      "execution_count": 170,
      "outputs": [
        {
          "output_type": "execute_result",
          "data": {
            "text/plain": [
              "array(['성장률 코스피 최고치 코로나19 총생산 네이버 삼성에스디아이 엘지화학 셀트리온 반도체 2차 현대차 에스케이하이닉스 코스닥 비대면 삼성바이오로직스 순매도 삼성전자 대형주들 5274억 2600선 한국은행 엘지생활건강 대형주 혼조세 상승세 2575억 2516억 외국인 이틀만 코스피지수 gdp',\n",
              "       '공수처 민주당 공수처법 헌법재판소 정기국회 위원회 법사위 이낙연 의원들 본회의 개정안 법무부 법제사법위원회 추미애 국회법 간담회 김태년 원내대표 박주민',\n",
              "       '아울렛 뉴코아 이랜드 킴스클럽 nc백화점 오프라인 동수원 nc 백화점 휴대폰 랜섬웨어 네트워크 고객들 관계자 양효원기자킴스클럽 널점',\n",
              "       '위안화 인민은행 중국 절상고시 고시 위안 환율 거래 달러 이날 기준 절상 대비 전장',\n",
              "       '패스트트랙 본회의 울산시민행동 울산 국회의원 선거제도 공직선거법 국회 처리 개혁 권력 선거 행동 정치 트랙 촉구 반영 민심 신속 패스트 전횡 특혜 부패 비례 시작 보도 대표 인원 집중 연동 제도 자료 포함 시민 주장 부의 법안 강조',\n",
              "       'srt 청각장애인 안내문 권태명 사용법 수어통 장애인 응급장비 수서 수어안내 대표이사 교통약자 제세동기 동탄 지제역 소화기 자동제세동기 고객준수사항 쉼터 sr 서비스 역사 이용 안내 수어 고객 마크 메뉴 렌즈 대상 장비 대표',\n",
              "       '대웅제약 펙수프라잔 위식도역류 식도염 차세대 위식 3상 블록버스터 전승호 파이프라 프로톤펌프억제제 연구개발 주야간 가역 양성자펌프 중국 프로톤 적응증 가역적 경상 부작용 가시화 미국',\n",
              "       '배달앱 요기요 쿠팡이츠 전화기 배달통 배민 네이버 수수료 소비자 전단지 다음달 시장점유율 결제도 정액제 치킨집 음식점 최소주문금액 1위 결제액 배달비 dh',\n",
              "       '바레인 바이오엔테크 코로나19 영국 긴급사용 시노팜 코로나바이러스 뉴욕 중국 제약사 화이자 감염증 통신사 의료진 ap 백종민 ap통신 bna 백신 승인 사용 긴급 허용 관영 신종 이날 통신 현지 철저 시간 검토 데이터 국가',\n",
              "       '문학상 서덕출 수상자 동시인 한상순 서덕출문학상 위원장 동시집 롯데호텔 황금펜 울산 그동안 자유문학 지원금 시상식 도서출판 독자들 안나영 한국아동문학인협회장 문학정신 한국아동문학인협 신인상 울산아동문학 울산아동문학회장 선정이유 이창건 수상작 풀꽃 아동문학상 박선미 김진영 김이삭'],\n",
              "      dtype=object)"
            ]
          },
          "metadata": {
            "tags": []
          },
          "execution_count": 170
        }
      ]
    },
    {
      "cell_type": "code",
      "metadata": {
        "colab": {
          "base_uri": "https://localhost:8080/"
        },
        "id": "kyVyVh3d-ifJ",
        "outputId": "b73f3be6-d5df-42b8-b504-be298244be4d"
      },
      "source": [
        "# 라벨 추출\n",
        "labels = list(map(str, train['label'].values))\n",
        "labels[:10]"
      ],
      "execution_count": 171,
      "outputs": [
        {
          "output_type": "execute_result",
          "data": {
            "text/plain": [
              "['17', '3', '24', '1', '3', '5', '34', '35', '1', '38']"
            ]
          },
          "metadata": {
            "tags": []
          },
          "execution_count": 171
        }
      ]
    },
    {
      "cell_type": "code",
      "metadata": {
        "id": "EIdPrTGb-lc5"
      },
      "source": [
        "train_dataset = pd.DataFrame({'sentence': sentences, 'label': labels}, columns=['sentence', 'label'])"
      ],
      "execution_count": 172,
      "outputs": []
    },
    {
      "cell_type": "markdown",
      "metadata": {
        "id": "kqpn940jCeaC"
      },
      "source": [
        "<br>\n",
        "<br>\n",
        "\n",
        "# **Preprocessing - TEST SET**"
      ]
    },
    {
      "cell_type": "code",
      "metadata": {
        "colab": {
          "base_uri": "https://localhost:8080/"
        },
        "id": "P8R9JzBBBxNs",
        "outputId": "bd16d983-ee56-4472-8c80-bae26296a7b7"
      },
      "source": [
        "# 문장 추출\n",
        "sentences = test['input'].values\n",
        "sentences[:10]"
      ],
      "execution_count": 173,
      "outputs": [
        {
          "output_type": "execute_result",
          "data": {
            "text/plain": [
              "array(['민주당 중대재해기업처벌법 산안법 형사처벌 처벌법 개정안 과징금 정책위 위원회 소상공인 3명 사업주 이낙연 정기국회 지도부 본회의 책임자 의원실',\n",
              "       '임대주택 오스트리아 김현미 임대료 기숙사 월평균 만큼 000호',\n",
              "       '혜민스님 혜민스 1000만 미국 종교학 서울 힐링 어린이들 직지사 해인사 뉴욕 서용건설 이관수 무소유 누리꾼 대한불교 조계종 대한불교조계종 미술품 위스타트 full 남산뷰',\n",
              "       '김정은 홍콩 사업가 심재경 중국 서울 동갑내기 여배우 이젠 시청자 재경이 자작극 외도 결혼생활 수동적 장면들 전문가 미국 조력자 소드 그동안 mbn 넷플릭스 전무후무 서면 전문가적 잔혹극 달달',\n",
              "       '서해 정찰기 nll 관계자 경고사격 소청 경기도 백령도 군용기 김정은 만큼 리벳 비행술 합동참모본부',\n",
              "       '이근규 기념회 소시민들 충북 제천문화회관 출판기념회 제천 사람들 페이스북 에세 북콘서트 포토에세 사진들 대공연장 이야기들 안산 그동안 단양 sns 시간date 제종길 시장 현장 이야기 사람 참사 소통 고향 시민 세월 응원 관심 자리 포토 추천 열정 사진 중심 진행 참석',\n",
              "       '코웨이 경쟁력 신뢰성 안전성 센터장 시험법 정선용 만큼 한국표준협회 한국 시험표준 표준원 전문성 안정성 경영성과 자원부 만족도 일상생활 고객만족도 최우선 품질경영 시험소',\n",
              "       '미국 코로나19 사망자 확진자 존스홉킨스대 10만 레드필드 로버트 코비드 코로나바이러스 cnn 804명 미국구급차협회 보건복지부',\n",
              "       '사업부 전문가 부행장 ai 농협은행 우리은행 국민은행 순혈주의 kb 부문장 kb국민은행 이상래 이우열 디지털금융그룹장 추진단 ict',\n",
              "       '독일 중국 피셔 미국 한국 부총리 녹색당 이스라엘 남북관계 남북한 요슈카 외무장관 인천 시진핑 남북물류 인천국제해양 가능성 연립정부'],\n",
              "      dtype=object)"
            ]
          },
          "metadata": {
            "tags": []
          },
          "execution_count": 173
        }
      ]
    },
    {
      "cell_type": "code",
      "metadata": {
        "colab": {
          "base_uri": "https://localhost:8080/"
        },
        "id": "WGyfpT37C5r-",
        "outputId": "7e3dbd86-8525-4441-d258-7e533555b4e9"
      },
      "source": [
        "# 라벨 추출\n",
        "labels = list(map(str, test['label'].values))\n",
        "labels[:10]"
      ],
      "execution_count": 174,
      "outputs": [
        {
          "output_type": "execute_result",
          "data": {
            "text/plain": [
              "['3', '37', '51', '0', '49', '25', '50', '13', '28', '49']"
            ]
          },
          "metadata": {
            "tags": []
          },
          "execution_count": 174
        }
      ]
    },
    {
      "cell_type": "code",
      "metadata": {
        "id": "EFzXCEXAC7Qb"
      },
      "source": [
        "test_dataset = pd.DataFrame({'sentence': sentences, 'label': labels}, columns=['sentence', 'label'])"
      ],
      "execution_count": 175,
      "outputs": []
    },
    {
      "cell_type": "code",
      "metadata": {
        "id": "pfPac-so3fhU"
      },
      "source": [
        "dataset_train = train_dataset.values\n",
        "dataset_test = test_dataset.values"
      ],
      "execution_count": 176,
      "outputs": []
    },
    {
      "cell_type": "code",
      "metadata": {
        "id": "GGpdCptk3fhV",
        "colab": {
          "base_uri": "https://localhost:8080/"
        },
        "outputId": "ca183696-c94a-4592-cf66-d8cc3dd7b956"
      },
      "source": [
        "tokenizer = get_tokenizer()\n",
        "tok = nlp.data.BERTSPTokenizer(tokenizer, vocab, lower=False)"
      ],
      "execution_count": 177,
      "outputs": [
        {
          "output_type": "stream",
          "text": [
            "using cached model\n"
          ],
          "name": "stdout"
        }
      ]
    },
    {
      "cell_type": "code",
      "metadata": {
        "id": "0PuofiyC3fhV"
      },
      "source": [
        "class BERTDataset(Dataset):\n",
        "    def __init__(self, dataset, sent_idx, label_idx, bert_tokenizer, max_len,\n",
        "                 pad, pair):\n",
        "        transform = nlp.data.BERTSentenceTransform(\n",
        "            bert_tokenizer, max_seq_length=max_len, pad=pad, pair=pair)\n",
        "\n",
        "        self.sentences = []\n",
        "        self.labels = []\n",
        "        \n",
        "        for i in dataset:\n",
        "            try:\n",
        "                self.sentences.append(transform([i[sent_idx]]))\n",
        "                self.labels.append(np.int32(i[label_idx]))\n",
        "            except Exception as e:\n",
        "                print(e)\n",
        "                print(len(self.sentences), len(self.labels))\n",
        "\n",
        "    def __getitem__(self, i):\n",
        "        return (self.sentences[i] + (self.labels[i], ))\n",
        "\n",
        "    def __len__(self):\n",
        "        return (len(self.labels))\n"
      ],
      "execution_count": 178,
      "outputs": []
    },
    {
      "cell_type": "code",
      "metadata": {
        "id": "fzHSlaRL3fhX"
      },
      "source": [
        "## Setting parameters\n",
        "max_len = 128\n",
        "batch_size = 64\n",
        "warmup_ratio = 0.1\n",
        "num_epochs = 5\n",
        "max_grad_norm = 1\n",
        "log_interval = 200\n",
        "learning_rate =  5e-5"
      ],
      "execution_count": 179,
      "outputs": []
    },
    {
      "cell_type": "code",
      "metadata": {
        "id": "C6-5cIr_3fhX",
        "colab": {
          "base_uri": "https://localhost:8080/"
        },
        "outputId": "7d109496-869a-4763-8b42-21d6a1c0d5f7"
      },
      "source": [
        "data_train = BERTDataset(dataset_train, 0, 1, tok, max_len, True, False)\n",
        "data_test = BERTDataset(dataset_test, 0, 1, tok, max_len, True, False)"
      ],
      "execution_count": 180,
      "outputs": [
        {
          "output_type": "stream",
          "text": [
            "Argument 'text' has incorrect type (expected str, got float)\n",
            "8815 8815\n",
            "Argument 'text' has incorrect type (expected str, got float)\n",
            "10674 10674\n",
            "Argument 'text' has incorrect type (expected str, got float)\n",
            "24388 24388\n",
            "Argument 'text' has incorrect type (expected str, got float)\n",
            "28076 28076\n",
            "Argument 'text' has incorrect type (expected str, got float)\n",
            "35233 35233\n",
            "Argument 'text' has incorrect type (expected str, got float)\n",
            "4030 4030\n",
            "Argument 'text' has incorrect type (expected str, got float)\n",
            "9016 9016\n"
          ],
          "name": "stdout"
        }
      ]
    },
    {
      "cell_type": "code",
      "metadata": {
        "id": "cKi6diKg3fhY"
      },
      "source": [
        "train_dataloader = torch.utils.data.DataLoader(data_train, batch_size=batch_size, num_workers=5)\n",
        "test_dataloader = torch.utils.data.DataLoader(data_test, batch_size=batch_size, num_workers=5)"
      ],
      "execution_count": 181,
      "outputs": []
    },
    {
      "cell_type": "code",
      "metadata": {
        "id": "vyQwm0IX3fhY"
      },
      "source": [
        "class BERTClassifier(nn.Module):\n",
        "    def __init__(self,\n",
        "                 bert,\n",
        "                 hidden_size = 768,\n",
        "                 num_classes=NUM_LABELS,\n",
        "                 dr_rate=None,\n",
        "                 params=None):\n",
        "        super(BERTClassifier, self).__init__()\n",
        "        self.bert = bert\n",
        "        self.dr_rate = dr_rate\n",
        "                 \n",
        "        self.classifier = nn.Linear(hidden_size , num_classes)\n",
        "        if dr_rate:\n",
        "            self.dropout = nn.Dropout(p=dr_rate)\n",
        "    \n",
        "    def gen_attention_mask(self, token_ids, valid_length):\n",
        "        attention_mask = torch.zeros_like(token_ids)\n",
        "        for i, v in enumerate(valid_length):\n",
        "            attention_mask[i][:v] = 1\n",
        "        return attention_mask.float()\n",
        "\n",
        "    def forward(self, token_ids, valid_length, segment_ids):\n",
        "        attention_mask = self.gen_attention_mask(token_ids, valid_length)\n",
        "        \n",
        "        _, pooler = self.bert(input_ids = token_ids, token_type_ids = segment_ids.long(), attention_mask = attention_mask.float().to(token_ids.device))\n",
        "        if self.dr_rate:\n",
        "            out = self.dropout(pooler)\n",
        "        return self.classifier(out)"
      ],
      "execution_count": 182,
      "outputs": []
    },
    {
      "cell_type": "code",
      "metadata": {
        "id": "pVHEkGhZ3fhY"
      },
      "source": [
        "model = BERTClassifier(bertmodel,  dr_rate=0.5).to(device)"
      ],
      "execution_count": 183,
      "outputs": []
    },
    {
      "cell_type": "code",
      "metadata": {
        "id": "yJioktR-3fhY"
      },
      "source": [
        "# Prepare optimizer and schedule (linear warmup and decay)\n",
        "no_decay = ['bias', 'LayerNorm.weight']\n",
        "optimizer_grouped_parameters = [\n",
        "    {'params': [p for n, p in model.named_parameters() if not any(nd in n for nd in no_decay)], 'weight_decay': 0.01},\n",
        "    {'params': [p for n, p in model.named_parameters() if any(nd in n for nd in no_decay)], 'weight_decay': 0.0}\n",
        "]"
      ],
      "execution_count": 184,
      "outputs": []
    },
    {
      "cell_type": "code",
      "metadata": {
        "id": "q52RGVwE3fhZ"
      },
      "source": [
        "optimizer = AdamW(optimizer_grouped_parameters, lr=learning_rate)\n",
        "loss_fn = nn.CrossEntropyLoss()"
      ],
      "execution_count": 185,
      "outputs": []
    },
    {
      "cell_type": "code",
      "metadata": {
        "id": "2otUyqVz3fhb"
      },
      "source": [
        "t_total = len(train_dataloader) * num_epochs\n",
        "warmup_step = int(t_total * warmup_ratio)"
      ],
      "execution_count": 186,
      "outputs": []
    },
    {
      "cell_type": "code",
      "metadata": {
        "id": "_Bm2FUER3fhb"
      },
      "source": [
        "scheduler = get_cosine_schedule_with_warmup(optimizer, num_warmup_steps=warmup_step, num_training_steps=t_total)"
      ],
      "execution_count": 187,
      "outputs": []
    },
    {
      "cell_type": "code",
      "metadata": {
        "id": "Q4mZE95c3fhb"
      },
      "source": [
        "def calc_accuracy(X,Y):\n",
        "    max_vals, max_indices = torch.max(X, 1)\n",
        "    train_acc = (max_indices == Y).sum().data.cpu().numpy()/max_indices.size()[0]\n",
        "    return train_acc"
      ],
      "execution_count": 188,
      "outputs": []
    },
    {
      "cell_type": "code",
      "metadata": {
        "id": "bqabA3z43fhc",
        "colab": {
          "base_uri": "https://localhost:8080/",
          "height": 424,
          "referenced_widgets": [
            "e0559a33597c4ebeb38f88af63f091a0",
            "81463ecbb3b9444b8fdaed67cd790cec",
            "2d4b0882305b40bfb87c5a062368e81e",
            "2fc06b91e9934cafaada6a83ddcde9c7",
            "b76c956c22014607907ccdaf3c9370e8",
            "f881696b8e044752adce3c11530de493",
            "428c9d5aa70044e299424f978be44a33",
            "c4a27d438c154592a0c0887848138fb0"
          ]
        },
        "outputId": "d81a951e-729c-4ebd-9404-91163870b1a1"
      },
      "source": [
        "for e in range(num_epochs):\n",
        "    train_acc = 0.0\n",
        "    test_acc = 0.0\n",
        "    model.train()\n",
        "    for batch_id, (token_ids, valid_length, segment_ids, label) in enumerate(notebook.tqdm(train_dataloader)):\n",
        "        optimizer.zero_grad()\n",
        "        token_ids = token_ids.long().to(device)\n",
        "        segment_ids = segment_ids.long().to(device)\n",
        "        valid_length= valid_length\n",
        "        label = label.long().to(device)\n",
        "        out = model(token_ids, valid_length, segment_ids)\n",
        "        loss = loss_fn(out, label)\n",
        "        loss.backward()\n",
        "        torch.nn.utils.clip_grad_norm_(model.parameters(), max_grad_norm)\n",
        "        optimizer.step()\n",
        "        scheduler.step()  # Update learning rate schedule\n",
        "        train_acc += calc_accuracy(out, label)\n",
        "        if batch_id % log_interval == 0:\n",
        "            print(\"epoch {} batch id {} loss {} train acc {}\".format(e+1, batch_id+1, loss.data.cpu().numpy(), train_acc / (batch_id+1)))\n",
        "    print(\"epoch {} train acc {}\".format(e+1, train_acc / (batch_id+1)))\n",
        "    model.eval()\n",
        "    for batch_id, (token_ids, valid_length, segment_ids, label) in enumerate(notebook.tqdm(test_dataloader)):\n",
        "        token_ids = token_ids.long().to(device)\n",
        "        segment_ids = segment_ids.long().to(device)\n",
        "        valid_length= valid_length\n",
        "        label = label.long().to(device)\n",
        "        out = model(token_ids, valid_length, segment_ids)\n",
        "        test_acc += calc_accuracy(out, label)\n",
        "    print(\"epoch {} test acc {}\".format(e+1, test_acc / (batch_id+1)))"
      ],
      "execution_count": 189,
      "outputs": [
        {
          "output_type": "display_data",
          "data": {
            "application/vnd.jupyter.widget-view+json": {
              "model_id": "e0559a33597c4ebeb38f88af63f091a0",
              "version_minor": 0,
              "version_major": 2
            },
            "text/plain": [
              "HBox(children=(FloatProgress(value=0.0, max=606.0), HTML(value='')))"
            ]
          },
          "metadata": {
            "tags": []
          }
        },
        {
          "output_type": "stream",
          "text": [
            "\n"
          ],
          "name": "stdout"
        },
        {
          "output_type": "error",
          "ename": "TypeError",
          "evalue": "ignored",
          "traceback": [
            "\u001b[0;31m---------------------------------------------------------------------------\u001b[0m",
            "\u001b[0;31mTypeError\u001b[0m                                 Traceback (most recent call last)",
            "\u001b[0;32m<ipython-input-189-5dfb6f925122>\u001b[0m in \u001b[0;36m<module>\u001b[0;34m()\u001b[0m\n\u001b[1;32m      9\u001b[0m         \u001b[0mvalid_length\u001b[0m\u001b[0;34m=\u001b[0m \u001b[0mvalid_length\u001b[0m\u001b[0;34m\u001b[0m\u001b[0;34m\u001b[0m\u001b[0m\n\u001b[1;32m     10\u001b[0m         \u001b[0mlabel\u001b[0m \u001b[0;34m=\u001b[0m \u001b[0mlabel\u001b[0m\u001b[0;34m.\u001b[0m\u001b[0mlong\u001b[0m\u001b[0;34m(\u001b[0m\u001b[0;34m)\u001b[0m\u001b[0;34m.\u001b[0m\u001b[0mto\u001b[0m\u001b[0;34m(\u001b[0m\u001b[0mdevice\u001b[0m\u001b[0;34m)\u001b[0m\u001b[0;34m\u001b[0m\u001b[0;34m\u001b[0m\u001b[0m\n\u001b[0;32m---> 11\u001b[0;31m         \u001b[0mout\u001b[0m \u001b[0;34m=\u001b[0m \u001b[0mmodel\u001b[0m\u001b[0;34m(\u001b[0m\u001b[0mtoken_ids\u001b[0m\u001b[0;34m,\u001b[0m \u001b[0mvalid_length\u001b[0m\u001b[0;34m,\u001b[0m \u001b[0msegment_ids\u001b[0m\u001b[0;34m)\u001b[0m\u001b[0;34m\u001b[0m\u001b[0;34m\u001b[0m\u001b[0m\n\u001b[0m\u001b[1;32m     12\u001b[0m         \u001b[0mloss\u001b[0m \u001b[0;34m=\u001b[0m \u001b[0mloss_fn\u001b[0m\u001b[0;34m(\u001b[0m\u001b[0mout\u001b[0m\u001b[0;34m,\u001b[0m \u001b[0mlabel\u001b[0m\u001b[0;34m)\u001b[0m\u001b[0;34m\u001b[0m\u001b[0;34m\u001b[0m\u001b[0m\n\u001b[1;32m     13\u001b[0m         \u001b[0mloss\u001b[0m\u001b[0;34m.\u001b[0m\u001b[0mbackward\u001b[0m\u001b[0;34m(\u001b[0m\u001b[0;34m)\u001b[0m\u001b[0;34m\u001b[0m\u001b[0;34m\u001b[0m\u001b[0m\n",
            "\u001b[0;32m/usr/local/lib/python3.6/dist-packages/torch/nn/modules/module.py\u001b[0m in \u001b[0;36m_call_impl\u001b[0;34m(self, *input, **kwargs)\u001b[0m\n\u001b[1;32m    725\u001b[0m             \u001b[0mresult\u001b[0m \u001b[0;34m=\u001b[0m \u001b[0mself\u001b[0m\u001b[0;34m.\u001b[0m\u001b[0m_slow_forward\u001b[0m\u001b[0;34m(\u001b[0m\u001b[0;34m*\u001b[0m\u001b[0minput\u001b[0m\u001b[0;34m,\u001b[0m \u001b[0;34m**\u001b[0m\u001b[0mkwargs\u001b[0m\u001b[0;34m)\u001b[0m\u001b[0;34m\u001b[0m\u001b[0;34m\u001b[0m\u001b[0m\n\u001b[1;32m    726\u001b[0m         \u001b[0;32melse\u001b[0m\u001b[0;34m:\u001b[0m\u001b[0;34m\u001b[0m\u001b[0;34m\u001b[0m\u001b[0m\n\u001b[0;32m--> 727\u001b[0;31m             \u001b[0mresult\u001b[0m \u001b[0;34m=\u001b[0m \u001b[0mself\u001b[0m\u001b[0;34m.\u001b[0m\u001b[0mforward\u001b[0m\u001b[0;34m(\u001b[0m\u001b[0;34m*\u001b[0m\u001b[0minput\u001b[0m\u001b[0;34m,\u001b[0m \u001b[0;34m**\u001b[0m\u001b[0mkwargs\u001b[0m\u001b[0;34m)\u001b[0m\u001b[0;34m\u001b[0m\u001b[0;34m\u001b[0m\u001b[0m\n\u001b[0m\u001b[1;32m    728\u001b[0m         for hook in itertools.chain(\n\u001b[1;32m    729\u001b[0m                 \u001b[0m_global_forward_hooks\u001b[0m\u001b[0;34m.\u001b[0m\u001b[0mvalues\u001b[0m\u001b[0;34m(\u001b[0m\u001b[0;34m)\u001b[0m\u001b[0;34m,\u001b[0m\u001b[0;34m\u001b[0m\u001b[0;34m\u001b[0m\u001b[0m\n",
            "\u001b[0;32m<ipython-input-182-ee3fec5f21d3>\u001b[0m in \u001b[0;36mforward\u001b[0;34m(self, token_ids, valid_length, segment_ids)\u001b[0m\n\u001b[1;32m     25\u001b[0m         \u001b[0m_\u001b[0m\u001b[0;34m,\u001b[0m \u001b[0mpooler\u001b[0m \u001b[0;34m=\u001b[0m \u001b[0mself\u001b[0m\u001b[0;34m.\u001b[0m\u001b[0mbert\u001b[0m\u001b[0;34m(\u001b[0m\u001b[0minput_ids\u001b[0m \u001b[0;34m=\u001b[0m \u001b[0mtoken_ids\u001b[0m\u001b[0;34m,\u001b[0m \u001b[0mtoken_type_ids\u001b[0m \u001b[0;34m=\u001b[0m \u001b[0msegment_ids\u001b[0m\u001b[0;34m.\u001b[0m\u001b[0mlong\u001b[0m\u001b[0;34m(\u001b[0m\u001b[0;34m)\u001b[0m\u001b[0;34m,\u001b[0m \u001b[0mattention_mask\u001b[0m \u001b[0;34m=\u001b[0m \u001b[0mattention_mask\u001b[0m\u001b[0;34m.\u001b[0m\u001b[0mfloat\u001b[0m\u001b[0;34m(\u001b[0m\u001b[0;34m)\u001b[0m\u001b[0;34m.\u001b[0m\u001b[0mto\u001b[0m\u001b[0;34m(\u001b[0m\u001b[0mtoken_ids\u001b[0m\u001b[0;34m.\u001b[0m\u001b[0mdevice\u001b[0m\u001b[0;34m)\u001b[0m\u001b[0;34m)\u001b[0m\u001b[0;34m\u001b[0m\u001b[0;34m\u001b[0m\u001b[0m\n\u001b[1;32m     26\u001b[0m         \u001b[0;32mif\u001b[0m \u001b[0mself\u001b[0m\u001b[0;34m.\u001b[0m\u001b[0mdr_rate\u001b[0m\u001b[0;34m:\u001b[0m\u001b[0;34m\u001b[0m\u001b[0;34m\u001b[0m\u001b[0m\n\u001b[0;32m---> 27\u001b[0;31m             \u001b[0mout\u001b[0m \u001b[0;34m=\u001b[0m \u001b[0mself\u001b[0m\u001b[0;34m.\u001b[0m\u001b[0mdropout\u001b[0m\u001b[0;34m(\u001b[0m\u001b[0mpooler\u001b[0m\u001b[0;34m)\u001b[0m\u001b[0;34m\u001b[0m\u001b[0;34m\u001b[0m\u001b[0m\n\u001b[0m\u001b[1;32m     28\u001b[0m         \u001b[0;32mreturn\u001b[0m \u001b[0mself\u001b[0m\u001b[0;34m.\u001b[0m\u001b[0mclassifier\u001b[0m\u001b[0;34m(\u001b[0m\u001b[0mout\u001b[0m\u001b[0;34m)\u001b[0m\u001b[0;34m\u001b[0m\u001b[0;34m\u001b[0m\u001b[0m\n",
            "\u001b[0;32m/usr/local/lib/python3.6/dist-packages/torch/nn/modules/module.py\u001b[0m in \u001b[0;36m_call_impl\u001b[0;34m(self, *input, **kwargs)\u001b[0m\n\u001b[1;32m    725\u001b[0m             \u001b[0mresult\u001b[0m \u001b[0;34m=\u001b[0m \u001b[0mself\u001b[0m\u001b[0;34m.\u001b[0m\u001b[0m_slow_forward\u001b[0m\u001b[0;34m(\u001b[0m\u001b[0;34m*\u001b[0m\u001b[0minput\u001b[0m\u001b[0;34m,\u001b[0m \u001b[0;34m**\u001b[0m\u001b[0mkwargs\u001b[0m\u001b[0;34m)\u001b[0m\u001b[0;34m\u001b[0m\u001b[0;34m\u001b[0m\u001b[0m\n\u001b[1;32m    726\u001b[0m         \u001b[0;32melse\u001b[0m\u001b[0;34m:\u001b[0m\u001b[0;34m\u001b[0m\u001b[0;34m\u001b[0m\u001b[0m\n\u001b[0;32m--> 727\u001b[0;31m             \u001b[0mresult\u001b[0m \u001b[0;34m=\u001b[0m \u001b[0mself\u001b[0m\u001b[0;34m.\u001b[0m\u001b[0mforward\u001b[0m\u001b[0;34m(\u001b[0m\u001b[0;34m*\u001b[0m\u001b[0minput\u001b[0m\u001b[0;34m,\u001b[0m \u001b[0;34m**\u001b[0m\u001b[0mkwargs\u001b[0m\u001b[0;34m)\u001b[0m\u001b[0;34m\u001b[0m\u001b[0;34m\u001b[0m\u001b[0m\n\u001b[0m\u001b[1;32m    728\u001b[0m         for hook in itertools.chain(\n\u001b[1;32m    729\u001b[0m                 \u001b[0m_global_forward_hooks\u001b[0m\u001b[0;34m.\u001b[0m\u001b[0mvalues\u001b[0m\u001b[0;34m(\u001b[0m\u001b[0;34m)\u001b[0m\u001b[0;34m,\u001b[0m\u001b[0;34m\u001b[0m\u001b[0;34m\u001b[0m\u001b[0m\n",
            "\u001b[0;32m/usr/local/lib/python3.6/dist-packages/torch/nn/modules/dropout.py\u001b[0m in \u001b[0;36mforward\u001b[0;34m(self, input)\u001b[0m\n\u001b[1;32m     56\u001b[0m \u001b[0;34m\u001b[0m\u001b[0m\n\u001b[1;32m     57\u001b[0m     \u001b[0;32mdef\u001b[0m \u001b[0mforward\u001b[0m\u001b[0;34m(\u001b[0m\u001b[0mself\u001b[0m\u001b[0;34m,\u001b[0m \u001b[0minput\u001b[0m\u001b[0;34m:\u001b[0m \u001b[0mTensor\u001b[0m\u001b[0;34m)\u001b[0m \u001b[0;34m->\u001b[0m \u001b[0mTensor\u001b[0m\u001b[0;34m:\u001b[0m\u001b[0;34m\u001b[0m\u001b[0;34m\u001b[0m\u001b[0m\n\u001b[0;32m---> 58\u001b[0;31m         \u001b[0;32mreturn\u001b[0m \u001b[0mF\u001b[0m\u001b[0;34m.\u001b[0m\u001b[0mdropout\u001b[0m\u001b[0;34m(\u001b[0m\u001b[0minput\u001b[0m\u001b[0;34m,\u001b[0m \u001b[0mself\u001b[0m\u001b[0;34m.\u001b[0m\u001b[0mp\u001b[0m\u001b[0;34m,\u001b[0m \u001b[0mself\u001b[0m\u001b[0;34m.\u001b[0m\u001b[0mtraining\u001b[0m\u001b[0;34m,\u001b[0m \u001b[0mself\u001b[0m\u001b[0;34m.\u001b[0m\u001b[0minplace\u001b[0m\u001b[0;34m)\u001b[0m\u001b[0;34m\u001b[0m\u001b[0;34m\u001b[0m\u001b[0m\n\u001b[0m\u001b[1;32m     59\u001b[0m \u001b[0;34m\u001b[0m\u001b[0m\n\u001b[1;32m     60\u001b[0m \u001b[0;34m\u001b[0m\u001b[0m\n",
            "\u001b[0;32m/usr/local/lib/python3.6/dist-packages/torch/nn/functional.py\u001b[0m in \u001b[0;36mdropout\u001b[0;34m(input, p, training, inplace)\u001b[0m\n\u001b[1;32m    981\u001b[0m     return (_VF.dropout_(input, p, training)\n\u001b[1;32m    982\u001b[0m             \u001b[0;32mif\u001b[0m \u001b[0minplace\u001b[0m\u001b[0;34m\u001b[0m\u001b[0;34m\u001b[0m\u001b[0m\n\u001b[0;32m--> 983\u001b[0;31m             else _VF.dropout(input, p, training))\n\u001b[0m\u001b[1;32m    984\u001b[0m \u001b[0;34m\u001b[0m\u001b[0m\n\u001b[1;32m    985\u001b[0m \u001b[0;34m\u001b[0m\u001b[0m\n",
            "\u001b[0;31mTypeError\u001b[0m: dropout(): argument 'input' (position 1) must be Tensor, not str"
          ]
        }
      ]
    },
    {
      "cell_type": "code",
      "metadata": {
        "id": "IlrEZiOMII4N"
      },
      "source": [
        ""
      ],
      "execution_count": null,
      "outputs": []
    },
    {
      "cell_type": "code",
      "metadata": {
        "id": "0pm8P_SXH9FL"
      },
      "source": [
        ""
      ],
      "execution_count": null,
      "outputs": []
    }
  ]
}