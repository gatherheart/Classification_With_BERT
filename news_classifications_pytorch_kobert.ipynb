{
  "nbformat": 4,
  "nbformat_minor": 0,
  "metadata": {
    "kernelspec": {
      "display_name": "Python 3",
      "language": "python",
      "name": "python3"
    },
    "language_info": {
      "codemirror_mode": {
        "name": "ipython",
        "version": 3
      },
      "file_extension": ".py",
      "mimetype": "text/x-python",
      "name": "python",
      "nbconvert_exporter": "python",
      "pygments_lexer": "ipython3",
      "version": "3.7.6-final"
    },
    "colab": {
      "name": "news_classifications_pytorch_kobert.ipynb",
      "provenance": [],
      "collapsed_sections": [],
      "toc_visible": true,
      "machine_shape": "hm",
      "include_colab_link": true
    },
    "accelerator": "GPU",
    "widgets": {
      "application/vnd.jupyter.widget-state+json": {
        "0ab7130d14a34bffb1ca4355491ac1c9": {
          "model_module": "@jupyter-widgets/controls",
          "model_name": "HBoxModel",
          "state": {
            "_view_name": "HBoxView",
            "_dom_classes": [],
            "_model_name": "HBoxModel",
            "_view_module": "@jupyter-widgets/controls",
            "_model_module_version": "1.5.0",
            "_view_count": null,
            "_view_module_version": "1.5.0",
            "box_style": "",
            "layout": "IPY_MODEL_0a9ee955f7194fa49fa22e5fcaa00b00",
            "_model_module": "@jupyter-widgets/controls",
            "children": [
              "IPY_MODEL_ab067b8b1b7144eca4f2484a8c1444a9",
              "IPY_MODEL_eefc488e9c7e4ea5841beda847182510"
            ]
          }
        },
        "0a9ee955f7194fa49fa22e5fcaa00b00": {
          "model_module": "@jupyter-widgets/base",
          "model_name": "LayoutModel",
          "state": {
            "_view_name": "LayoutView",
            "grid_template_rows": null,
            "right": null,
            "justify_content": null,
            "_view_module": "@jupyter-widgets/base",
            "overflow": null,
            "_model_module_version": "1.2.0",
            "_view_count": null,
            "flex_flow": null,
            "width": null,
            "min_width": null,
            "border": null,
            "align_items": null,
            "bottom": null,
            "_model_module": "@jupyter-widgets/base",
            "top": null,
            "grid_column": null,
            "overflow_y": null,
            "overflow_x": null,
            "grid_auto_flow": null,
            "grid_area": null,
            "grid_template_columns": null,
            "flex": null,
            "_model_name": "LayoutModel",
            "justify_items": null,
            "grid_row": null,
            "max_height": null,
            "align_content": null,
            "visibility": null,
            "align_self": null,
            "height": null,
            "min_height": null,
            "padding": null,
            "grid_auto_rows": null,
            "grid_gap": null,
            "max_width": null,
            "order": null,
            "_view_module_version": "1.2.0",
            "grid_template_areas": null,
            "object_position": null,
            "object_fit": null,
            "grid_auto_columns": null,
            "margin": null,
            "display": null,
            "left": null
          }
        },
        "ab067b8b1b7144eca4f2484a8c1444a9": {
          "model_module": "@jupyter-widgets/controls",
          "model_name": "FloatProgressModel",
          "state": {
            "_view_name": "ProgressView",
            "style": "IPY_MODEL_141c2b1e142946e4a20f1ede89eec776",
            "_dom_classes": [],
            "description": " 44%",
            "_model_name": "FloatProgressModel",
            "bar_style": "",
            "max": 606,
            "_view_module": "@jupyter-widgets/controls",
            "_model_module_version": "1.5.0",
            "value": 269,
            "_view_count": null,
            "_view_module_version": "1.5.0",
            "orientation": "horizontal",
            "min": 0,
            "description_tooltip": null,
            "_model_module": "@jupyter-widgets/controls",
            "layout": "IPY_MODEL_5ebd6797b88141d6b6878bfe5f6dbfed"
          }
        },
        "eefc488e9c7e4ea5841beda847182510": {
          "model_module": "@jupyter-widgets/controls",
          "model_name": "HTMLModel",
          "state": {
            "_view_name": "HTMLView",
            "style": "IPY_MODEL_15361f02bcc84ba99350e4629e087de0",
            "_dom_classes": [],
            "description": "",
            "_model_name": "HTMLModel",
            "placeholder": "​",
            "_view_module": "@jupyter-widgets/controls",
            "_model_module_version": "1.5.0",
            "value": " 269/606 [03:17&lt;04:07,  1.36it/s]",
            "_view_count": null,
            "_view_module_version": "1.5.0",
            "description_tooltip": null,
            "_model_module": "@jupyter-widgets/controls",
            "layout": "IPY_MODEL_fd19f9d5614d4b0a8a5cd176a19a403a"
          }
        },
        "141c2b1e142946e4a20f1ede89eec776": {
          "model_module": "@jupyter-widgets/controls",
          "model_name": "ProgressStyleModel",
          "state": {
            "_view_name": "StyleView",
            "_model_name": "ProgressStyleModel",
            "description_width": "initial",
            "_view_module": "@jupyter-widgets/base",
            "_model_module_version": "1.5.0",
            "_view_count": null,
            "_view_module_version": "1.2.0",
            "bar_color": null,
            "_model_module": "@jupyter-widgets/controls"
          }
        },
        "5ebd6797b88141d6b6878bfe5f6dbfed": {
          "model_module": "@jupyter-widgets/base",
          "model_name": "LayoutModel",
          "state": {
            "_view_name": "LayoutView",
            "grid_template_rows": null,
            "right": null,
            "justify_content": null,
            "_view_module": "@jupyter-widgets/base",
            "overflow": null,
            "_model_module_version": "1.2.0",
            "_view_count": null,
            "flex_flow": null,
            "width": null,
            "min_width": null,
            "border": null,
            "align_items": null,
            "bottom": null,
            "_model_module": "@jupyter-widgets/base",
            "top": null,
            "grid_column": null,
            "overflow_y": null,
            "overflow_x": null,
            "grid_auto_flow": null,
            "grid_area": null,
            "grid_template_columns": null,
            "flex": null,
            "_model_name": "LayoutModel",
            "justify_items": null,
            "grid_row": null,
            "max_height": null,
            "align_content": null,
            "visibility": null,
            "align_self": null,
            "height": null,
            "min_height": null,
            "padding": null,
            "grid_auto_rows": null,
            "grid_gap": null,
            "max_width": null,
            "order": null,
            "_view_module_version": "1.2.0",
            "grid_template_areas": null,
            "object_position": null,
            "object_fit": null,
            "grid_auto_columns": null,
            "margin": null,
            "display": null,
            "left": null
          }
        },
        "15361f02bcc84ba99350e4629e087de0": {
          "model_module": "@jupyter-widgets/controls",
          "model_name": "DescriptionStyleModel",
          "state": {
            "_view_name": "StyleView",
            "_model_name": "DescriptionStyleModel",
            "description_width": "",
            "_view_module": "@jupyter-widgets/base",
            "_model_module_version": "1.5.0",
            "_view_count": null,
            "_view_module_version": "1.2.0",
            "_model_module": "@jupyter-widgets/controls"
          }
        },
        "fd19f9d5614d4b0a8a5cd176a19a403a": {
          "model_module": "@jupyter-widgets/base",
          "model_name": "LayoutModel",
          "state": {
            "_view_name": "LayoutView",
            "grid_template_rows": null,
            "right": null,
            "justify_content": null,
            "_view_module": "@jupyter-widgets/base",
            "overflow": null,
            "_model_module_version": "1.2.0",
            "_view_count": null,
            "flex_flow": null,
            "width": null,
            "min_width": null,
            "border": null,
            "align_items": null,
            "bottom": null,
            "_model_module": "@jupyter-widgets/base",
            "top": null,
            "grid_column": null,
            "overflow_y": null,
            "overflow_x": null,
            "grid_auto_flow": null,
            "grid_area": null,
            "grid_template_columns": null,
            "flex": null,
            "_model_name": "LayoutModel",
            "justify_items": null,
            "grid_row": null,
            "max_height": null,
            "align_content": null,
            "visibility": null,
            "align_self": null,
            "height": null,
            "min_height": null,
            "padding": null,
            "grid_auto_rows": null,
            "grid_gap": null,
            "max_width": null,
            "order": null,
            "_view_module_version": "1.2.0",
            "grid_template_areas": null,
            "object_position": null,
            "object_fit": null,
            "grid_auto_columns": null,
            "margin": null,
            "display": null,
            "left": null
          }
        }
      }
    }
  },
  "cells": [
    {
      "cell_type": "markdown",
      "metadata": {
        "id": "view-in-github",
        "colab_type": "text"
      },
      "source": [
        "<a href=\"https://colab.research.google.com/github/gatherheart/Classification_With_BERT/blob/main/news_classifications_pytorch_kobert.ipynb\" target=\"_parent\"><img src=\"https://colab.research.google.com/assets/colab-badge.svg\" alt=\"Open In Colab\"/></a>"
      ]
    },
    {
      "cell_type": "code",
      "metadata": {
        "id": "t3QrgLNn3fhF",
        "colab": {
          "base_uri": "https://localhost:8080/"
        },
        "outputId": "43e6bccf-232c-4828-edee-2891198cfafb"
      },
      "source": [
        "!pip install mxnet\n",
        "!pip install gluonnlp pandas tqdm\n",
        "!pip install sentencepiece\n",
        "!pip install transformers==3\n",
        "!pip install torch"
      ],
      "execution_count": 1,
      "outputs": [
        {
          "output_type": "stream",
          "text": [
            "Collecting mxnet\n",
            "\u001b[?25l  Downloading https://files.pythonhosted.org/packages/29/bb/54cbabe428351c06d10903c658878d29ee7026efbe45133fd133598d6eb6/mxnet-1.7.0.post1-py2.py3-none-manylinux2014_x86_64.whl (55.0MB)\n",
            "\u001b[K     |████████████████████████████████| 55.0MB 103kB/s \n",
            "\u001b[?25hRequirement already satisfied: requests<3,>=2.20.0 in /usr/local/lib/python3.6/dist-packages (from mxnet) (2.23.0)\n",
            "Collecting graphviz<0.9.0,>=0.8.1\n",
            "  Downloading https://files.pythonhosted.org/packages/53/39/4ab213673844e0c004bed8a0781a0721a3f6bb23eb8854ee75c236428892/graphviz-0.8.4-py2.py3-none-any.whl\n",
            "Requirement already satisfied: numpy<2.0.0,>1.16.0 in /usr/local/lib/python3.6/dist-packages (from mxnet) (1.18.5)\n",
            "Requirement already satisfied: chardet<4,>=3.0.2 in /usr/local/lib/python3.6/dist-packages (from requests<3,>=2.20.0->mxnet) (3.0.4)\n",
            "Requirement already satisfied: idna<3,>=2.5 in /usr/local/lib/python3.6/dist-packages (from requests<3,>=2.20.0->mxnet) (2.10)\n",
            "Requirement already satisfied: certifi>=2017.4.17 in /usr/local/lib/python3.6/dist-packages (from requests<3,>=2.20.0->mxnet) (2020.12.5)\n",
            "Requirement already satisfied: urllib3!=1.25.0,!=1.25.1,<1.26,>=1.21.1 in /usr/local/lib/python3.6/dist-packages (from requests<3,>=2.20.0->mxnet) (1.24.3)\n",
            "Installing collected packages: graphviz, mxnet\n",
            "  Found existing installation: graphviz 0.10.1\n",
            "    Uninstalling graphviz-0.10.1:\n",
            "      Successfully uninstalled graphviz-0.10.1\n",
            "Successfully installed graphviz-0.8.4 mxnet-1.7.0.post1\n",
            "Collecting gluonnlp\n",
            "\u001b[?25l  Downloading https://files.pythonhosted.org/packages/9c/81/a238e47ccba0d7a61dcef4e0b4a7fd4473cb86bed3d84dd4fe28d45a0905/gluonnlp-0.10.0.tar.gz (344kB)\n",
            "\u001b[K     |████████████████████████████████| 348kB 8.9MB/s \n",
            "\u001b[?25hRequirement already satisfied: pandas in /usr/local/lib/python3.6/dist-packages (1.1.5)\n",
            "Requirement already satisfied: tqdm in /usr/local/lib/python3.6/dist-packages (4.41.1)\n",
            "Requirement already satisfied: numpy>=1.16.0 in /usr/local/lib/python3.6/dist-packages (from gluonnlp) (1.18.5)\n",
            "Requirement already satisfied: cython in /usr/local/lib/python3.6/dist-packages (from gluonnlp) (0.29.21)\n",
            "Requirement already satisfied: packaging in /usr/local/lib/python3.6/dist-packages (from gluonnlp) (20.7)\n",
            "Requirement already satisfied: python-dateutil>=2.7.3 in /usr/local/lib/python3.6/dist-packages (from pandas) (2.8.1)\n",
            "Requirement already satisfied: pytz>=2017.2 in /usr/local/lib/python3.6/dist-packages (from pandas) (2018.9)\n",
            "Requirement already satisfied: pyparsing>=2.0.2 in /usr/local/lib/python3.6/dist-packages (from packaging->gluonnlp) (2.4.7)\n",
            "Requirement already satisfied: six>=1.5 in /usr/local/lib/python3.6/dist-packages (from python-dateutil>=2.7.3->pandas) (1.15.0)\n",
            "Building wheels for collected packages: gluonnlp\n",
            "  Building wheel for gluonnlp (setup.py) ... \u001b[?25l\u001b[?25hdone\n",
            "  Created wheel for gluonnlp: filename=gluonnlp-0.10.0-cp36-cp36m-linux_x86_64.whl size=588512 sha256=59b65a851accd2442cb00486080a3d66df46c5dc98dc760ef18809203ff036da\n",
            "  Stored in directory: /root/.cache/pip/wheels/37/65/52/63032864a0f31a08b9a88569f803b5bafac8abd207fd7f7534\n",
            "Successfully built gluonnlp\n",
            "Installing collected packages: gluonnlp\n",
            "Successfully installed gluonnlp-0.10.0\n",
            "Collecting sentencepiece\n",
            "\u001b[?25l  Downloading https://files.pythonhosted.org/packages/e5/2d/6d4ca4bef9a67070fa1cac508606328329152b1df10bdf31fb6e4e727894/sentencepiece-0.1.94-cp36-cp36m-manylinux2014_x86_64.whl (1.1MB)\n",
            "\u001b[K     |████████████████████████████████| 1.1MB 9.1MB/s \n",
            "\u001b[?25hInstalling collected packages: sentencepiece\n",
            "Successfully installed sentencepiece-0.1.94\n",
            "Collecting transformers==3\n",
            "\u001b[?25l  Downloading https://files.pythonhosted.org/packages/9c/35/1c3f6e62d81f5f0daff1384e6d5e6c5758682a8357ebc765ece2b9def62b/transformers-3.0.0-py3-none-any.whl (754kB)\n",
            "\u001b[K     |████████████████████████████████| 757kB 8.0MB/s \n",
            "\u001b[?25hRequirement already satisfied: tqdm>=4.27 in /usr/local/lib/python3.6/dist-packages (from transformers==3) (4.41.1)\n",
            "Requirement already satisfied: regex!=2019.12.17 in /usr/local/lib/python3.6/dist-packages (from transformers==3) (2019.12.20)\n",
            "Collecting tokenizers==0.8.0-rc4\n",
            "\u001b[?25l  Downloading https://files.pythonhosted.org/packages/e8/bd/e5abec46af977c8a1375c1dca7cb1e5b3ec392ef279067af7f6bc50491a0/tokenizers-0.8.0rc4-cp36-cp36m-manylinux1_x86_64.whl (3.0MB)\n",
            "\u001b[K     |████████████████████████████████| 3.0MB 16.9MB/s \n",
            "\u001b[?25hRequirement already satisfied: numpy in /usr/local/lib/python3.6/dist-packages (from transformers==3) (1.18.5)\n",
            "Requirement already satisfied: requests in /usr/local/lib/python3.6/dist-packages (from transformers==3) (2.23.0)\n",
            "Requirement already satisfied: sentencepiece in /usr/local/lib/python3.6/dist-packages (from transformers==3) (0.1.94)\n",
            "Collecting sacremoses\n",
            "\u001b[?25l  Downloading https://files.pythonhosted.org/packages/7d/34/09d19aff26edcc8eb2a01bed8e98f13a1537005d31e95233fd48216eed10/sacremoses-0.0.43.tar.gz (883kB)\n",
            "\u001b[K     |████████████████████████████████| 890kB 61.9MB/s \n",
            "\u001b[?25hRequirement already satisfied: filelock in /usr/local/lib/python3.6/dist-packages (from transformers==3) (3.0.12)\n",
            "Requirement already satisfied: dataclasses; python_version < \"3.7\" in /usr/local/lib/python3.6/dist-packages (from transformers==3) (0.8)\n",
            "Requirement already satisfied: packaging in /usr/local/lib/python3.6/dist-packages (from transformers==3) (20.7)\n",
            "Requirement already satisfied: idna<3,>=2.5 in /usr/local/lib/python3.6/dist-packages (from requests->transformers==3) (2.10)\n",
            "Requirement already satisfied: chardet<4,>=3.0.2 in /usr/local/lib/python3.6/dist-packages (from requests->transformers==3) (3.0.4)\n",
            "Requirement already satisfied: certifi>=2017.4.17 in /usr/local/lib/python3.6/dist-packages (from requests->transformers==3) (2020.12.5)\n",
            "Requirement already satisfied: urllib3!=1.25.0,!=1.25.1,<1.26,>=1.21.1 in /usr/local/lib/python3.6/dist-packages (from requests->transformers==3) (1.24.3)\n",
            "Requirement already satisfied: six in /usr/local/lib/python3.6/dist-packages (from sacremoses->transformers==3) (1.15.0)\n",
            "Requirement already satisfied: click in /usr/local/lib/python3.6/dist-packages (from sacremoses->transformers==3) (7.1.2)\n",
            "Requirement already satisfied: joblib in /usr/local/lib/python3.6/dist-packages (from sacremoses->transformers==3) (0.17.0)\n",
            "Requirement already satisfied: pyparsing>=2.0.2 in /usr/local/lib/python3.6/dist-packages (from packaging->transformers==3) (2.4.7)\n",
            "Building wheels for collected packages: sacremoses\n",
            "  Building wheel for sacremoses (setup.py) ... \u001b[?25l\u001b[?25hdone\n",
            "  Created wheel for sacremoses: filename=sacremoses-0.0.43-cp36-none-any.whl size=893261 sha256=a5a3db2530edb489fd5ed765bbb60777179d198cea6b34262b24642d135e9b9a\n",
            "  Stored in directory: /root/.cache/pip/wheels/29/3c/fd/7ce5c3f0666dab31a50123635e6fb5e19ceb42ce38d4e58f45\n",
            "Successfully built sacremoses\n",
            "Installing collected packages: tokenizers, sacremoses, transformers\n",
            "Successfully installed sacremoses-0.0.43 tokenizers-0.8.0rc4 transformers-3.0.0\n",
            "Requirement already satisfied: torch in /usr/local/lib/python3.6/dist-packages (1.7.0+cu101)\n",
            "Requirement already satisfied: future in /usr/local/lib/python3.6/dist-packages (from torch) (0.16.0)\n",
            "Requirement already satisfied: numpy in /usr/local/lib/python3.6/dist-packages (from torch) (1.18.5)\n",
            "Requirement already satisfied: typing-extensions in /usr/local/lib/python3.6/dist-packages (from torch) (3.7.4.3)\n",
            "Requirement already satisfied: dataclasses in /usr/local/lib/python3.6/dist-packages (from torch) (0.8)\n"
          ],
          "name": "stdout"
        }
      ]
    },
    {
      "cell_type": "code",
      "metadata": {
        "colab": {
          "base_uri": "https://localhost:8080/"
        },
        "id": "tbBxVCJK9I9d",
        "outputId": "80cef145-662b-4bc0-cff1-7ef0aafb0b0d"
      },
      "source": [
        "from google.colab import drive\n",
        "drive.mount('/content/drive')"
      ],
      "execution_count": 2,
      "outputs": [
        {
          "output_type": "stream",
          "text": [
            "Mounted at /content/drive\n"
          ],
          "name": "stdout"
        }
      ]
    },
    {
      "cell_type": "code",
      "metadata": {
        "id": "74vQa_653fhR",
        "colab": {
          "base_uri": "https://localhost:8080/"
        },
        "outputId": "9e1db6d9-52e3-4bf6-ea1e-1fc8ce44e38b"
      },
      "source": [
        "!pip install git+https://git@github.com/SKTBrain/KoBERT.git@master"
      ],
      "execution_count": 3,
      "outputs": [
        {
          "output_type": "stream",
          "text": [
            "Collecting git+https://****@github.com/SKTBrain/KoBERT.git@master\n",
            "  Cloning https://****@github.com/SKTBrain/KoBERT.git (to revision master) to /tmp/pip-req-build-rdr2tnsv\n",
            "  Running command git clone -q 'https://****@github.com/SKTBrain/KoBERT.git' /tmp/pip-req-build-rdr2tnsv\n",
            "Building wheels for collected packages: kobert\n",
            "  Building wheel for kobert (setup.py) ... \u001b[?25l\u001b[?25hdone\n",
            "  Created wheel for kobert: filename=kobert-0.1.2-cp36-none-any.whl size=12734 sha256=47162fd1582ab7164b5846177428cb288c8fe3b60575b8be0de53fd58d552044\n",
            "  Stored in directory: /tmp/pip-ephem-wheel-cache-px6deap3/wheels/a2/b0/41/435ee4e918f91918be41529283c5ff86cd010f02e7525aecf3\n",
            "Successfully built kobert\n",
            "Installing collected packages: kobert\n",
            "Successfully installed kobert-0.1.2\n"
          ],
          "name": "stdout"
        }
      ]
    },
    {
      "cell_type": "code",
      "metadata": {
        "id": "5ZX5VedV3fhS"
      },
      "source": [
        "import torch\n",
        "from torch import nn\n",
        "import torch.nn.functional as F\n",
        "import torch.optim as optim\n",
        "from torch.utils.data import Dataset, DataLoader\n",
        "import gluonnlp as nlp\n",
        "from tqdm import tqdm, tqdm_notebook, notebook"
      ],
      "execution_count": 4,
      "outputs": []
    },
    {
      "cell_type": "code",
      "metadata": {
        "id": "KtNxYIJc3fhS"
      },
      "source": [
        "from kobert.utils import get_tokenizer\n",
        "from kobert.pytorch_kobert import get_pytorch_kobert_model"
      ],
      "execution_count": 5,
      "outputs": []
    },
    {
      "cell_type": "code",
      "metadata": {
        "id": "7sNO_5z43fhS"
      },
      "source": [
        "from transformers import AdamW\n",
        "from transformers.optimization import get_cosine_schedule_with_warmup"
      ],
      "execution_count": 6,
      "outputs": []
    },
    {
      "cell_type": "code",
      "metadata": {
        "id": "g_Qf1j1x92wF"
      },
      "source": [
        "import tensorflow as tf\n",
        "\n",
        "from transformers import BertTokenizer\n",
        "from transformers import BertForSequenceClassification, BertConfig\n",
        "from transformers import get_linear_schedule_with_warmup\n",
        "from torch.utils.data import TensorDataset, DataLoader, RandomSampler, SequentialSampler\n",
        "from keras.preprocessing.sequence import pad_sequences\n",
        "from sklearn.model_selection import train_test_split\n",
        "\n",
        "import pandas as pd\n",
        "import numpy as np\n",
        "import random\n",
        "import time\n",
        "import datetime"
      ],
      "execution_count": 7,
      "outputs": []
    },
    {
      "cell_type": "code",
      "metadata": {
        "id": "HZ9Us7UG3fhS"
      },
      "source": [
        "##GPU 사용 시\n",
        "device = torch.device(\"cuda:0\")"
      ],
      "execution_count": 8,
      "outputs": []
    },
    {
      "cell_type": "code",
      "metadata": {
        "id": "oiL08-_O3fhU",
        "colab": {
          "base_uri": "https://localhost:8080/"
        },
        "outputId": "777cf615-3aa8-4def-e936-3379f006162e"
      },
      "source": [
        "bertmodel, vocab = get_pytorch_kobert_model()"
      ],
      "execution_count": 9,
      "outputs": [
        {
          "output_type": "stream",
          "text": [
            "[██████████████████████████████████████████████████]\n",
            "[██████████████████████████████████████████████████]\n"
          ],
          "name": "stdout"
        }
      ]
    },
    {
      "cell_type": "code",
      "metadata": {
        "id": "p6RBn9ds9oHp"
      },
      "source": [
        "BASE_PATH = '/content/drive/MyDrive/hyun_data'"
      ],
      "execution_count": 10,
      "outputs": []
    },
    {
      "cell_type": "code",
      "metadata": {
        "colab": {
          "base_uri": "https://localhost:8080/"
        },
        "id": "X69NoNtg9pFL",
        "outputId": "46c56f93-ad21-4512-b715-047beed35608"
      },
      "source": [
        "gpu_info = !nvidia-smi\n",
        "gpu_info = '\\n'.join(gpu_info)\n",
        "if gpu_info.find('failed') >= 0:\n",
        "  print('Select the Runtime > \"Change runtime type\" menu to enable a GPU accelerator, ')\n",
        "  print('and then re-execute this cell.')\n",
        "else:\n",
        "  print(gpu_info)"
      ],
      "execution_count": null,
      "outputs": [
        {
          "output_type": "stream",
          "text": [
            "Sat Dec 12 04:40:40 2020       \n",
            "+-----------------------------------------------------------------------------+\n",
            "| NVIDIA-SMI 455.45.01    Driver Version: 418.67       CUDA Version: 10.1     |\n",
            "|-------------------------------+----------------------+----------------------+\n",
            "| GPU  Name        Persistence-M| Bus-Id        Disp.A | Volatile Uncorr. ECC |\n",
            "| Fan  Temp  Perf  Pwr:Usage/Cap|         Memory-Usage | GPU-Util  Compute M. |\n",
            "|                               |                      |               MIG M. |\n",
            "|===============================+======================+======================|\n",
            "|   0  Tesla P100-PCIE...  Off  | 00000000:00:04.0 Off |                    0 |\n",
            "| N/A   43C    P0    27W / 250W |      0MiB / 16280MiB |      0%      Default |\n",
            "|                               |                      |                 ERR! |\n",
            "+-------------------------------+----------------------+----------------------+\n",
            "                                                                               \n",
            "+-----------------------------------------------------------------------------+\n",
            "| Processes:                                                                  |\n",
            "|  GPU   GI   CI        PID   Type   Process name                  GPU Memory |\n",
            "|        ID   ID                                                   Usage      |\n",
            "|=============================================================================|\n",
            "|  No running processes found                                                 |\n",
            "+-----------------------------------------------------------------------------+\n"
          ],
          "name": "stdout"
        }
      ]
    },
    {
      "cell_type": "code",
      "metadata": {
        "id": "-sFEqZhj9rCr"
      },
      "source": [
        "df = pd.read_csv(BASE_PATH+'/preprocessed_norm.csv', index_col=[0])"
      ],
      "execution_count": 11,
      "outputs": []
    },
    {
      "cell_type": "code",
      "metadata": {
        "id": "wReAS3ZD9wLG"
      },
      "source": [
        "labels_csv = pd.read_csv(BASE_PATH+'/labels_dict2.csv', index_col=[0])"
      ],
      "execution_count": 12,
      "outputs": []
    },
    {
      "cell_type": "code",
      "metadata": {
        "colab": {
          "base_uri": "https://localhost:8080/",
          "height": 253
        },
        "id": "3RpXoFKK-Crw",
        "outputId": "9e3e6a1e-1367-4941-aa85-cd34045f09c6"
      },
      "source": [
        "labels_csv"
      ],
      "execution_count": 13,
      "outputs": [
        {
          "output_type": "execute_result",
          "data": {
            "text/html": [
              "<div>\n",
              "<style scoped>\n",
              "    .dataframe tbody tr th:only-of-type {\n",
              "        vertical-align: middle;\n",
              "    }\n",
              "\n",
              "    .dataframe tbody tr th {\n",
              "        vertical-align: top;\n",
              "    }\n",
              "\n",
              "    .dataframe thead th {\n",
              "        text-align: right;\n",
              "    }\n",
              "</style>\n",
              "<table border=\"1\" class=\"dataframe\">\n",
              "  <thead>\n",
              "    <tr style=\"text-align: right;\">\n",
              "      <th></th>\n",
              "      <th>문화&gt;방송_연예</th>\n",
              "      <th>국제&gt;중국</th>\n",
              "      <th>사회&gt;사회일반</th>\n",
              "      <th>정치&gt;국회_정당</th>\n",
              "      <th>사회&gt;교육_시험</th>\n",
              "      <th>IT_과학&gt;모바일</th>\n",
              "      <th>정치&gt;행정_자치</th>\n",
              "      <th>사회&gt;사건_사고</th>\n",
              "      <th>문화&gt;문화일반</th>\n",
              "      <th>정치&gt;청와대</th>\n",
              "      <th>사회&gt;여성</th>\n",
              "      <th>국제&gt;유럽_EU</th>\n",
              "      <th>경제&gt;자원</th>\n",
              "      <th>국제&gt;미국_북미</th>\n",
              "      <th>사회&gt;날씨</th>\n",
              "      <th>사회&gt;의료_건강</th>\n",
              "      <th>IT_과학&gt;콘텐츠</th>\n",
              "      <th>경제&gt;증권_증시</th>\n",
              "      <th>정치&gt;선거</th>\n",
              "      <th>국제&gt;일본</th>\n",
              "      <th>사회&gt;미디어</th>\n",
              "      <th>문화&gt;음악</th>\n",
              "      <th>국제&gt;중남미</th>\n",
              "      <th>국제&gt;중동_아프리카</th>\n",
              "      <th>경제&gt;유통</th>\n",
              "      <th>문화&gt;출판</th>\n",
              "      <th>경제&gt;자동차</th>\n",
              "      <th>사회&gt;환경</th>\n",
              "      <th>경제&gt;금융_재테크</th>\n",
              "      <th>사회&gt;장애인</th>\n",
              "      <th>문화&gt;전시_공연</th>\n",
              "      <th>경제&gt;부동산</th>\n",
              "      <th>IT_과학&gt;IT_과학일반</th>\n",
              "      <th>문화&gt;요리_여행</th>\n",
              "      <th>IT_과학&gt;과학</th>\n",
              "      <th>경제&gt;서비스_쇼핑</th>\n",
              "      <th>경제&gt;외환</th>\n",
              "      <th>미분류</th>\n",
              "      <th>문화&gt;미술_건축</th>\n",
              "      <th>문화&gt;생활</th>\n",
              "      <th>경제&gt;경제일반</th>\n",
              "      <th>국제&gt;아시아</th>\n",
              "      <th>정치&gt;정치일반</th>\n",
              "      <th>경제&gt;국제경제</th>\n",
              "      <th>경제&gt;취업_창업</th>\n",
              "      <th>IT_과학&gt;보안</th>\n",
              "      <th>정치&gt;외교</th>\n",
              "      <th>경제&gt;무역</th>\n",
              "      <th>문화&gt;영화</th>\n",
              "      <th>정치&gt;북한</th>\n",
              "      <th>경제&gt;산업_기업</th>\n",
              "      <th>문화&gt;종교</th>\n",
              "      <th>경제&gt;반도체</th>\n",
              "      <th>문화&gt;학술_문화재</th>\n",
              "      <th>사회&gt;노동_복지</th>\n",
              "      <th>국제&gt;국제일반</th>\n",
              "      <th>IT_과학&gt;인터넷_SNS</th>\n",
              "      <th>국제&gt;러시아</th>\n",
              "    </tr>\n",
              "  </thead>\n",
              "  <tbody>\n",
              "    <tr>\n",
              "      <th>0</th>\n",
              "      <td>0</td>\n",
              "      <td>1</td>\n",
              "      <td>2</td>\n",
              "      <td>3</td>\n",
              "      <td>4</td>\n",
              "      <td>5</td>\n",
              "      <td>6</td>\n",
              "      <td>7</td>\n",
              "      <td>8</td>\n",
              "      <td>9</td>\n",
              "      <td>10</td>\n",
              "      <td>11</td>\n",
              "      <td>12</td>\n",
              "      <td>13</td>\n",
              "      <td>14</td>\n",
              "      <td>15</td>\n",
              "      <td>16</td>\n",
              "      <td>17</td>\n",
              "      <td>18</td>\n",
              "      <td>19</td>\n",
              "      <td>20</td>\n",
              "      <td>21</td>\n",
              "      <td>22</td>\n",
              "      <td>23</td>\n",
              "      <td>24</td>\n",
              "      <td>25</td>\n",
              "      <td>26</td>\n",
              "      <td>27</td>\n",
              "      <td>28</td>\n",
              "      <td>29</td>\n",
              "      <td>30</td>\n",
              "      <td>31</td>\n",
              "      <td>32</td>\n",
              "      <td>33</td>\n",
              "      <td>34</td>\n",
              "      <td>35</td>\n",
              "      <td>36</td>\n",
              "      <td>37</td>\n",
              "      <td>38</td>\n",
              "      <td>39</td>\n",
              "      <td>40</td>\n",
              "      <td>41</td>\n",
              "      <td>42</td>\n",
              "      <td>43</td>\n",
              "      <td>44</td>\n",
              "      <td>45</td>\n",
              "      <td>46</td>\n",
              "      <td>47</td>\n",
              "      <td>48</td>\n",
              "      <td>49</td>\n",
              "      <td>50</td>\n",
              "      <td>51</td>\n",
              "      <td>52</td>\n",
              "      <td>53</td>\n",
              "      <td>54</td>\n",
              "      <td>55</td>\n",
              "      <td>56</td>\n",
              "      <td>57</td>\n",
              "    </tr>\n",
              "  </tbody>\n",
              "</table>\n",
              "</div>"
            ],
            "text/plain": [
              "   문화>방송_연예  국제>중국  사회>사회일반  정치>국회_정당  ...  사회>노동_복지  국제>국제일반  IT_과학>인터넷_SNS  국제>러시아\n",
              "0         0      1        2         3  ...        54       55             56      57\n",
              "\n",
              "[1 rows x 58 columns]"
            ]
          },
          "metadata": {
            "tags": []
          },
          "execution_count": 13
        }
      ]
    },
    {
      "cell_type": "code",
      "metadata": {
        "colab": {
          "base_uri": "https://localhost:8080/"
        },
        "id": "StzhV2CT-Drv",
        "outputId": "88f23e36-122a-4605-e5e5-696cb1803964"
      },
      "source": [
        "df.columns"
      ],
      "execution_count": 14,
      "outputs": [
        {
          "output_type": "execute_result",
          "data": {
            "text/plain": [
              "Index(['date', 'title', 'topic', 'keyword', 'input', 'body', 'label'], dtype='object')"
            ]
          },
          "metadata": {
            "tags": []
          },
          "execution_count": 14
        }
      ]
    },
    {
      "cell_type": "code",
      "metadata": {
        "colab": {
          "base_uri": "https://localhost:8080/",
          "height": 759
        },
        "id": "zo0QdrVB-F0J",
        "outputId": "f6cdade1-2631-40e2-ae90-7360bd7698e4"
      },
      "source": [
        "df[df.label==0]"
      ],
      "execution_count": 15,
      "outputs": [
        {
          "output_type": "execute_result",
          "data": {
            "text/html": [
              "<div>\n",
              "<style scoped>\n",
              "    .dataframe tbody tr th:only-of-type {\n",
              "        vertical-align: middle;\n",
              "    }\n",
              "\n",
              "    .dataframe tbody tr th {\n",
              "        vertical-align: top;\n",
              "    }\n",
              "\n",
              "    .dataframe thead th {\n",
              "        text-align: right;\n",
              "    }\n",
              "</style>\n",
              "<table border=\"1\" class=\"dataframe\">\n",
              "  <thead>\n",
              "    <tr style=\"text-align: right;\">\n",
              "      <th></th>\n",
              "      <th>date</th>\n",
              "      <th>title</th>\n",
              "      <th>topic</th>\n",
              "      <th>keyword</th>\n",
              "      <th>input</th>\n",
              "      <th>body</th>\n",
              "      <th>label</th>\n",
              "    </tr>\n",
              "  </thead>\n",
              "  <tbody>\n",
              "    <tr>\n",
              "      <th>8</th>\n",
              "      <td>20201128</td>\n",
              "      <td>'온앤오프' 이지아, '데뷔 후 최초' 베일 싸여있던 일상 공개</td>\n",
              "      <td>문화&gt;방송_연예</td>\n",
              "      <td>온앤오프,이지아,데뷔,베일,일상,공개,28일,방송,tvN,온앤오프,배우,이지아,반전...</td>\n",
              "      <td>이지아 온앤오프 덕후 한경닷컴 김나경 tvn 은하계 ufo 동작 하나하나 외계인설 ...</td>\n",
              "      <td>28일(토) 방송하는 tvN ’온앤오프‘에서는 배우 이지아의 반전 매력 넘치는 일상...</td>\n",
              "      <td>0</td>\n",
              "    </tr>\n",
              "    <tr>\n",
              "      <th>10</th>\n",
              "      <td>20201128</td>\n",
              "      <td>'런닝맨' 김소연, '팬심' 폭발시킨 멤버 정체는?</td>\n",
              "      <td>문화&gt;방송_연예</td>\n",
              "      <td>런닝맨,김소연,팬심,폭발,멤버,정체,배우,김소연,팬심,고백,29일,방송,SBS,런닝...</td>\n",
              "      <td>김소연 런닝맨 팬심 이상우 멤버들 리액션 반박해 180도 다들 거짓말 펜트하우스 1...</td>\n",
              "      <td>배우 김소연이 수줍은 팬심을 고백한다.\\n오는 29일 오후 방송되는 SBS ‘런닝맨...</td>\n",
              "      <td>0</td>\n",
              "    </tr>\n",
              "    <tr>\n",
              "      <th>15</th>\n",
              "      <td>20201128</td>\n",
              "      <td>‘트로트의 민족’ 김소연, 우승 후보→패자부활전 합격할까[M+TV인사이드]</td>\n",
              "      <td>문화&gt;방송_연예</td>\n",
              "      <td>트로트,민족,김소연,우승,후보,패자부활전,합격,TV인사이드,트로트,민족,유력,우승,...</td>\n",
              "      <td>트로트 박하명 긴장감 김소연 안성준 시청률 신명근 생존자 패자부활전 장명서 나미애 ...</td>\n",
              "      <td>‘트로트의 민족’ 유력 우승 후보 김소연이 패자부활전에 나선 가운데 그의 생존에 관...</td>\n",
              "      <td>0</td>\n",
              "    </tr>\n",
              "    <tr>\n",
              "      <th>21</th>\n",
              "      <td>20201128</td>\n",
              "      <td>'아는 형님' 조병규, 즉석 액션부터 성대모사까지 매력 대방출!</td>\n",
              "      <td>문화&gt;방송_연예</td>\n",
              "      <td>형님,조병규,즉석,액션,성대모사,매력,대방출,배우,조병규,예능,블루칩,등극,방송,J...</td>\n",
              "      <td>조병규 김세정 눈물 성대모사 유준상 친밀도 만큼 촬영장 웃픈 블루칩 자유자재 전학생...</td>\n",
              "      <td>배우 조병규가 넘치는 끼로 예능 블루칩에 등극했다.\\n \\n28일 방송되는 JTBC...</td>\n",
              "      <td>0</td>\n",
              "    </tr>\n",
              "    <tr>\n",
              "      <th>67</th>\n",
              "      <td>20201128</td>\n",
              "      <td>‘온앤오프’ 이지아 “UFO 출몰 지역을 간 적도 있다”</td>\n",
              "      <td>문화&gt;방송_연예</td>\n",
              "      <td>온앤오프,이지아,UFO,출몰,지역,28일,방송,tvN,온앤오프,배우,이지아,반전,매...</td>\n",
              "      <td>이지아 온앤오프 덕후 ufo tvn 동작 하나하나 은하계 외계인설 싱어송라이터 놀라...</td>\n",
              "      <td>[헤럴드경제 = 서병기 선임기자]28일(토) 밤 방송되는 tvN ’온앤오프‘에서는 ...</td>\n",
              "      <td>0</td>\n",
              "    </tr>\n",
              "    <tr>\n",
              "      <th>...</th>\n",
              "      <td>...</td>\n",
              "      <td>...</td>\n",
              "      <td>...</td>\n",
              "      <td>...</td>\n",
              "      <td>...</td>\n",
              "      <td>...</td>\n",
              "      <td>...</td>\n",
              "    </tr>\n",
              "    <tr>\n",
              "      <th>19069</th>\n",
              "      <td>20201201</td>\n",
              "      <td>영화보며 시간 여행 자연 힐링 독서하며 언택트 송년</td>\n",
              "      <td>문화&gt;방송_연예</td>\n",
              "      <td>영화,여행,자연,힐링,독서,언택트,송년,연말,영화,리틀,포레스트,Little,개봉,...</td>\n",
              "      <td>구멍가게 일본 순천만 미국 곽재구 루나나 해남 목포 원스 혜원 보이저 시간여행 드루...</td>\n",
              "      <td>[연말에 보면 좋은 영화]\\n▲리틀 포레스트(Little Forest /감독 임순례...</td>\n",
              "      <td>0</td>\n",
              "    </tr>\n",
              "    <tr>\n",
              "      <th>19304</th>\n",
              "      <td>20201201</td>\n",
              "      <td>[종합] 아이랜드 통해 데뷔한 '엔하이픈' \"7명 전원이 센터급 비주얼\"  연말 신...</td>\n",
              "      <td>문화&gt;방송_연예</td>\n",
              "      <td>아이랜드,데뷔,엔하이픈,전원,센터,비주얼,연말,신인상,사진,빌리프랩,제공,빅히트엔터...</td>\n",
              "      <td>엔하이픈 아이랜드 빅히트 니키 희승 제이크 제이 타이틀곡 성훈 7명 신인상 팬들 방...</td>\n",
              "      <td>[사진= 빌리프랩 제공] \\n  \\n \\n 빅히트엔터테인먼트와 Mnet의 프로젝트 ...</td>\n",
              "      <td>0</td>\n",
              "    </tr>\n",
              "    <tr>\n",
              "      <th>19581</th>\n",
              "      <td>20201130</td>\n",
              "      <td>[이웃사랑] 뇌병변에 유방암까지 온 아내, 홀로 고군분투 중인 남편</td>\n",
              "      <td>문화&gt;방송_연예</td>\n",
              "      <td>뇌병변,유방암,아내,고군분투,남편,결혼식,뇌병변,장애,남편,4년,병간호,유방암,생활...</td>\n",
              "      <td>주희 영석 결혼식 예주 유방암 중국집 대구은행 병간호 핸드폰 일자리 생활비 매일신문...</td>\n",
              "      <td>지난 27일 달서구 감삼동의 한 주택 2층. 쿵쾅쿵쾅 계단 위로 한 여자아이가 급히...</td>\n",
              "      <td>0</td>\n",
              "    </tr>\n",
              "    <tr>\n",
              "      <th>19598</th>\n",
              "      <td>20201130</td>\n",
              "      <td>전효성 다이어트 “3개월만에 허리 26인치→23.5인치”</td>\n",
              "      <td>문화&gt;방송_연예</td>\n",
              "      <td>3개월,전효,다이어트,허리,인치,23.5인치,가수,전효,다이어트,영상,공개,화제,전...</td>\n",
              "      <td>전효성 전효 3개월 다이어터 필라테스 배달음식 필요성 유튜브 장장 2개월 식이요법 ...</td>\n",
              "      <td>가수 전효성이 다이어트 영상을 공개해 화제다.\\n\\n\\n\\n전효성이 30일 오후 자...</td>\n",
              "      <td>0</td>\n",
              "    </tr>\n",
              "    <tr>\n",
              "      <th>19930</th>\n",
              "      <td>20201130</td>\n",
              "      <td>아산시 ‘은빛 숲해설’ 프로그램, 요양기관 어르신에 활력 제공</td>\n",
              "      <td>문화&gt;방송_연예</td>\n",
              "      <td>숲해설,아산시,은빛,프로그램,요양,기관,어르신,활력,제공,아산시,시장,오세현,코로나...</td>\n",
              "      <td>요양기관 어르신들 코로나19 비대면 숲해설 외부인 복지사 아산시 자연물 아산 영상콘...</td>\n",
              "      <td>아산시(시장 오세현)가 코로나19 장기화로 외부인과의 접촉이 제한된 관내 13개 요...</td>\n",
              "      <td>0</td>\n",
              "    </tr>\n",
              "  </tbody>\n",
              "</table>\n",
              "<p>2201 rows × 7 columns</p>\n",
              "</div>"
            ],
            "text/plain": [
              "           date  ... label\n",
              "8      20201128  ...     0\n",
              "10     20201128  ...     0\n",
              "15     20201128  ...     0\n",
              "21     20201128  ...     0\n",
              "67     20201128  ...     0\n",
              "...         ...  ...   ...\n",
              "19069  20201201  ...     0\n",
              "19304  20201201  ...     0\n",
              "19581  20201130  ...     0\n",
              "19598  20201130  ...     0\n",
              "19930  20201130  ...     0\n",
              "\n",
              "[2201 rows x 7 columns]"
            ]
          },
          "metadata": {
            "tags": []
          },
          "execution_count": 15
        }
      ]
    },
    {
      "cell_type": "code",
      "metadata": {
        "colab": {
          "base_uri": "https://localhost:8080/"
        },
        "id": "wCgjlB1V-ITR",
        "outputId": "95016218-ca1f-4ce9-a1f4-57c001ba5531"
      },
      "source": [
        "NUM_LABELS = max(set(df['label'])) + 1\n",
        "NUM_LABELS"
      ],
      "execution_count": 16,
      "outputs": [
        {
          "output_type": "execute_result",
          "data": {
            "text/plain": [
              "58"
            ]
          },
          "metadata": {
            "tags": []
          },
          "execution_count": 16
        }
      ]
    },
    {
      "cell_type": "code",
      "metadata": {
        "id": "C5I3mose-L2P"
      },
      "source": [
        "text_to_label = dict(labels_csv)"
      ],
      "execution_count": 17,
      "outputs": []
    },
    {
      "cell_type": "code",
      "metadata": {
        "id": "iQukM4T8-ObU"
      },
      "source": [
        "label_to_text = {}\n",
        "for label in text_to_label:\n",
        "    label_to_text[int(text_to_label[label])] = label"
      ],
      "execution_count": 18,
      "outputs": []
    },
    {
      "cell_type": "code",
      "metadata": {
        "colab": {
          "base_uri": "https://localhost:8080/"
        },
        "id": "F9M0jrGE-QdC",
        "outputId": "32da14e2-27f8-4af3-ab06-de28282140a6"
      },
      "source": [
        "label_to_text"
      ],
      "execution_count": 19,
      "outputs": [
        {
          "output_type": "execute_result",
          "data": {
            "text/plain": [
              "{0: '문화>방송_연예',\n",
              " 1: '국제>중국',\n",
              " 2: '사회>사회일반',\n",
              " 3: '정치>국회_정당',\n",
              " 4: '사회>교육_시험',\n",
              " 5: 'IT_과학>모바일',\n",
              " 6: '정치>행정_자치',\n",
              " 7: '사회>사건_사고',\n",
              " 8: '문화>문화일반',\n",
              " 9: '정치>청와대',\n",
              " 10: '사회>여성',\n",
              " 11: '국제>유럽_EU',\n",
              " 12: '경제>자원',\n",
              " 13: '국제>미국_북미',\n",
              " 14: '사회>날씨',\n",
              " 15: '사회>의료_건강',\n",
              " 16: 'IT_과학>콘텐츠',\n",
              " 17: '경제>증권_증시',\n",
              " 18: '정치>선거',\n",
              " 19: '국제>일본',\n",
              " 20: '사회>미디어',\n",
              " 21: '문화>음악',\n",
              " 22: '국제>중남미',\n",
              " 23: '국제>중동_아프리카',\n",
              " 24: '경제>유통',\n",
              " 25: '문화>출판',\n",
              " 26: '경제>자동차',\n",
              " 27: '사회>환경',\n",
              " 28: '경제>금융_재테크',\n",
              " 29: '사회>장애인',\n",
              " 30: '문화>전시_공연',\n",
              " 31: '경제>부동산',\n",
              " 32: 'IT_과학>IT_과학일반',\n",
              " 33: '문화>요리_여행',\n",
              " 34: 'IT_과학>과학',\n",
              " 35: '경제>서비스_쇼핑',\n",
              " 36: '경제>외환',\n",
              " 37: '미분류',\n",
              " 38: '문화>미술_건축',\n",
              " 39: '문화>생활',\n",
              " 40: '경제>경제일반',\n",
              " 41: '국제>아시아',\n",
              " 42: '정치>정치일반',\n",
              " 43: '경제>국제경제',\n",
              " 44: '경제>취업_창업',\n",
              " 45: 'IT_과학>보안',\n",
              " 46: '정치>외교',\n",
              " 47: '경제>무역',\n",
              " 48: '문화>영화',\n",
              " 49: '정치>북한',\n",
              " 50: '경제>산업_기업',\n",
              " 51: '문화>종교',\n",
              " 52: '경제>반도체',\n",
              " 53: '문화>학술_문화재',\n",
              " 54: '사회>노동_복지',\n",
              " 55: '국제>국제일반',\n",
              " 56: 'IT_과학>인터넷_SNS',\n",
              " 57: '국제>러시아'}"
            ]
          },
          "metadata": {
            "tags": []
          },
          "execution_count": 19
        }
      ]
    },
    {
      "cell_type": "code",
      "metadata": {
        "colab": {
          "base_uri": "https://localhost:8080/"
        },
        "id": "u6TD0lXo-SUi",
        "outputId": "464e8459-54e7-427a-ffb6-cdd50f6837fa"
      },
      "source": [
        "train, test = train, test = train_test_split(df, test_size=0.2)\n",
        "\n",
        "print(train.shape)\n",
        "print(test.shape)"
      ],
      "execution_count": 20,
      "outputs": [
        {
          "output_type": "stream",
          "text": [
            "(38783, 7)\n",
            "(9696, 7)\n"
          ],
          "name": "stdout"
        }
      ]
    },
    {
      "cell_type": "code",
      "metadata": {
        "colab": {
          "base_uri": "https://localhost:8080/",
          "height": 699
        },
        "id": "dY8mvByT-U4j",
        "outputId": "d5f3e142-e5f0-4bba-d0f2-d87a263eb510"
      },
      "source": [
        "train.head(10)"
      ],
      "execution_count": 21,
      "outputs": [
        {
          "output_type": "execute_result",
          "data": {
            "text/html": [
              "<div>\n",
              "<style scoped>\n",
              "    .dataframe tbody tr th:only-of-type {\n",
              "        vertical-align: middle;\n",
              "    }\n",
              "\n",
              "    .dataframe tbody tr th {\n",
              "        vertical-align: top;\n",
              "    }\n",
              "\n",
              "    .dataframe thead th {\n",
              "        text-align: right;\n",
              "    }\n",
              "</style>\n",
              "<table border=\"1\" class=\"dataframe\">\n",
              "  <thead>\n",
              "    <tr style=\"text-align: right;\">\n",
              "      <th></th>\n",
              "      <th>date</th>\n",
              "      <th>title</th>\n",
              "      <th>topic</th>\n",
              "      <th>keyword</th>\n",
              "      <th>input</th>\n",
              "      <th>body</th>\n",
              "      <th>label</th>\n",
              "    </tr>\n",
              "  </thead>\n",
              "  <tbody>\n",
              "    <tr>\n",
              "      <th>2201</th>\n",
              "      <td>20201204</td>\n",
              "      <td>권덕철, 복지부 관료로 ‘잔뼈’ 정영애, 노무현 청와대 비서관</td>\n",
              "      <td>정치&gt;청와대</td>\n",
              "      <td>권덕철,복지부,관료,잔뼈,정영애,비서관,노무현,청와대,내정자들,신임,장관,내정자,행...</td>\n",
              "      <td>노무현 비서관 복지부 청와대 내정자 행정학 권덕철 검경 더불어민주당 전해철 여성학 ...</td>\n",
              "      <td>ㆍ신임 장관 내정자들은 누구\\n\\n행정안전부 장관에 낙점된 전해철 더불어민주당 의원...</td>\n",
              "      <td>9</td>\n",
              "    </tr>\n",
              "    <tr>\n",
              "      <th>4541</th>\n",
              "      <td>20201205</td>\n",
              "      <td>‘秋 尹 갈등’이 기름 부은 ‘정권 교체론’</td>\n",
              "      <td>정치&gt;선거</td>\n",
              "      <td>갈등,기름,정권,교체,선거,대통령,야당,후보,당선,응답,여당,후보,당선,응답,3%포...</td>\n",
              "      <td>지지율 한국갤럽 법무부 갤럽 홈페이지 윤석열 임대차 민주당 18세 우상호 더불어민주...</td>\n",
              "      <td>[헤럴드경제=김용재 기자]다음 대통령 선거에서 ‘야당 후보가 당선되어야 한다’는 응...</td>\n",
              "      <td>18</td>\n",
              "    </tr>\n",
              "    <tr>\n",
              "      <th>15374</th>\n",
              "      <td>20201201</td>\n",
              "      <td>수출로 날았다 코로나19에도 3분기 경제성장률 반등 배경</td>\n",
              "      <td>경제&gt;무역</td>\n",
              "      <td>수출,코로나19,경제,성장,반등,배경,코로나19,확산,경제,성장,2.1%,11년,최...</td>\n",
              "      <td>코로나19 한은 성장률 반도체 건설업 1인 경제성장률 3만 설비투자 한국은행</td>\n",
              "      <td>코로나19의 2차 확산에도 3분기 경제성장률(2.1%)이 11년 만에 최고치를 기록...</td>\n",
              "      <td>47</td>\n",
              "    </tr>\n",
              "    <tr>\n",
              "      <th>17000</th>\n",
              "      <td>20201126</td>\n",
              "      <td>종근당 이장한 회장 리더십으로 일군 국민유산균`락토핏`, 올해 2600억원 매출 신...</td>\n",
              "      <td>경제&gt;산업_기업</td>\n",
              "      <td>종근당,이장,회장,리더십,국민유산균,락토핏,2600억,예상,매출,시장,프로바이오틱스...</td>\n",
              "      <td>락토핏 유산균 소비자 종근당 프로바이오틱스 1위 종근당건강 성장세 계열사 건강기능식...</td>\n",
              "      <td>국내 프로바이오틱스 시장이 전년도에 이어 폭발적 성장세를 이어가고 있는 가운데 종근...</td>\n",
              "      <td>50</td>\n",
              "    </tr>\n",
              "    <tr>\n",
              "      <th>9085</th>\n",
              "      <td>20201203</td>\n",
              "      <td>영국, 화이자 백신 긴급 승인 90세 여왕 총리도 맞을까</td>\n",
              "      <td>국제&gt;유럽_EU</td>\n",
              "      <td>영국,백신,긴급,90세,여왕,총리,영국,미국,화이자,감염증,신종,코로나바이러스,코로...</td>\n",
              "      <td>영국 코로나19 존슨 요양원 만큼 노동당 보건장관 버킹엄궁 80세 엘리자베스 90세...</td>\n",
              "      <td>영국이 미국 화이자가 개발한 신종 코로나바이러스 감염증(코로나19) 백신을 승인하면...</td>\n",
              "      <td>11</td>\n",
              "    </tr>\n",
              "    <tr>\n",
              "      <th>13874</th>\n",
              "      <td>20201120</td>\n",
              "      <td>주택 투자 막으니 틈새상품 '생활형 숙박시설' 인기</td>\n",
              "      <td>경제&gt;부동산</td>\n",
              "      <td>주택,투자,숙박시설,틈새,상품,생활,숙박,시설,인기,투시도,오션,스테이,양양,부동산...</td>\n",
              "      <td>부동산 생활형 평촌 양양 다주택자 숙박시설 1만 취득세 투자처 풀퍼니시드 건축법 양...</td>\n",
              "      <td>오션스테이 양양 투시도  \\n \\n \\n부동산 투자시장에서 이른바 틈새상품들이 인기...</td>\n",
              "      <td>31</td>\n",
              "    </tr>\n",
              "    <tr>\n",
              "      <th>17669</th>\n",
              "      <td>20201201</td>\n",
              "      <td>삼성전자 SK하이닉스 덕분에 3분기 2%대 성장률 달성</td>\n",
              "      <td>경제&gt;유통</td>\n",
              "      <td>삼성전자,SK하이닉스,덕분,3분기,달성,성장,수출회복,가시화,설비투자,회복,경제,성...</td>\n",
              "      <td>속보치 반도체 3만 설비투자 1인 순수출 gdp 경제통계부장 증가율 국민소득 첨단공...</td>\n",
              "      <td>[머니투데이 한고은 기자, 고석용 기자] \\n \\n수출회복이 가시화되고, 설비투자가...</td>\n",
              "      <td>24</td>\n",
              "    </tr>\n",
              "    <tr>\n",
              "      <th>11081</th>\n",
              "      <td>20201120</td>\n",
              "      <td>'애로부부' 미국 변호사 서동주 '안성맞춤 게스트'로 출연</td>\n",
              "      <td>문화&gt;방송_연예</td>\n",
              "      <td>애로부부,게스트,미국,변호사,서동주,안성맞춤,출연,토크쇼,부부,토크,애로부부,애로부...</td>\n",
              "      <td>서동주 애로부부 변호사 미국 방송인 최화정 양재진 법조인 안성맞춤 토크쇼 이상아 홍...</td>\n",
              "      <td>19금 부부 토크쇼 ‘다시 뜨거워지고 싶은 애로부부(이하 애로부부)’에 미국 변호사...</td>\n",
              "      <td>0</td>\n",
              "    </tr>\n",
              "    <tr>\n",
              "      <th>2629</th>\n",
              "      <td>20201204</td>\n",
              "      <td>국제사이버대학교, 2021학년도 신ㆍ편입생 모집</td>\n",
              "      <td>사회&gt;교육_시험</td>\n",
              "      <td>국제사이버대학교,2021학년도,편입생,모집,국제사이버대학교,내년,학년도,편입생,모집...</td>\n",
              "      <td>국제사이버대학교 이버대학교 온라인 직장인 학생들 편입생 대학교 2021학년도 전문가...</td>\n",
              "      <td>국제사이버대학교가 내년 1월7일까지 2021학년도 1학기 신ㆍ편입생을 모집한다고 4...</td>\n",
              "      <td>4</td>\n",
              "    </tr>\n",
              "    <tr>\n",
              "      <th>16137</th>\n",
              "      <td>20201203</td>\n",
              "      <td>대전시립미술관 '제2회 대덕에서 과학을 그리다' 수상작품전 아트센터서 전시</td>\n",
              "      <td>IT_과학&gt;과학</td>\n",
              "      <td>대덕,대전시립미술관,과학,수상,작품전,아트센터,전시,대덕초,이채령,이수,수상,과기부...</td>\n",
              "      <td>대덕 아트센터 한의학 이수인 이채령 과기부 최고상 대전시립미술관 작품전 선승혜 인공...</td>\n",
              "      <td>대전시립미술관은 '제2회 대덕에서 과학을 그리다' 미술대회 수상 작품전을 5일부터 ...</td>\n",
              "      <td>34</td>\n",
              "    </tr>\n",
              "  </tbody>\n",
              "</table>\n",
              "</div>"
            ],
            "text/plain": [
              "           date  ... label\n",
              "2201   20201204  ...     9\n",
              "4541   20201205  ...    18\n",
              "15374  20201201  ...    47\n",
              "17000  20201126  ...    50\n",
              "9085   20201203  ...    11\n",
              "13874  20201120  ...    31\n",
              "17669  20201201  ...    24\n",
              "11081  20201120  ...     0\n",
              "2629   20201204  ...     4\n",
              "16137  20201203  ...    34\n",
              "\n",
              "[10 rows x 7 columns]"
            ]
          },
          "metadata": {
            "tags": []
          },
          "execution_count": 21
        }
      ]
    },
    {
      "cell_type": "markdown",
      "metadata": {
        "id": "iPwEF9g3-eGM"
      },
      "source": [
        "<br>\n",
        "<br>\n",
        "\n",
        "# **Preprocessing - TRAINING SET**"
      ]
    },
    {
      "cell_type": "code",
      "metadata": {
        "colab": {
          "base_uri": "https://localhost:8080/"
        },
        "id": "YovU0tbx-XBv",
        "outputId": "2943fa00-a1d6-4f9d-a94d-41d1b29bc534"
      },
      "source": [
        "# 문장 추출\n",
        "sentences = train['input'].values\n",
        "sentences[:10]"
      ],
      "execution_count": 22,
      "outputs": [
        {
          "output_type": "execute_result",
          "data": {
            "text/plain": [
              "array(['노무현 비서관 복지부 청와대 내정자 행정학 권덕철 검경 더불어민주당 전해철 여성학 코로나19 목포 잔뼈 전남 한국토지주택공사 한국보건산업진흥원 만큼 산하기관',\n",
              "       '지지율 한국갤럽 법무부 갤럽 홈페이지 윤석열 임대차 민주당 18세 우상호 더불어민주당 추미애',\n",
              "       '코로나19 한은 성장률 반도체 건설업 1인 경제성장률 3만 설비투자 한국은행',\n",
              "       '락토핏 유산균 소비자 종근당 프로바이오틱스 1위 종근당건강 성장세 계열사 건강기능식품 임산부 맘스 국민유산균 관계자',\n",
              "       '영국 코로나19 존슨 요양원 만큼 노동당 보건장관 버킹엄궁 80세 엘리자베스 90세 스코틀랜드 니컬라 알레그라 화이자 가능성 조너선 행콕 접종이 코로나바이러스 애슈워스',\n",
              "       '부동산 생활형 평촌 양양 다주택자 숙박시설 1만 취득세 투자처 풀퍼니시드 건축법 양양군 강릉시 냉장고 오션뷰 죽도해변 투기수요 항해수욕장 8억 세탁기',\n",
              "       '속보치 반도체 3만 설비투자 1인 순수출 gdp 경제통계부장 증가율 국민소득 첨단공정 코로나19 민간소비 음식료품',\n",
              "       '서동주 애로부부 변호사 미국 방송인 최화정 양재진 법조인 안성맞춤 토크쇼 이상아 홍진경 이용진 출연분 서정희 엔터테이너 서세원 내밀 유명세 맹활약 앞담 제작진 sky 부부 게스트',\n",
              "       '국제사이버대학교 이버대학교 온라인 직장인 학생들 편입생 대학교 2021학년도 전문가 등록금 교수진 학습자 시니어 이수자 교육과정 교육법 홈페이지 국제사 조상윤 한국인터넷전문가협회 게시판',\n",
              "       '대덕 아트센터 한의학 이수인 이채령 과기부 최고상 대전시립미술관 작품전 선승혜 인공지능 정부출연연구기관들 과학기술정보통신부 슈퍼컴퓨터 표준과학연구원 157점 대전시립 현미경 미술관장 창의력 원자력 환경보호 과학기술 미래사회'],\n",
              "      dtype=object)"
            ]
          },
          "metadata": {
            "tags": []
          },
          "execution_count": 22
        }
      ]
    },
    {
      "cell_type": "code",
      "metadata": {
        "colab": {
          "base_uri": "https://localhost:8080/"
        },
        "id": "kyVyVh3d-ifJ",
        "outputId": "dc10d007-f189-448a-c6cf-b0ed58eb182f"
      },
      "source": [
        "# 라벨 추출\n",
        "labels = list(map(str, train['label'].values))\n",
        "labels[:10]"
      ],
      "execution_count": 23,
      "outputs": [
        {
          "output_type": "execute_result",
          "data": {
            "text/plain": [
              "['9', '18', '47', '50', '11', '31', '24', '0', '4', '34']"
            ]
          },
          "metadata": {
            "tags": []
          },
          "execution_count": 23
        }
      ]
    },
    {
      "cell_type": "code",
      "metadata": {
        "id": "EIdPrTGb-lc5"
      },
      "source": [
        "train_dataset = pd.DataFrame({'sentence': sentences, 'label': labels}, columns=['sentence', 'label'])"
      ],
      "execution_count": 24,
      "outputs": []
    },
    {
      "cell_type": "markdown",
      "metadata": {
        "id": "kqpn940jCeaC"
      },
      "source": [
        "<br>\n",
        "<br>\n",
        "\n",
        "# **Preprocessing - TEST SET**"
      ]
    },
    {
      "cell_type": "code",
      "metadata": {
        "colab": {
          "base_uri": "https://localhost:8080/"
        },
        "id": "P8R9JzBBBxNs",
        "outputId": "989848eb-0172-4216-8ce8-8371d32fad2d"
      },
      "source": [
        "# 문장 추출\n",
        "sentences = test['input'].values\n",
        "sentences[:10]"
      ],
      "execution_count": 25,
      "outputs": [
        {
          "output_type": "execute_result",
          "data": {
            "text/plain": [
              "array(['트롯 코치진 트로트 시청자 윤도현 첫방 진시몬 황치열 이상호 마이진 박현호 조정민 조항조 전라 김병현 주영훈 장혜리 남진 이상민 충청 박현빈 윤서령 김범룡 경상 해밍턴 설하윤 조이현 강원 87팀 설운도 응원단장 진해 박구윤 김수희 제주 임하룡 진해성',\n",
              "       '윤석열 추미애 법무부 행정소송 검찰총장 재판부 대리인 언론사 징계위',\n",
              "       '장동민 26차례 원주경찰서 원주시 강원 탐문수사 유튜브 국립과학수사원 수사원 가족들 개그맨 승용차 관계자 3개월 2600만 선루프 cctv tv cc 혐의 경찰 피해 구속 차례 범행 주변 남성 사실 조사 설치 결과',\n",
              "       '서울중앙지방법원 채널a 공판기일 민사소송 방어권 검언 검언유착 진상조사 이동재 해고 소송 부당 조사 채널 혐의 재판 상대 제기 유착 의혹 왜곡 열람 방어 구속 보장 조서 상태 강요 미수 진상 공판 확인 기일 무효 민사 주장 회사 편집',\n",
              "       '온라인 국립대 코로나19 문재인 사교육 이범 한국 메가스터디 교육부 논술형 사립대 객관식 절대평가 학종 선다형 선다',\n",
              "       '신세계푸드 안주류 편의점 올반 소비자 리테일 신세계그룹 gs리테일 동파육 hmr 간편식 유통망 100여 닐슨코리아 이마트 이마트24 심플리쿡 계열사 gs25',\n",
              "       '임실군 유통기한 임실군청 행정처분 신고전화 위생법 식품위생법 감시원 3천만 안전망 소비자들 덮밥류 관리체계 영업자 완제품 과자류 군민들 소비자 다소비식품 다소비 식품위생감시원들 위생관리팀 c마트 b마트 식품 적발 판매 경과 유통 마트',\n",
              "       '검사장 직무정지 추미애 집단행동 지검장 검찰총장 윤석열 평검사 직무집행 재판부 입장문',\n",
              "       '노벨상 한국 노벨 수상자 스웨덴 과학자 울렌 대한민국 실시간 이화여대 서울대학교 코로나19 오유경 앨버타대학 연구실 마티아스 마이클 우리나라 인공지능 스크리닝 100만 연구팀',\n",
              "       '장애인 기아차 코레일 모빌리티 서울 자동차 홈페이지 업무협약 한국철도공사 유류비 ktx 열차표 사람들 이지무브 해피트레인 120가족 카니발 이동수단 기아자동차 중구 서울본부 가족들 여행경비 희망자 장애인들'],\n",
              "      dtype=object)"
            ]
          },
          "metadata": {
            "tags": []
          },
          "execution_count": 25
        }
      ]
    },
    {
      "cell_type": "code",
      "metadata": {
        "colab": {
          "base_uri": "https://localhost:8080/"
        },
        "id": "WGyfpT37C5r-",
        "outputId": "1c77caab-121e-452c-a6ed-5ddcac262ade"
      },
      "source": [
        "# 라벨 추출\n",
        "labels = list(map(str, test['label'].values))\n",
        "labels[:10]"
      ],
      "execution_count": 26,
      "outputs": [
        {
          "output_type": "execute_result",
          "data": {
            "text/plain": [
              "['2', '20', '7', '20', '4', '50', '24', '7', '32', '29']"
            ]
          },
          "metadata": {
            "tags": []
          },
          "execution_count": 26
        }
      ]
    },
    {
      "cell_type": "code",
      "metadata": {
        "id": "EFzXCEXAC7Qb"
      },
      "source": [
        "test_dataset = pd.DataFrame({'sentence': sentences, 'label': labels}, columns=['sentence', 'label'])"
      ],
      "execution_count": 27,
      "outputs": []
    },
    {
      "cell_type": "code",
      "metadata": {
        "id": "pfPac-so3fhU"
      },
      "source": [
        "dataset_train = train_dataset.values\n",
        "dataset_test = test_dataset.values"
      ],
      "execution_count": 28,
      "outputs": []
    },
    {
      "cell_type": "code",
      "metadata": {
        "id": "GGpdCptk3fhV",
        "colab": {
          "base_uri": "https://localhost:8080/"
        },
        "outputId": "b0856aed-3893-4537-eb8b-79aff77a4ce2"
      },
      "source": [
        "tokenizer = get_tokenizer()\n",
        "tok = nlp.data.BERTSPTokenizer(tokenizer, vocab, lower=False)"
      ],
      "execution_count": 29,
      "outputs": [
        {
          "output_type": "stream",
          "text": [
            "using cached model\n"
          ],
          "name": "stdout"
        }
      ]
    },
    {
      "cell_type": "code",
      "metadata": {
        "id": "0PuofiyC3fhV"
      },
      "source": [
        "class BERTDataset(Dataset):\n",
        "    def __init__(self, dataset, sent_idx, label_idx, bert_tokenizer, max_len,\n",
        "                 pad, pair):\n",
        "        transform = nlp.data.BERTSentenceTransform(\n",
        "            bert_tokenizer, max_seq_length=max_len, pad=pad, pair=pair)\n",
        "\n",
        "        self.sentences = []\n",
        "        self.labels = []\n",
        "        \n",
        "        for i in dataset:\n",
        "            try:\n",
        "                self.sentences.append(transform([i[sent_idx]]))\n",
        "                self.labels.append(np.int32(i[label_idx]))\n",
        "            except Exception as e:\n",
        "                print(e)\n",
        "                print(len(self.sentences), len(self.labels))\n",
        "\n",
        "    def __getitem__(self, i):\n",
        "        return (self.sentences[i] + (self.labels[i], ))\n",
        "\n",
        "    def __len__(self):\n",
        "        return (len(self.labels))\n"
      ],
      "execution_count": 30,
      "outputs": []
    },
    {
      "cell_type": "code",
      "metadata": {
        "id": "fzHSlaRL3fhX"
      },
      "source": [
        "## Setting parameters\n",
        "max_len = 128\n",
        "batch_size = 64\n",
        "warmup_ratio = 0.1\n",
        "num_epochs = 10\n",
        "max_grad_norm = 1\n",
        "log_interval = 200\n",
        "learning_rate =  2e-5"
      ],
      "execution_count": 39,
      "outputs": []
    },
    {
      "cell_type": "code",
      "metadata": {
        "id": "C6-5cIr_3fhX",
        "colab": {
          "base_uri": "https://localhost:8080/"
        },
        "outputId": "350c96ca-62ff-4b42-c247-df85d25a790f"
      },
      "source": [
        "data_train = BERTDataset(dataset_train, 0, 1, tok, max_len, True, False)\n",
        "data_test = BERTDataset(dataset_test, 0, 1, tok, max_len, True, False)"
      ],
      "execution_count": 32,
      "outputs": [
        {
          "output_type": "stream",
          "text": [
            "Argument 'text' has incorrect type (expected str, got float)\n",
            "645 645\n",
            "Argument 'text' has incorrect type (expected str, got float)\n",
            "964 964\n",
            "Argument 'text' has incorrect type (expected str, got float)\n",
            "15288 15288\n",
            "Argument 'text' has incorrect type (expected str, got float)\n",
            "15814 15814\n",
            "Argument 'text' has incorrect type (expected str, got float)\n",
            "28921 28921\n",
            "Argument 'text' has incorrect type (expected str, got float)\n",
            "33955 33955\n",
            "Argument 'text' has incorrect type (expected str, got float)\n",
            "2239 2239\n"
          ],
          "name": "stdout"
        }
      ]
    },
    {
      "cell_type": "code",
      "metadata": {
        "id": "cKi6diKg3fhY"
      },
      "source": [
        "train_dataloader = torch.utils.data.DataLoader(data_train, batch_size=batch_size, num_workers=5)\n",
        "test_dataloader = torch.utils.data.DataLoader(data_test, batch_size=batch_size, num_workers=5)"
      ],
      "execution_count": 33,
      "outputs": []
    },
    {
      "cell_type": "code",
      "metadata": {
        "id": "vyQwm0IX3fhY"
      },
      "source": [
        "class BERTClassifier(nn.Module):\n",
        "    def __init__(self,\n",
        "                 bert,\n",
        "                 hidden_size = 768,\n",
        "                 num_classes=NUM_LABELS,\n",
        "                 dr_rate=None,\n",
        "                 params=None):\n",
        "        super(BERTClassifier, self).__init__()\n",
        "        self.bert = bert\n",
        "        self.dr_rate = dr_rate\n",
        "                 \n",
        "        self.classifier = nn.Linear(hidden_size , num_classes)\n",
        "        if dr_rate:\n",
        "            self.dropout = nn.Dropout(p=dr_rate)\n",
        "    \n",
        "    def gen_attention_mask(self, token_ids, valid_length):\n",
        "        attention_mask = torch.zeros_like(token_ids)\n",
        "        for i, v in enumerate(valid_length):\n",
        "            attention_mask[i][:v] = 1\n",
        "        return attention_mask.float()\n",
        "\n",
        "    def forward(self, token_ids, valid_length, segment_ids):\n",
        "        attention_mask = self.gen_attention_mask(token_ids, valid_length)\n",
        "        \n",
        "        _, pooler = self.bert(input_ids = token_ids, token_type_ids = segment_ids.long(), attention_mask = attention_mask.float().to(token_ids.device))\n",
        "        if self.dr_rate:\n",
        "            out = self.dropout(pooler)\n",
        "        return self.classifier(out)"
      ],
      "execution_count": 50,
      "outputs": []
    },
    {
      "cell_type": "code",
      "metadata": {
        "id": "pVHEkGhZ3fhY"
      },
      "source": [
        "model = BERTClassifier(bertmodel,  dr_rate=0.25).to(device)"
      ],
      "execution_count": 51,
      "outputs": []
    },
    {
      "cell_type": "code",
      "metadata": {
        "id": "yJioktR-3fhY"
      },
      "source": [
        "# Prepare optimizer and schedule (linear warmup and decay)\n",
        "no_decay = ['bias', 'LayerNorm.weight']\n",
        "optimizer_grouped_parameters = [\n",
        "    {'params': [p for n, p in model.named_parameters() if not any(nd in n for nd in no_decay)], 'weight_decay': 0.01},\n",
        "    {'params': [p for n, p in model.named_parameters() if any(nd in n for nd in no_decay)], 'weight_decay': 0.0}\n",
        "]"
      ],
      "execution_count": 52,
      "outputs": []
    },
    {
      "cell_type": "code",
      "metadata": {
        "id": "q52RGVwE3fhZ"
      },
      "source": [
        "optimizer = AdamW(optimizer_grouped_parameters, lr=learning_rate)\n",
        "loss_fn = nn.CrossEntropyLoss()"
      ],
      "execution_count": 53,
      "outputs": []
    },
    {
      "cell_type": "code",
      "metadata": {
        "id": "2otUyqVz3fhb"
      },
      "source": [
        "t_total = len(train_dataloader) * num_epochs\n",
        "warmup_step = int(t_total * warmup_ratio)"
      ],
      "execution_count": 54,
      "outputs": []
    },
    {
      "cell_type": "code",
      "metadata": {
        "id": "_Bm2FUER3fhb"
      },
      "source": [
        "scheduler = get_cosine_schedule_with_warmup(optimizer, num_warmup_steps=warmup_step, num_training_steps=t_total)"
      ],
      "execution_count": 55,
      "outputs": []
    },
    {
      "cell_type": "code",
      "metadata": {
        "id": "Q4mZE95c3fhb"
      },
      "source": [
        "def calc_accuracy(X,Y):\n",
        "    max_vals, max_indices = torch.max(X, 1)\n",
        "    train_acc = (max_indices == Y).sum().data.cpu().numpy()/max_indices.size()[0]\n",
        "    return train_acc"
      ],
      "execution_count": 56,
      "outputs": []
    },
    {
      "cell_type": "code",
      "metadata": {
        "id": "9GUC46J4gYpA"
      },
      "source": [
        "from time import gmtime, strftime\n",
        "START_TIME = strftime(\"%Y_%m_%d_%H_%M_%S\", gmtime())"
      ],
      "execution_count": 57,
      "outputs": []
    },
    {
      "cell_type": "code",
      "metadata": {
        "id": "wR2vjq0wgpAY"
      },
      "source": [
        "SAVE_PATH = BASE_PATH+\"/bert_news_model_{}.pth\".format(START_TIME)"
      ],
      "execution_count": 58,
      "outputs": []
    },
    {
      "cell_type": "code",
      "metadata": {
        "id": "bqabA3z43fhc",
        "colab": {
          "base_uri": "https://localhost:8080/",
          "height": 83,
          "referenced_widgets": [
            "0ab7130d14a34bffb1ca4355491ac1c9",
            "0a9ee955f7194fa49fa22e5fcaa00b00",
            "ab067b8b1b7144eca4f2484a8c1444a9",
            "eefc488e9c7e4ea5841beda847182510",
            "141c2b1e142946e4a20f1ede89eec776",
            "5ebd6797b88141d6b6878bfe5f6dbfed",
            "15361f02bcc84ba99350e4629e087de0",
            "fd19f9d5614d4b0a8a5cd176a19a403a"
          ]
        },
        "outputId": "9e8a2519-ada7-4c30-f06a-0f18e337ffd2"
      },
      "source": [
        "for e in range(num_epochs):\n",
        "    train_acc = 0.0\n",
        "    test_acc = 0.0\n",
        "    model.train()\n",
        "    for batch_id, (token_ids, valid_length, segment_ids, label) in enumerate(notebook.tqdm(train_dataloader)):\n",
        "        optimizer.zero_grad()\n",
        "        token_ids = token_ids.long().to(device)\n",
        "        segment_ids = segment_ids.long().to(device)\n",
        "        valid_length= valid_length\n",
        "        label = label.long().to(device)\n",
        "        out = model(token_ids, valid_length, segment_ids)\n",
        "        loss = loss_fn(out, label)\n",
        "        loss.backward()\n",
        "        torch.nn.utils.clip_grad_norm_(model.parameters(), max_grad_norm)\n",
        "        optimizer.step()\n",
        "        scheduler.step()  # Update learning rate schedule\n",
        "        train_acc += calc_accuracy(out, label)\n",
        "        if batch_id % log_interval == 0:\n",
        "            print(\"epoch {} batch id {} loss {} train acc {}\".format(e+1, batch_id+1, loss.data.cpu().numpy(), train_acc / (batch_id+1)))\n",
        "    print(\"epoch {} train acc {}\".format(e+1, train_acc / (batch_id+1)))\n",
        "    \n",
        "    torch.save(model.state_dict(), SAVE_PATH)\n",
        "    print(\"Model saved at {}\".format(SAVE_PATH))\n",
        "\n",
        "    model.eval()\n",
        "    for batch_id, (token_ids, valid_length, segment_ids, label) in enumerate(notebook.tqdm(test_dataloader)):\n",
        "        token_ids = token_ids.long().to(device)\n",
        "        segment_ids = segment_ids.long().to(device)\n",
        "        valid_length= valid_length\n",
        "        label = label.long().to(device)\n",
        "        out = model(token_ids, valid_length, segment_ids)\n",
        "        test_acc += calc_accuracy(out, label)\n",
        "    print(\"epoch {} test acc {}\".format(e+1, test_acc / (batch_id+1)))"
      ],
      "execution_count": null,
      "outputs": [
        {
          "output_type": "display_data",
          "data": {
            "application/vnd.jupyter.widget-view+json": {
              "model_id": "0ab7130d14a34bffb1ca4355491ac1c9",
              "version_minor": 0,
              "version_major": 2
            },
            "text/plain": [
              "HBox(children=(FloatProgress(value=0.0, max=606.0), HTML(value='')))"
            ]
          },
          "metadata": {
            "tags": []
          }
        },
        {
          "output_type": "stream",
          "text": [
            "epoch 1 batch id 1 loss 4.102231979370117 train acc 0.015625\n",
            "epoch 1 batch id 201 loss 3.732353925704956 train acc 0.05418221393034826\n"
          ],
          "name": "stdout"
        }
      ]
    },
    {
      "cell_type": "code",
      "metadata": {
        "id": "IlrEZiOMII4N"
      },
      "source": [
        ""
      ],
      "execution_count": null,
      "outputs": []
    },
    {
      "cell_type": "code",
      "metadata": {
        "id": "0pm8P_SXH9FL"
      },
      "source": [
        ""
      ],
      "execution_count": null,
      "outputs": []
    }
  ]
}