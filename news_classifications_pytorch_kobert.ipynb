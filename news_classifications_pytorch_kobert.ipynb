{
  "nbformat": 4,
  "nbformat_minor": 0,
  "metadata": {
    "kernelspec": {
      "display_name": "Python 3",
      "language": "python",
      "name": "python3"
    },
    "language_info": {
      "codemirror_mode": {
        "name": "ipython",
        "version": 3
      },
      "file_extension": ".py",
      "mimetype": "text/x-python",
      "name": "python",
      "nbconvert_exporter": "python",
      "pygments_lexer": "ipython3",
      "version": "3.7.6-final"
    },
    "colab": {
      "name": "news_classifications_pytorch_kobert.ipynb",
      "provenance": [],
      "collapsed_sections": [],
      "toc_visible": true,
      "machine_shape": "hm",
      "include_colab_link": true
    },
    "accelerator": "GPU",
    "widgets": {
      "application/vnd.jupyter.widget-state+json": {
        "fc308a475ccc42ac8c6390c17449e821": {
          "model_module": "@jupyter-widgets/controls",
          "model_name": "HBoxModel",
          "state": {
            "_view_name": "HBoxView",
            "_dom_classes": [],
            "_model_name": "HBoxModel",
            "_view_module": "@jupyter-widgets/controls",
            "_model_module_version": "1.5.0",
            "_view_count": null,
            "_view_module_version": "1.5.0",
            "box_style": "",
            "layout": "IPY_MODEL_267f7f03e358487c9f0731e81d435c3f",
            "_model_module": "@jupyter-widgets/controls",
            "children": [
              "IPY_MODEL_2178453d7ecd4f53b3ab2021e8631a37",
              "IPY_MODEL_c11e48916770471081e6d2a6e7bc2c2e"
            ]
          }
        },
        "267f7f03e358487c9f0731e81d435c3f": {
          "model_module": "@jupyter-widgets/base",
          "model_name": "LayoutModel",
          "state": {
            "_view_name": "LayoutView",
            "grid_template_rows": null,
            "right": null,
            "justify_content": null,
            "_view_module": "@jupyter-widgets/base",
            "overflow": null,
            "_model_module_version": "1.2.0",
            "_view_count": null,
            "flex_flow": null,
            "width": null,
            "min_width": null,
            "border": null,
            "align_items": null,
            "bottom": null,
            "_model_module": "@jupyter-widgets/base",
            "top": null,
            "grid_column": null,
            "overflow_y": null,
            "overflow_x": null,
            "grid_auto_flow": null,
            "grid_area": null,
            "grid_template_columns": null,
            "flex": null,
            "_model_name": "LayoutModel",
            "justify_items": null,
            "grid_row": null,
            "max_height": null,
            "align_content": null,
            "visibility": null,
            "align_self": null,
            "height": null,
            "min_height": null,
            "padding": null,
            "grid_auto_rows": null,
            "grid_gap": null,
            "max_width": null,
            "order": null,
            "_view_module_version": "1.2.0",
            "grid_template_areas": null,
            "object_position": null,
            "object_fit": null,
            "grid_auto_columns": null,
            "margin": null,
            "display": null,
            "left": null
          }
        },
        "2178453d7ecd4f53b3ab2021e8631a37": {
          "model_module": "@jupyter-widgets/controls",
          "model_name": "FloatProgressModel",
          "state": {
            "_view_name": "ProgressView",
            "style": "IPY_MODEL_0dfba766102d48bb90fe96e2bc614746",
            "_dom_classes": [],
            "description": "100%",
            "_model_name": "FloatProgressModel",
            "bar_style": "success",
            "max": 682,
            "_view_module": "@jupyter-widgets/controls",
            "_model_module_version": "1.5.0",
            "value": 682,
            "_view_count": null,
            "_view_module_version": "1.5.0",
            "orientation": "horizontal",
            "min": 0,
            "description_tooltip": null,
            "_model_module": "@jupyter-widgets/controls",
            "layout": "IPY_MODEL_702ad99be01b43dbb4e5d7836707d357"
          }
        },
        "c11e48916770471081e6d2a6e7bc2c2e": {
          "model_module": "@jupyter-widgets/controls",
          "model_name": "HTMLModel",
          "state": {
            "_view_name": "HTMLView",
            "style": "IPY_MODEL_1095441dcb7f49c68b93eb25851e06c2",
            "_dom_classes": [],
            "description": "",
            "_model_name": "HTMLModel",
            "placeholder": "​",
            "_view_module": "@jupyter-widgets/controls",
            "_model_module_version": "1.5.0",
            "value": " 682/682 [04:59&lt;00:00,  2.28it/s]",
            "_view_count": null,
            "_view_module_version": "1.5.0",
            "description_tooltip": null,
            "_model_module": "@jupyter-widgets/controls",
            "layout": "IPY_MODEL_23bb4397b17349369b40444f930d0d53"
          }
        },
        "0dfba766102d48bb90fe96e2bc614746": {
          "model_module": "@jupyter-widgets/controls",
          "model_name": "ProgressStyleModel",
          "state": {
            "_view_name": "StyleView",
            "_model_name": "ProgressStyleModel",
            "description_width": "initial",
            "_view_module": "@jupyter-widgets/base",
            "_model_module_version": "1.5.0",
            "_view_count": null,
            "_view_module_version": "1.2.0",
            "bar_color": null,
            "_model_module": "@jupyter-widgets/controls"
          }
        },
        "702ad99be01b43dbb4e5d7836707d357": {
          "model_module": "@jupyter-widgets/base",
          "model_name": "LayoutModel",
          "state": {
            "_view_name": "LayoutView",
            "grid_template_rows": null,
            "right": null,
            "justify_content": null,
            "_view_module": "@jupyter-widgets/base",
            "overflow": null,
            "_model_module_version": "1.2.0",
            "_view_count": null,
            "flex_flow": null,
            "width": null,
            "min_width": null,
            "border": null,
            "align_items": null,
            "bottom": null,
            "_model_module": "@jupyter-widgets/base",
            "top": null,
            "grid_column": null,
            "overflow_y": null,
            "overflow_x": null,
            "grid_auto_flow": null,
            "grid_area": null,
            "grid_template_columns": null,
            "flex": null,
            "_model_name": "LayoutModel",
            "justify_items": null,
            "grid_row": null,
            "max_height": null,
            "align_content": null,
            "visibility": null,
            "align_self": null,
            "height": null,
            "min_height": null,
            "padding": null,
            "grid_auto_rows": null,
            "grid_gap": null,
            "max_width": null,
            "order": null,
            "_view_module_version": "1.2.0",
            "grid_template_areas": null,
            "object_position": null,
            "object_fit": null,
            "grid_auto_columns": null,
            "margin": null,
            "display": null,
            "left": null
          }
        },
        "1095441dcb7f49c68b93eb25851e06c2": {
          "model_module": "@jupyter-widgets/controls",
          "model_name": "DescriptionStyleModel",
          "state": {
            "_view_name": "StyleView",
            "_model_name": "DescriptionStyleModel",
            "description_width": "",
            "_view_module": "@jupyter-widgets/base",
            "_model_module_version": "1.5.0",
            "_view_count": null,
            "_view_module_version": "1.2.0",
            "_model_module": "@jupyter-widgets/controls"
          }
        },
        "23bb4397b17349369b40444f930d0d53": {
          "model_module": "@jupyter-widgets/base",
          "model_name": "LayoutModel",
          "state": {
            "_view_name": "LayoutView",
            "grid_template_rows": null,
            "right": null,
            "justify_content": null,
            "_view_module": "@jupyter-widgets/base",
            "overflow": null,
            "_model_module_version": "1.2.0",
            "_view_count": null,
            "flex_flow": null,
            "width": null,
            "min_width": null,
            "border": null,
            "align_items": null,
            "bottom": null,
            "_model_module": "@jupyter-widgets/base",
            "top": null,
            "grid_column": null,
            "overflow_y": null,
            "overflow_x": null,
            "grid_auto_flow": null,
            "grid_area": null,
            "grid_template_columns": null,
            "flex": null,
            "_model_name": "LayoutModel",
            "justify_items": null,
            "grid_row": null,
            "max_height": null,
            "align_content": null,
            "visibility": null,
            "align_self": null,
            "height": null,
            "min_height": null,
            "padding": null,
            "grid_auto_rows": null,
            "grid_gap": null,
            "max_width": null,
            "order": null,
            "_view_module_version": "1.2.0",
            "grid_template_areas": null,
            "object_position": null,
            "object_fit": null,
            "grid_auto_columns": null,
            "margin": null,
            "display": null,
            "left": null
          }
        },
        "6b2a653528bf444eaefc1d8a54b231db": {
          "model_module": "@jupyter-widgets/controls",
          "model_name": "HBoxModel",
          "state": {
            "_view_name": "HBoxView",
            "_dom_classes": [],
            "_model_name": "HBoxModel",
            "_view_module": "@jupyter-widgets/controls",
            "_model_module_version": "1.5.0",
            "_view_count": null,
            "_view_module_version": "1.5.0",
            "box_style": "",
            "layout": "IPY_MODEL_37a28bded9124ebca3223ff504a4fccb",
            "_model_module": "@jupyter-widgets/controls",
            "children": [
              "IPY_MODEL_afdffe6350344353bbad76f150a51ef6",
              "IPY_MODEL_3dad790a43324389bc58a317f2874316"
            ]
          }
        },
        "37a28bded9124ebca3223ff504a4fccb": {
          "model_module": "@jupyter-widgets/base",
          "model_name": "LayoutModel",
          "state": {
            "_view_name": "LayoutView",
            "grid_template_rows": null,
            "right": null,
            "justify_content": null,
            "_view_module": "@jupyter-widgets/base",
            "overflow": null,
            "_model_module_version": "1.2.0",
            "_view_count": null,
            "flex_flow": null,
            "width": null,
            "min_width": null,
            "border": null,
            "align_items": null,
            "bottom": null,
            "_model_module": "@jupyter-widgets/base",
            "top": null,
            "grid_column": null,
            "overflow_y": null,
            "overflow_x": null,
            "grid_auto_flow": null,
            "grid_area": null,
            "grid_template_columns": null,
            "flex": null,
            "_model_name": "LayoutModel",
            "justify_items": null,
            "grid_row": null,
            "max_height": null,
            "align_content": null,
            "visibility": null,
            "align_self": null,
            "height": null,
            "min_height": null,
            "padding": null,
            "grid_auto_rows": null,
            "grid_gap": null,
            "max_width": null,
            "order": null,
            "_view_module_version": "1.2.0",
            "grid_template_areas": null,
            "object_position": null,
            "object_fit": null,
            "grid_auto_columns": null,
            "margin": null,
            "display": null,
            "left": null
          }
        },
        "afdffe6350344353bbad76f150a51ef6": {
          "model_module": "@jupyter-widgets/controls",
          "model_name": "FloatProgressModel",
          "state": {
            "_view_name": "ProgressView",
            "style": "IPY_MODEL_ece3f9becf784e569c23345d6803e29e",
            "_dom_classes": [],
            "description": "100%",
            "_model_name": "FloatProgressModel",
            "bar_style": "success",
            "max": 76,
            "_view_module": "@jupyter-widgets/controls",
            "_model_module_version": "1.5.0",
            "value": 76,
            "_view_count": null,
            "_view_module_version": "1.5.0",
            "orientation": "horizontal",
            "min": 0,
            "description_tooltip": null,
            "_model_module": "@jupyter-widgets/controls",
            "layout": "IPY_MODEL_9760e2b3a26b47068783bacb282e3831"
          }
        },
        "3dad790a43324389bc58a317f2874316": {
          "model_module": "@jupyter-widgets/controls",
          "model_name": "HTMLModel",
          "state": {
            "_view_name": "HTMLView",
            "style": "IPY_MODEL_ed66cecc86244225b975e5bcb066a668",
            "_dom_classes": [],
            "description": "",
            "_model_name": "HTMLModel",
            "placeholder": "​",
            "_view_module": "@jupyter-widgets/controls",
            "_model_module_version": "1.5.0",
            "value": " 76/76 [00:11&lt;00:00,  6.47it/s]",
            "_view_count": null,
            "_view_module_version": "1.5.0",
            "description_tooltip": null,
            "_model_module": "@jupyter-widgets/controls",
            "layout": "IPY_MODEL_b84eb321431c4b1eafc1cb8903d1c901"
          }
        },
        "ece3f9becf784e569c23345d6803e29e": {
          "model_module": "@jupyter-widgets/controls",
          "model_name": "ProgressStyleModel",
          "state": {
            "_view_name": "StyleView",
            "_model_name": "ProgressStyleModel",
            "description_width": "initial",
            "_view_module": "@jupyter-widgets/base",
            "_model_module_version": "1.5.0",
            "_view_count": null,
            "_view_module_version": "1.2.0",
            "bar_color": null,
            "_model_module": "@jupyter-widgets/controls"
          }
        },
        "9760e2b3a26b47068783bacb282e3831": {
          "model_module": "@jupyter-widgets/base",
          "model_name": "LayoutModel",
          "state": {
            "_view_name": "LayoutView",
            "grid_template_rows": null,
            "right": null,
            "justify_content": null,
            "_view_module": "@jupyter-widgets/base",
            "overflow": null,
            "_model_module_version": "1.2.0",
            "_view_count": null,
            "flex_flow": null,
            "width": null,
            "min_width": null,
            "border": null,
            "align_items": null,
            "bottom": null,
            "_model_module": "@jupyter-widgets/base",
            "top": null,
            "grid_column": null,
            "overflow_y": null,
            "overflow_x": null,
            "grid_auto_flow": null,
            "grid_area": null,
            "grid_template_columns": null,
            "flex": null,
            "_model_name": "LayoutModel",
            "justify_items": null,
            "grid_row": null,
            "max_height": null,
            "align_content": null,
            "visibility": null,
            "align_self": null,
            "height": null,
            "min_height": null,
            "padding": null,
            "grid_auto_rows": null,
            "grid_gap": null,
            "max_width": null,
            "order": null,
            "_view_module_version": "1.2.0",
            "grid_template_areas": null,
            "object_position": null,
            "object_fit": null,
            "grid_auto_columns": null,
            "margin": null,
            "display": null,
            "left": null
          }
        },
        "ed66cecc86244225b975e5bcb066a668": {
          "model_module": "@jupyter-widgets/controls",
          "model_name": "DescriptionStyleModel",
          "state": {
            "_view_name": "StyleView",
            "_model_name": "DescriptionStyleModel",
            "description_width": "",
            "_view_module": "@jupyter-widgets/base",
            "_model_module_version": "1.5.0",
            "_view_count": null,
            "_view_module_version": "1.2.0",
            "_model_module": "@jupyter-widgets/controls"
          }
        },
        "b84eb321431c4b1eafc1cb8903d1c901": {
          "model_module": "@jupyter-widgets/base",
          "model_name": "LayoutModel",
          "state": {
            "_view_name": "LayoutView",
            "grid_template_rows": null,
            "right": null,
            "justify_content": null,
            "_view_module": "@jupyter-widgets/base",
            "overflow": null,
            "_model_module_version": "1.2.0",
            "_view_count": null,
            "flex_flow": null,
            "width": null,
            "min_width": null,
            "border": null,
            "align_items": null,
            "bottom": null,
            "_model_module": "@jupyter-widgets/base",
            "top": null,
            "grid_column": null,
            "overflow_y": null,
            "overflow_x": null,
            "grid_auto_flow": null,
            "grid_area": null,
            "grid_template_columns": null,
            "flex": null,
            "_model_name": "LayoutModel",
            "justify_items": null,
            "grid_row": null,
            "max_height": null,
            "align_content": null,
            "visibility": null,
            "align_self": null,
            "height": null,
            "min_height": null,
            "padding": null,
            "grid_auto_rows": null,
            "grid_gap": null,
            "max_width": null,
            "order": null,
            "_view_module_version": "1.2.0",
            "grid_template_areas": null,
            "object_position": null,
            "object_fit": null,
            "grid_auto_columns": null,
            "margin": null,
            "display": null,
            "left": null
          }
        },
        "9d0ce1f3c98e42bdb02ce635e06c4a8e": {
          "model_module": "@jupyter-widgets/controls",
          "model_name": "HBoxModel",
          "state": {
            "_view_name": "HBoxView",
            "_dom_classes": [],
            "_model_name": "HBoxModel",
            "_view_module": "@jupyter-widgets/controls",
            "_model_module_version": "1.5.0",
            "_view_count": null,
            "_view_module_version": "1.5.0",
            "box_style": "",
            "layout": "IPY_MODEL_3b279884cd224ec8a35fb760d32aa507",
            "_model_module": "@jupyter-widgets/controls",
            "children": [
              "IPY_MODEL_c304bf8e5c9c49239479e0f8dc94213e",
              "IPY_MODEL_75a92069688b4a7fb97e06fd54f051be"
            ]
          }
        },
        "3b279884cd224ec8a35fb760d32aa507": {
          "model_module": "@jupyter-widgets/base",
          "model_name": "LayoutModel",
          "state": {
            "_view_name": "LayoutView",
            "grid_template_rows": null,
            "right": null,
            "justify_content": null,
            "_view_module": "@jupyter-widgets/base",
            "overflow": null,
            "_model_module_version": "1.2.0",
            "_view_count": null,
            "flex_flow": null,
            "width": null,
            "min_width": null,
            "border": null,
            "align_items": null,
            "bottom": null,
            "_model_module": "@jupyter-widgets/base",
            "top": null,
            "grid_column": null,
            "overflow_y": null,
            "overflow_x": null,
            "grid_auto_flow": null,
            "grid_area": null,
            "grid_template_columns": null,
            "flex": null,
            "_model_name": "LayoutModel",
            "justify_items": null,
            "grid_row": null,
            "max_height": null,
            "align_content": null,
            "visibility": null,
            "align_self": null,
            "height": null,
            "min_height": null,
            "padding": null,
            "grid_auto_rows": null,
            "grid_gap": null,
            "max_width": null,
            "order": null,
            "_view_module_version": "1.2.0",
            "grid_template_areas": null,
            "object_position": null,
            "object_fit": null,
            "grid_auto_columns": null,
            "margin": null,
            "display": null,
            "left": null
          }
        },
        "c304bf8e5c9c49239479e0f8dc94213e": {
          "model_module": "@jupyter-widgets/controls",
          "model_name": "FloatProgressModel",
          "state": {
            "_view_name": "ProgressView",
            "style": "IPY_MODEL_fda9daba2d0e440ca6d9f8ad148bc40c",
            "_dom_classes": [],
            "description": " 24%",
            "_model_name": "FloatProgressModel",
            "bar_style": "danger",
            "max": 682,
            "_view_module": "@jupyter-widgets/controls",
            "_model_module_version": "1.5.0",
            "value": 164,
            "_view_count": null,
            "_view_module_version": "1.5.0",
            "orientation": "horizontal",
            "min": 0,
            "description_tooltip": null,
            "_model_module": "@jupyter-widgets/controls",
            "layout": "IPY_MODEL_7794bc3a15c54aeda368b4ab0719f0fa"
          }
        },
        "75a92069688b4a7fb97e06fd54f051be": {
          "model_module": "@jupyter-widgets/controls",
          "model_name": "HTMLModel",
          "state": {
            "_view_name": "HTMLView",
            "style": "IPY_MODEL_82aba0b99a984f5386b1cbebbc23bd24",
            "_dom_classes": [],
            "description": "",
            "_model_name": "HTMLModel",
            "placeholder": "​",
            "_view_module": "@jupyter-widgets/controls",
            "_model_module_version": "1.5.0",
            "value": " 164/682 [01:12&lt;03:47,  2.28it/s]",
            "_view_count": null,
            "_view_module_version": "1.5.0",
            "description_tooltip": null,
            "_model_module": "@jupyter-widgets/controls",
            "layout": "IPY_MODEL_6b498c00417d4729812d5cbd26a7de4e"
          }
        },
        "fda9daba2d0e440ca6d9f8ad148bc40c": {
          "model_module": "@jupyter-widgets/controls",
          "model_name": "ProgressStyleModel",
          "state": {
            "_view_name": "StyleView",
            "_model_name": "ProgressStyleModel",
            "description_width": "initial",
            "_view_module": "@jupyter-widgets/base",
            "_model_module_version": "1.5.0",
            "_view_count": null,
            "_view_module_version": "1.2.0",
            "bar_color": null,
            "_model_module": "@jupyter-widgets/controls"
          }
        },
        "7794bc3a15c54aeda368b4ab0719f0fa": {
          "model_module": "@jupyter-widgets/base",
          "model_name": "LayoutModel",
          "state": {
            "_view_name": "LayoutView",
            "grid_template_rows": null,
            "right": null,
            "justify_content": null,
            "_view_module": "@jupyter-widgets/base",
            "overflow": null,
            "_model_module_version": "1.2.0",
            "_view_count": null,
            "flex_flow": null,
            "width": null,
            "min_width": null,
            "border": null,
            "align_items": null,
            "bottom": null,
            "_model_module": "@jupyter-widgets/base",
            "top": null,
            "grid_column": null,
            "overflow_y": null,
            "overflow_x": null,
            "grid_auto_flow": null,
            "grid_area": null,
            "grid_template_columns": null,
            "flex": null,
            "_model_name": "LayoutModel",
            "justify_items": null,
            "grid_row": null,
            "max_height": null,
            "align_content": null,
            "visibility": null,
            "align_self": null,
            "height": null,
            "min_height": null,
            "padding": null,
            "grid_auto_rows": null,
            "grid_gap": null,
            "max_width": null,
            "order": null,
            "_view_module_version": "1.2.0",
            "grid_template_areas": null,
            "object_position": null,
            "object_fit": null,
            "grid_auto_columns": null,
            "margin": null,
            "display": null,
            "left": null
          }
        },
        "82aba0b99a984f5386b1cbebbc23bd24": {
          "model_module": "@jupyter-widgets/controls",
          "model_name": "DescriptionStyleModel",
          "state": {
            "_view_name": "StyleView",
            "_model_name": "DescriptionStyleModel",
            "description_width": "",
            "_view_module": "@jupyter-widgets/base",
            "_model_module_version": "1.5.0",
            "_view_count": null,
            "_view_module_version": "1.2.0",
            "_model_module": "@jupyter-widgets/controls"
          }
        },
        "6b498c00417d4729812d5cbd26a7de4e": {
          "model_module": "@jupyter-widgets/base",
          "model_name": "LayoutModel",
          "state": {
            "_view_name": "LayoutView",
            "grid_template_rows": null,
            "right": null,
            "justify_content": null,
            "_view_module": "@jupyter-widgets/base",
            "overflow": null,
            "_model_module_version": "1.2.0",
            "_view_count": null,
            "flex_flow": null,
            "width": null,
            "min_width": null,
            "border": null,
            "align_items": null,
            "bottom": null,
            "_model_module": "@jupyter-widgets/base",
            "top": null,
            "grid_column": null,
            "overflow_y": null,
            "overflow_x": null,
            "grid_auto_flow": null,
            "grid_area": null,
            "grid_template_columns": null,
            "flex": null,
            "_model_name": "LayoutModel",
            "justify_items": null,
            "grid_row": null,
            "max_height": null,
            "align_content": null,
            "visibility": null,
            "align_self": null,
            "height": null,
            "min_height": null,
            "padding": null,
            "grid_auto_rows": null,
            "grid_gap": null,
            "max_width": null,
            "order": null,
            "_view_module_version": "1.2.0",
            "grid_template_areas": null,
            "object_position": null,
            "object_fit": null,
            "grid_auto_columns": null,
            "margin": null,
            "display": null,
            "left": null
          }
        }
      }
    }
  },
  "cells": [
    {
      "cell_type": "markdown",
      "metadata": {
        "id": "view-in-github",
        "colab_type": "text"
      },
      "source": [
        "<a href=\"https://colab.research.google.com/github/gatherheart/Classification_With_BERT/blob/main/news_classifications_pytorch_kobert.ipynb\" target=\"_parent\"><img src=\"https://colab.research.google.com/assets/colab-badge.svg\" alt=\"Open In Colab\"/></a>"
      ]
    },
    {
      "cell_type": "code",
      "metadata": {
        "id": "t3QrgLNn3fhF",
        "colab": {
          "base_uri": "https://localhost:8080/"
        },
        "outputId": "6bd08c28-653e-486e-8930-3194d514eaa2"
      },
      "source": [
        "!pip install mxnet\n",
        "!pip install gluonnlp pandas tqdm\n",
        "!pip install sentencepiece\n",
        "!pip install transformers==3\n",
        "!pip install torch"
      ],
      "execution_count": null,
      "outputs": [
        {
          "output_type": "stream",
          "text": [
            "Requirement already satisfied: mxnet in /usr/local/lib/python3.6/dist-packages (1.7.0.post1)\n",
            "Requirement already satisfied: numpy<2.0.0,>1.16.0 in /usr/local/lib/python3.6/dist-packages (from mxnet) (1.18.5)\n",
            "Requirement already satisfied: requests<3,>=2.20.0 in /usr/local/lib/python3.6/dist-packages (from mxnet) (2.23.0)\n",
            "Requirement already satisfied: graphviz<0.9.0,>=0.8.1 in /usr/local/lib/python3.6/dist-packages (from mxnet) (0.8.4)\n",
            "Requirement already satisfied: urllib3!=1.25.0,!=1.25.1,<1.26,>=1.21.1 in /usr/local/lib/python3.6/dist-packages (from requests<3,>=2.20.0->mxnet) (1.24.3)\n",
            "Requirement already satisfied: certifi>=2017.4.17 in /usr/local/lib/python3.6/dist-packages (from requests<3,>=2.20.0->mxnet) (2020.12.5)\n",
            "Requirement already satisfied: idna<3,>=2.5 in /usr/local/lib/python3.6/dist-packages (from requests<3,>=2.20.0->mxnet) (2.10)\n",
            "Requirement already satisfied: chardet<4,>=3.0.2 in /usr/local/lib/python3.6/dist-packages (from requests<3,>=2.20.0->mxnet) (3.0.4)\n",
            "Requirement already satisfied: gluonnlp in /usr/local/lib/python3.6/dist-packages (0.10.0)\n",
            "Requirement already satisfied: pandas in /usr/local/lib/python3.6/dist-packages (1.1.5)\n",
            "Requirement already satisfied: tqdm in /usr/local/lib/python3.6/dist-packages (4.41.1)\n",
            "Requirement already satisfied: packaging in /usr/local/lib/python3.6/dist-packages (from gluonnlp) (20.7)\n",
            "Requirement already satisfied: cython in /usr/local/lib/python3.6/dist-packages (from gluonnlp) (0.29.21)\n",
            "Requirement already satisfied: numpy>=1.16.0 in /usr/local/lib/python3.6/dist-packages (from gluonnlp) (1.18.5)\n",
            "Requirement already satisfied: pytz>=2017.2 in /usr/local/lib/python3.6/dist-packages (from pandas) (2018.9)\n",
            "Requirement already satisfied: python-dateutil>=2.7.3 in /usr/local/lib/python3.6/dist-packages (from pandas) (2.8.1)\n",
            "Requirement already satisfied: pyparsing>=2.0.2 in /usr/local/lib/python3.6/dist-packages (from packaging->gluonnlp) (2.4.7)\n",
            "Requirement already satisfied: six>=1.5 in /usr/local/lib/python3.6/dist-packages (from python-dateutil>=2.7.3->pandas) (1.15.0)\n",
            "Requirement already satisfied: sentencepiece in /usr/local/lib/python3.6/dist-packages (0.1.94)\n",
            "Requirement already satisfied: transformers==3 in /usr/local/lib/python3.6/dist-packages (3.0.0)\n",
            "Requirement already satisfied: regex!=2019.12.17 in /usr/local/lib/python3.6/dist-packages (from transformers==3) (2019.12.20)\n",
            "Requirement already satisfied: filelock in /usr/local/lib/python3.6/dist-packages (from transformers==3) (3.0.12)\n",
            "Requirement already satisfied: requests in /usr/local/lib/python3.6/dist-packages (from transformers==3) (2.23.0)\n",
            "Requirement already satisfied: tqdm>=4.27 in /usr/local/lib/python3.6/dist-packages (from transformers==3) (4.41.1)\n",
            "Requirement already satisfied: dataclasses; python_version < \"3.7\" in /usr/local/lib/python3.6/dist-packages (from transformers==3) (0.8)\n",
            "Requirement already satisfied: sacremoses in /usr/local/lib/python3.6/dist-packages (from transformers==3) (0.0.43)\n",
            "Requirement already satisfied: sentencepiece in /usr/local/lib/python3.6/dist-packages (from transformers==3) (0.1.94)\n",
            "Requirement already satisfied: packaging in /usr/local/lib/python3.6/dist-packages (from transformers==3) (20.7)\n",
            "Requirement already satisfied: numpy in /usr/local/lib/python3.6/dist-packages (from transformers==3) (1.18.5)\n",
            "Requirement already satisfied: tokenizers==0.8.0-rc4 in /usr/local/lib/python3.6/dist-packages (from transformers==3) (0.8.0rc4)\n",
            "Requirement already satisfied: idna<3,>=2.5 in /usr/local/lib/python3.6/dist-packages (from requests->transformers==3) (2.10)\n",
            "Requirement already satisfied: urllib3!=1.25.0,!=1.25.1,<1.26,>=1.21.1 in /usr/local/lib/python3.6/dist-packages (from requests->transformers==3) (1.24.3)\n",
            "Requirement already satisfied: certifi>=2017.4.17 in /usr/local/lib/python3.6/dist-packages (from requests->transformers==3) (2020.12.5)\n",
            "Requirement already satisfied: chardet<4,>=3.0.2 in /usr/local/lib/python3.6/dist-packages (from requests->transformers==3) (3.0.4)\n",
            "Requirement already satisfied: click in /usr/local/lib/python3.6/dist-packages (from sacremoses->transformers==3) (7.1.2)\n",
            "Requirement already satisfied: six in /usr/local/lib/python3.6/dist-packages (from sacremoses->transformers==3) (1.15.0)\n",
            "Requirement already satisfied: joblib in /usr/local/lib/python3.6/dist-packages (from sacremoses->transformers==3) (0.17.0)\n",
            "Requirement already satisfied: pyparsing>=2.0.2 in /usr/local/lib/python3.6/dist-packages (from packaging->transformers==3) (2.4.7)\n",
            "Requirement already satisfied: torch in /usr/local/lib/python3.6/dist-packages (1.7.0+cu101)\n",
            "Requirement already satisfied: future in /usr/local/lib/python3.6/dist-packages (from torch) (0.16.0)\n",
            "Requirement already satisfied: typing-extensions in /usr/local/lib/python3.6/dist-packages (from torch) (3.7.4.3)\n",
            "Requirement already satisfied: dataclasses in /usr/local/lib/python3.6/dist-packages (from torch) (0.8)\n",
            "Requirement already satisfied: numpy in /usr/local/lib/python3.6/dist-packages (from torch) (1.18.5)\n"
          ],
          "name": "stdout"
        }
      ]
    },
    {
      "cell_type": "code",
      "metadata": {
        "colab": {
          "base_uri": "https://localhost:8080/"
        },
        "id": "tbBxVCJK9I9d",
        "outputId": "b6378b2f-0522-41c5-8b93-7f86f8ca4612"
      },
      "source": [
        "from google.colab import drive\n",
        "drive.mount('/content/drive', force_remount=True)"
      ],
      "execution_count": null,
      "outputs": [
        {
          "output_type": "stream",
          "text": [
            "Mounted at /content/drive\n"
          ],
          "name": "stdout"
        }
      ]
    },
    {
      "cell_type": "code",
      "metadata": {
        "id": "74vQa_653fhR",
        "colab": {
          "base_uri": "https://localhost:8080/"
        },
        "outputId": "393c0c54-66ae-4850-ed78-2906af58dd05"
      },
      "source": [
        "!pip install git+https://git@github.com/SKTBrain/KoBERT.git@master"
      ],
      "execution_count": null,
      "outputs": [
        {
          "output_type": "stream",
          "text": [
            "Collecting git+https://****@github.com/SKTBrain/KoBERT.git@master\n",
            "  Cloning https://****@github.com/SKTBrain/KoBERT.git (to revision master) to /tmp/pip-req-build-kr53hsl2\n",
            "  Running command git clone -q 'https://****@github.com/SKTBrain/KoBERT.git' /tmp/pip-req-build-kr53hsl2\n",
            "Requirement already satisfied (use --upgrade to upgrade): kobert==0.1.2 from git+https://****@github.com/SKTBrain/KoBERT.git@master in /usr/local/lib/python3.6/dist-packages\n",
            "Building wheels for collected packages: kobert\n",
            "  Building wheel for kobert (setup.py) ... \u001b[?25l\u001b[?25hdone\n",
            "  Created wheel for kobert: filename=kobert-0.1.2-cp36-none-any.whl size=12734 sha256=b9f18921712d516bdab61bd445251ab5765b92c99506171f3ef0111ffba14010\n",
            "  Stored in directory: /tmp/pip-ephem-wheel-cache-hs4cp3vv/wheels/a2/b0/41/435ee4e918f91918be41529283c5ff86cd010f02e7525aecf3\n",
            "Successfully built kobert\n"
          ],
          "name": "stdout"
        }
      ]
    },
    {
      "cell_type": "code",
      "metadata": {
        "id": "5ZX5VedV3fhS"
      },
      "source": [
        "import torch\n",
        "from torch import nn\n",
        "import torch.nn.functional as F\n",
        "import torch.optim as optim\n",
        "from torch.utils.data import Dataset, DataLoader\n",
        "import gluonnlp as nlp\n",
        "from tqdm import tqdm, tqdm_notebook, notebook"
      ],
      "execution_count": null,
      "outputs": []
    },
    {
      "cell_type": "code",
      "metadata": {
        "id": "KtNxYIJc3fhS"
      },
      "source": [
        "from kobert.utils import get_tokenizer\n",
        "from kobert.pytorch_kobert import get_pytorch_kobert_model"
      ],
      "execution_count": null,
      "outputs": []
    },
    {
      "cell_type": "code",
      "metadata": {
        "id": "7sNO_5z43fhS"
      },
      "source": [
        "from transformers import AdamW\n",
        "from transformers.optimization import get_cosine_schedule_with_warmup"
      ],
      "execution_count": null,
      "outputs": []
    },
    {
      "cell_type": "code",
      "metadata": {
        "id": "g_Qf1j1x92wF"
      },
      "source": [
        "import tensorflow as tf\n",
        "\n",
        "from transformers import BertTokenizer\n",
        "from transformers import BertForSequenceClassification, BertConfig\n",
        "from transformers import get_linear_schedule_with_warmup\n",
        "from torch.utils.data import TensorDataset, DataLoader, RandomSampler, SequentialSampler\n",
        "from keras.preprocessing.sequence import pad_sequences\n",
        "from sklearn.model_selection import train_test_split\n",
        "\n",
        "import pandas as pd\n",
        "import numpy as np\n",
        "import random\n",
        "import time\n",
        "import datetime"
      ],
      "execution_count": null,
      "outputs": []
    },
    {
      "cell_type": "code",
      "metadata": {
        "id": "HZ9Us7UG3fhS"
      },
      "source": [
        "##GPU 사용 시\n",
        "device = torch.device(\"cuda:0\")"
      ],
      "execution_count": null,
      "outputs": []
    },
    {
      "cell_type": "code",
      "metadata": {
        "id": "oiL08-_O3fhU",
        "colab": {
          "base_uri": "https://localhost:8080/"
        },
        "outputId": "4c62d30c-e5b8-4131-996e-38a735de97c5"
      },
      "source": [
        "bertmodel, vocab = get_pytorch_kobert_model()"
      ],
      "execution_count": null,
      "outputs": [
        {
          "output_type": "stream",
          "text": [
            "using cached model\n",
            "using cached model\n"
          ],
          "name": "stdout"
        }
      ]
    },
    {
      "cell_type": "code",
      "metadata": {
        "id": "p6RBn9ds9oHp"
      },
      "source": [
        "BASE_PATH = '/content/drive/MyDrive/hyun_data'"
      ],
      "execution_count": null,
      "outputs": []
    },
    {
      "cell_type": "code",
      "metadata": {
        "colab": {
          "base_uri": "https://localhost:8080/"
        },
        "id": "X69NoNtg9pFL",
        "outputId": "05ee48d5-7459-49e8-8a6c-d723afb407d4"
      },
      "source": [
        "gpu_info = !nvidia-smi\n",
        "gpu_info = '\\n'.join(gpu_info)\n",
        "if gpu_info.find('failed') >= 0:\n",
        "  print('Select the Runtime > \"Change runtime type\" menu to enable a GPU accelerator, ')\n",
        "  print('and then re-execute this cell.')\n",
        "else:\n",
        "  print(gpu_info)"
      ],
      "execution_count": null,
      "outputs": [
        {
          "output_type": "stream",
          "text": [
            "Thu Dec 17 15:50:02 2020       \n",
            "+-----------------------------------------------------------------------------+\n",
            "| NVIDIA-SMI 455.45.01    Driver Version: 418.67       CUDA Version: 10.1     |\n",
            "|-------------------------------+----------------------+----------------------+\n",
            "| GPU  Name        Persistence-M| Bus-Id        Disp.A | Volatile Uncorr. ECC |\n",
            "| Fan  Temp  Perf  Pwr:Usage/Cap|         Memory-Usage | GPU-Util  Compute M. |\n",
            "|                               |                      |               MIG M. |\n",
            "|===============================+======================+======================|\n",
            "|   0  Tesla V100-SXM2...  Off  | 00000000:00:04.0 Off |                    0 |\n",
            "| N/A   35C    P0    24W / 300W |      0MiB / 16130MiB |      0%      Default |\n",
            "|                               |                      |                 ERR! |\n",
            "+-------------------------------+----------------------+----------------------+\n",
            "                                                                               \n",
            "+-----------------------------------------------------------------------------+\n",
            "| Processes:                                                                  |\n",
            "|  GPU   GI   CI        PID   Type   Process name                  GPU Memory |\n",
            "|        ID   ID                                                   Usage      |\n",
            "|=============================================================================|\n",
            "|  No running processes found                                                 |\n",
            "+-----------------------------------------------------------------------------+\n"
          ],
          "name": "stdout"
        }
      ]
    },
    {
      "cell_type": "code",
      "metadata": {
        "id": "-sFEqZhj9rCr"
      },
      "source": [
        "df = pd.read_csv(BASE_PATH+'/preprocessed_norm.csv', index_col=[0])"
      ],
      "execution_count": null,
      "outputs": []
    },
    {
      "cell_type": "code",
      "metadata": {
        "id": "wReAS3ZD9wLG"
      },
      "source": [
        "labels_csv = pd.read_csv(BASE_PATH+'/labels_dict2.csv', index_col=[0])"
      ],
      "execution_count": null,
      "outputs": []
    },
    {
      "cell_type": "code",
      "metadata": {
        "colab": {
          "base_uri": "https://localhost:8080/",
          "height": 248
        },
        "id": "3RpXoFKK-Crw",
        "outputId": "064b52f3-4f05-4f68-facb-8578bd5b17d8"
      },
      "source": [
        "labels_csv"
      ],
      "execution_count": null,
      "outputs": [
        {
          "output_type": "execute_result",
          "data": {
            "text/html": [
              "<div>\n",
              "<style scoped>\n",
              "    .dataframe tbody tr th:only-of-type {\n",
              "        vertical-align: middle;\n",
              "    }\n",
              "\n",
              "    .dataframe tbody tr th {\n",
              "        vertical-align: top;\n",
              "    }\n",
              "\n",
              "    .dataframe thead th {\n",
              "        text-align: right;\n",
              "    }\n",
              "</style>\n",
              "<table border=\"1\" class=\"dataframe\">\n",
              "  <thead>\n",
              "    <tr style=\"text-align: right;\">\n",
              "      <th></th>\n",
              "      <th>문화&gt;방송_연예</th>\n",
              "      <th>국제&gt;중국</th>\n",
              "      <th>사회&gt;사회일반</th>\n",
              "      <th>정치&gt;국회_정당</th>\n",
              "      <th>사회&gt;교육_시험</th>\n",
              "      <th>IT_과학&gt;모바일</th>\n",
              "      <th>정치&gt;행정_자치</th>\n",
              "      <th>사회&gt;사건_사고</th>\n",
              "      <th>문화&gt;문화일반</th>\n",
              "      <th>정치&gt;청와대</th>\n",
              "      <th>사회&gt;여성</th>\n",
              "      <th>국제&gt;유럽_EU</th>\n",
              "      <th>경제&gt;자원</th>\n",
              "      <th>국제&gt;미국_북미</th>\n",
              "      <th>사회&gt;날씨</th>\n",
              "      <th>사회&gt;의료_건강</th>\n",
              "      <th>IT_과학&gt;콘텐츠</th>\n",
              "      <th>경제&gt;증권_증시</th>\n",
              "      <th>정치&gt;선거</th>\n",
              "      <th>국제&gt;일본</th>\n",
              "      <th>사회&gt;미디어</th>\n",
              "      <th>문화&gt;음악</th>\n",
              "      <th>국제&gt;중남미</th>\n",
              "      <th>국제&gt;중동_아프리카</th>\n",
              "      <th>경제&gt;유통</th>\n",
              "      <th>문화&gt;출판</th>\n",
              "      <th>경제&gt;자동차</th>\n",
              "      <th>사회&gt;환경</th>\n",
              "      <th>경제&gt;금융_재테크</th>\n",
              "      <th>사회&gt;장애인</th>\n",
              "      <th>문화&gt;전시_공연</th>\n",
              "      <th>경제&gt;부동산</th>\n",
              "      <th>IT_과학&gt;IT_과학일반</th>\n",
              "      <th>문화&gt;요리_여행</th>\n",
              "      <th>IT_과학&gt;과학</th>\n",
              "      <th>경제&gt;서비스_쇼핑</th>\n",
              "      <th>경제&gt;외환</th>\n",
              "      <th>미분류</th>\n",
              "      <th>문화&gt;미술_건축</th>\n",
              "      <th>문화&gt;생활</th>\n",
              "      <th>경제&gt;경제일반</th>\n",
              "      <th>국제&gt;아시아</th>\n",
              "      <th>정치&gt;정치일반</th>\n",
              "      <th>경제&gt;국제경제</th>\n",
              "      <th>경제&gt;취업_창업</th>\n",
              "      <th>IT_과학&gt;보안</th>\n",
              "      <th>정치&gt;외교</th>\n",
              "      <th>경제&gt;무역</th>\n",
              "      <th>문화&gt;영화</th>\n",
              "      <th>정치&gt;북한</th>\n",
              "      <th>경제&gt;산업_기업</th>\n",
              "      <th>문화&gt;종교</th>\n",
              "      <th>경제&gt;반도체</th>\n",
              "      <th>문화&gt;학술_문화재</th>\n",
              "      <th>사회&gt;노동_복지</th>\n",
              "      <th>국제&gt;국제일반</th>\n",
              "      <th>IT_과학&gt;인터넷_SNS</th>\n",
              "      <th>국제&gt;러시아</th>\n",
              "    </tr>\n",
              "  </thead>\n",
              "  <tbody>\n",
              "    <tr>\n",
              "      <th>0</th>\n",
              "      <td>0</td>\n",
              "      <td>1</td>\n",
              "      <td>2</td>\n",
              "      <td>3</td>\n",
              "      <td>4</td>\n",
              "      <td>5</td>\n",
              "      <td>6</td>\n",
              "      <td>7</td>\n",
              "      <td>8</td>\n",
              "      <td>9</td>\n",
              "      <td>10</td>\n",
              "      <td>11</td>\n",
              "      <td>12</td>\n",
              "      <td>13</td>\n",
              "      <td>14</td>\n",
              "      <td>15</td>\n",
              "      <td>16</td>\n",
              "      <td>17</td>\n",
              "      <td>18</td>\n",
              "      <td>19</td>\n",
              "      <td>20</td>\n",
              "      <td>21</td>\n",
              "      <td>22</td>\n",
              "      <td>23</td>\n",
              "      <td>24</td>\n",
              "      <td>25</td>\n",
              "      <td>26</td>\n",
              "      <td>27</td>\n",
              "      <td>28</td>\n",
              "      <td>29</td>\n",
              "      <td>30</td>\n",
              "      <td>31</td>\n",
              "      <td>32</td>\n",
              "      <td>33</td>\n",
              "      <td>34</td>\n",
              "      <td>35</td>\n",
              "      <td>36</td>\n",
              "      <td>37</td>\n",
              "      <td>38</td>\n",
              "      <td>39</td>\n",
              "      <td>40</td>\n",
              "      <td>41</td>\n",
              "      <td>42</td>\n",
              "      <td>43</td>\n",
              "      <td>44</td>\n",
              "      <td>45</td>\n",
              "      <td>46</td>\n",
              "      <td>47</td>\n",
              "      <td>48</td>\n",
              "      <td>49</td>\n",
              "      <td>50</td>\n",
              "      <td>51</td>\n",
              "      <td>52</td>\n",
              "      <td>53</td>\n",
              "      <td>54</td>\n",
              "      <td>55</td>\n",
              "      <td>56</td>\n",
              "      <td>57</td>\n",
              "    </tr>\n",
              "  </tbody>\n",
              "</table>\n",
              "</div>"
            ],
            "text/plain": [
              "   문화>방송_연예  국제>중국  사회>사회일반  정치>국회_정당  ...  사회>노동_복지  국제>국제일반  IT_과학>인터넷_SNS  국제>러시아\n",
              "0         0      1        2         3  ...        54       55             56      57\n",
              "\n",
              "[1 rows x 58 columns]"
            ]
          },
          "metadata": {
            "tags": []
          },
          "execution_count": 30
        }
      ]
    },
    {
      "cell_type": "code",
      "metadata": {
        "colab": {
          "base_uri": "https://localhost:8080/"
        },
        "id": "StzhV2CT-Drv",
        "outputId": "492cc6da-452d-4934-de99-a26cbd0d90d9"
      },
      "source": [
        "df.columns"
      ],
      "execution_count": null,
      "outputs": [
        {
          "output_type": "execute_result",
          "data": {
            "text/plain": [
              "Index(['date', 'title', 'topic', 'keyword', 'input', 'body', 'label'], dtype='object')"
            ]
          },
          "metadata": {
            "tags": []
          },
          "execution_count": 31
        }
      ]
    },
    {
      "cell_type": "code",
      "metadata": {
        "colab": {
          "base_uri": "https://localhost:8080/",
          "height": 738
        },
        "id": "zo0QdrVB-F0J",
        "outputId": "72b707e8-9696-4790-8bbb-e8f556f20cf2"
      },
      "source": [
        "df[df.label==0]"
      ],
      "execution_count": null,
      "outputs": [
        {
          "output_type": "execute_result",
          "data": {
            "text/html": [
              "<div>\n",
              "<style scoped>\n",
              "    .dataframe tbody tr th:only-of-type {\n",
              "        vertical-align: middle;\n",
              "    }\n",
              "\n",
              "    .dataframe tbody tr th {\n",
              "        vertical-align: top;\n",
              "    }\n",
              "\n",
              "    .dataframe thead th {\n",
              "        text-align: right;\n",
              "    }\n",
              "</style>\n",
              "<table border=\"1\" class=\"dataframe\">\n",
              "  <thead>\n",
              "    <tr style=\"text-align: right;\">\n",
              "      <th></th>\n",
              "      <th>date</th>\n",
              "      <th>title</th>\n",
              "      <th>topic</th>\n",
              "      <th>keyword</th>\n",
              "      <th>input</th>\n",
              "      <th>body</th>\n",
              "      <th>label</th>\n",
              "    </tr>\n",
              "  </thead>\n",
              "  <tbody>\n",
              "    <tr>\n",
              "      <th>8</th>\n",
              "      <td>20201128</td>\n",
              "      <td>'온앤오프' 이지아, '데뷔 후 최초' 베일 싸여있던 일상 공개</td>\n",
              "      <td>문화&gt;방송_연예</td>\n",
              "      <td>온앤오프,이지아,데뷔,베일,일상,공개,28일,방송,tvN,온앤오프,배우,이지아,반전...</td>\n",
              "      <td>이지아 온앤오프 덕후 한경닷컴 김나경 tvn 은하계 ufo 동작 하나하나 외계인설 ...</td>\n",
              "      <td>28일(토) 방송하는 tvN ’온앤오프‘에서는 배우 이지아의 반전 매력 넘치는 일상...</td>\n",
              "      <td>0</td>\n",
              "    </tr>\n",
              "    <tr>\n",
              "      <th>10</th>\n",
              "      <td>20201128</td>\n",
              "      <td>'런닝맨' 김소연, '팬심' 폭발시킨 멤버 정체는?</td>\n",
              "      <td>문화&gt;방송_연예</td>\n",
              "      <td>런닝맨,김소연,팬심,폭발,멤버,정체,배우,김소연,팬심,고백,29일,방송,SBS,런닝...</td>\n",
              "      <td>김소연 런닝맨 팬심 이상우 멤버들 리액션 반박해 180도 다들 거짓말 펜트하우스 1...</td>\n",
              "      <td>배우 김소연이 수줍은 팬심을 고백한다.\\n오는 29일 오후 방송되는 SBS ‘런닝맨...</td>\n",
              "      <td>0</td>\n",
              "    </tr>\n",
              "    <tr>\n",
              "      <th>15</th>\n",
              "      <td>20201128</td>\n",
              "      <td>‘트로트의 민족’ 김소연, 우승 후보→패자부활전 합격할까[M+TV인사이드]</td>\n",
              "      <td>문화&gt;방송_연예</td>\n",
              "      <td>트로트,민족,김소연,우승,후보,패자부활전,합격,TV인사이드,트로트,민족,유력,우승,...</td>\n",
              "      <td>트로트 박하명 긴장감 김소연 안성준 시청률 신명근 생존자 패자부활전 장명서 나미애 ...</td>\n",
              "      <td>‘트로트의 민족’ 유력 우승 후보 김소연이 패자부활전에 나선 가운데 그의 생존에 관...</td>\n",
              "      <td>0</td>\n",
              "    </tr>\n",
              "    <tr>\n",
              "      <th>21</th>\n",
              "      <td>20201128</td>\n",
              "      <td>'아는 형님' 조병규, 즉석 액션부터 성대모사까지 매력 대방출!</td>\n",
              "      <td>문화&gt;방송_연예</td>\n",
              "      <td>형님,조병규,즉석,액션,성대모사,매력,대방출,배우,조병규,예능,블루칩,등극,방송,J...</td>\n",
              "      <td>조병규 김세정 눈물 성대모사 유준상 친밀도 만큼 촬영장 웃픈 블루칩 자유자재 전학생...</td>\n",
              "      <td>배우 조병규가 넘치는 끼로 예능 블루칩에 등극했다.\\n \\n28일 방송되는 JTBC...</td>\n",
              "      <td>0</td>\n",
              "    </tr>\n",
              "    <tr>\n",
              "      <th>67</th>\n",
              "      <td>20201128</td>\n",
              "      <td>‘온앤오프’ 이지아 “UFO 출몰 지역을 간 적도 있다”</td>\n",
              "      <td>문화&gt;방송_연예</td>\n",
              "      <td>온앤오프,이지아,UFO,출몰,지역,28일,방송,tvN,온앤오프,배우,이지아,반전,매...</td>\n",
              "      <td>이지아 온앤오프 덕후 ufo tvn 동작 하나하나 은하계 외계인설 싱어송라이터 놀라...</td>\n",
              "      <td>[헤럴드경제 = 서병기 선임기자]28일(토) 밤 방송되는 tvN ’온앤오프‘에서는 ...</td>\n",
              "      <td>0</td>\n",
              "    </tr>\n",
              "    <tr>\n",
              "      <th>...</th>\n",
              "      <td>...</td>\n",
              "      <td>...</td>\n",
              "      <td>...</td>\n",
              "      <td>...</td>\n",
              "      <td>...</td>\n",
              "      <td>...</td>\n",
              "      <td>...</td>\n",
              "    </tr>\n",
              "    <tr>\n",
              "      <th>19069</th>\n",
              "      <td>20201201</td>\n",
              "      <td>영화보며 시간 여행 자연 힐링 독서하며 언택트 송년</td>\n",
              "      <td>문화&gt;방송_연예</td>\n",
              "      <td>영화,여행,자연,힐링,독서,언택트,송년,연말,영화,리틀,포레스트,Little,개봉,...</td>\n",
              "      <td>구멍가게 일본 순천만 미국 곽재구 루나나 해남 목포 원스 혜원 보이저 시간여행 드루...</td>\n",
              "      <td>[연말에 보면 좋은 영화]\\n▲리틀 포레스트(Little Forest /감독 임순례...</td>\n",
              "      <td>0</td>\n",
              "    </tr>\n",
              "    <tr>\n",
              "      <th>19304</th>\n",
              "      <td>20201201</td>\n",
              "      <td>[종합] 아이랜드 통해 데뷔한 '엔하이픈' \"7명 전원이 센터급 비주얼\"  연말 신...</td>\n",
              "      <td>문화&gt;방송_연예</td>\n",
              "      <td>아이랜드,데뷔,엔하이픈,전원,센터,비주얼,연말,신인상,사진,빌리프랩,제공,빅히트엔터...</td>\n",
              "      <td>엔하이픈 아이랜드 빅히트 니키 희승 제이크 제이 타이틀곡 성훈 7명 신인상 팬들 방...</td>\n",
              "      <td>[사진= 빌리프랩 제공] \\n  \\n \\n 빅히트엔터테인먼트와 Mnet의 프로젝트 ...</td>\n",
              "      <td>0</td>\n",
              "    </tr>\n",
              "    <tr>\n",
              "      <th>19581</th>\n",
              "      <td>20201130</td>\n",
              "      <td>[이웃사랑] 뇌병변에 유방암까지 온 아내, 홀로 고군분투 중인 남편</td>\n",
              "      <td>문화&gt;방송_연예</td>\n",
              "      <td>뇌병변,유방암,아내,고군분투,남편,결혼식,뇌병변,장애,남편,4년,병간호,유방암,생활...</td>\n",
              "      <td>주희 영석 결혼식 예주 유방암 중국집 대구은행 병간호 핸드폰 일자리 생활비 매일신문...</td>\n",
              "      <td>지난 27일 달서구 감삼동의 한 주택 2층. 쿵쾅쿵쾅 계단 위로 한 여자아이가 급히...</td>\n",
              "      <td>0</td>\n",
              "    </tr>\n",
              "    <tr>\n",
              "      <th>19598</th>\n",
              "      <td>20201130</td>\n",
              "      <td>전효성 다이어트 “3개월만에 허리 26인치→23.5인치”</td>\n",
              "      <td>문화&gt;방송_연예</td>\n",
              "      <td>3개월,전효,다이어트,허리,인치,23.5인치,가수,전효,다이어트,영상,공개,화제,전...</td>\n",
              "      <td>전효성 전효 3개월 다이어터 필라테스 배달음식 필요성 유튜브 장장 2개월 식이요법 ...</td>\n",
              "      <td>가수 전효성이 다이어트 영상을 공개해 화제다.\\n\\n\\n\\n전효성이 30일 오후 자...</td>\n",
              "      <td>0</td>\n",
              "    </tr>\n",
              "    <tr>\n",
              "      <th>19930</th>\n",
              "      <td>20201130</td>\n",
              "      <td>아산시 ‘은빛 숲해설’ 프로그램, 요양기관 어르신에 활력 제공</td>\n",
              "      <td>문화&gt;방송_연예</td>\n",
              "      <td>숲해설,아산시,은빛,프로그램,요양,기관,어르신,활력,제공,아산시,시장,오세현,코로나...</td>\n",
              "      <td>요양기관 어르신들 코로나19 비대면 숲해설 외부인 복지사 아산시 자연물 아산 영상콘...</td>\n",
              "      <td>아산시(시장 오세현)가 코로나19 장기화로 외부인과의 접촉이 제한된 관내 13개 요...</td>\n",
              "      <td>0</td>\n",
              "    </tr>\n",
              "  </tbody>\n",
              "</table>\n",
              "<p>2201 rows × 7 columns</p>\n",
              "</div>"
            ],
            "text/plain": [
              "           date  ... label\n",
              "8      20201128  ...     0\n",
              "10     20201128  ...     0\n",
              "15     20201128  ...     0\n",
              "21     20201128  ...     0\n",
              "67     20201128  ...     0\n",
              "...         ...  ...   ...\n",
              "19069  20201201  ...     0\n",
              "19304  20201201  ...     0\n",
              "19581  20201130  ...     0\n",
              "19598  20201130  ...     0\n",
              "19930  20201130  ...     0\n",
              "\n",
              "[2201 rows x 7 columns]"
            ]
          },
          "metadata": {
            "tags": []
          },
          "execution_count": 32
        }
      ]
    },
    {
      "cell_type": "code",
      "metadata": {
        "colab": {
          "base_uri": "https://localhost:8080/",
          "height": 738
        },
        "id": "EFhYyT9AVnR1",
        "outputId": "8b5cece0-ee1e-4f0d-e243-31a25d694554"
      },
      "source": [
        "df[df.label==10]"
      ],
      "execution_count": null,
      "outputs": [
        {
          "output_type": "execute_result",
          "data": {
            "text/html": [
              "<div>\n",
              "<style scoped>\n",
              "    .dataframe tbody tr th:only-of-type {\n",
              "        vertical-align: middle;\n",
              "    }\n",
              "\n",
              "    .dataframe tbody tr th {\n",
              "        vertical-align: top;\n",
              "    }\n",
              "\n",
              "    .dataframe thead th {\n",
              "        text-align: right;\n",
              "    }\n",
              "</style>\n",
              "<table border=\"1\" class=\"dataframe\">\n",
              "  <thead>\n",
              "    <tr style=\"text-align: right;\">\n",
              "      <th></th>\n",
              "      <th>date</th>\n",
              "      <th>title</th>\n",
              "      <th>topic</th>\n",
              "      <th>keyword</th>\n",
              "      <th>input</th>\n",
              "      <th>body</th>\n",
              "      <th>label</th>\n",
              "    </tr>\n",
              "  </thead>\n",
              "  <tbody>\n",
              "    <tr>\n",
              "      <th>61</th>\n",
              "      <td>20201128</td>\n",
              "      <td>옥천군, 여성폭력 추방 캠페인 실시</td>\n",
              "      <td>사회&gt;여성</td>\n",
              "      <td>옥천군,캠페인,여성,폭력,추방,캠페인,충북일보,옥천군,추방주간,여성,폭력,추방,주간...</td>\n",
              "      <td>여성폭력 성매매 성폭력 전단지 추방기간 옥천군여성단체협의회원 옥천여자중학교 옥천군 ...</td>\n",
              "      <td>［충북일보］ 옥천군은 27일 '여성폭력 추방주간'을 맞아 옥천여자중학교 앞에서 옥천...</td>\n",
              "      <td>10</td>\n",
              "    </tr>\n",
              "    <tr>\n",
              "      <th>103</th>\n",
              "      <td>20201128</td>\n",
              "      <td>\"사지 마비된 동생, 사과 없는 가해자 엄중 처벌해달라\" 피해자 가족 호소</td>\n",
              "      <td>사회&gt;여성</td>\n",
              "      <td>마비,동생,사과,가해자,처벌,호소,피해자,가족,경남,진주,발생,칼치기,사고,버스,여...</td>\n",
              "      <td>가해자 청원인 피해자 청원 이종기 변호사 진주지원 공소장 고등학교 특례법 졸업식 진...</td>\n",
              "      <td>2019년 12월 경남 진주에서 발생한 '칼치기 사고'로 버스에 타고 있던 고등학교...</td>\n",
              "      <td>10</td>\n",
              "    </tr>\n",
              "    <tr>\n",
              "      <th>197</th>\n",
              "      <td>20201128</td>\n",
              "      <td>경남 창원 단란주점 관련 4명 진주 이통장 2명 등 13명 추가 확진</td>\n",
              "      <td>사회&gt;여성</td>\n",
              "      <td>단란주점,4명,경남,창원,단란주점,진주,통장,확진,추가,경남,신종,코로나바이러스,감...</td>\n",
              "      <td>확진자 50대 진주 창원 경남 사천 단란주점 60대 김해 2명 4명 접촉자 감염경로...</td>\n",
              "      <td>[아시아경제 영남취재본부 주철인 기자] 경남의 신종 코로나바이러스감염증(코로나19)...</td>\n",
              "      <td>10</td>\n",
              "    </tr>\n",
              "    <tr>\n",
              "      <th>320</th>\n",
              "      <td>20201128</td>\n",
              "      <td>\"뺨을 베어갈 듯\" 칼바람 막아줄 수분 신상템</td>\n",
              "      <td>사회&gt;여성</td>\n",
              "      <td>칼바람,수분,기온,칼바람,피부,건조,겨울철,제품,피부,장벽,케어,겨울,바람,피부,보...</td>\n",
              "      <td>저자극 마이크로바이옴 고보습 화장품 활성화 유익균 제니피끄 흡수력 비건 보습력 스킨...</td>\n",
              "      <td>[아시아경제 조유진 기자] 급격히 떨어진 기온과 칼바람으로 피부가 건조해지기 쉬운 ...</td>\n",
              "      <td>10</td>\n",
              "    </tr>\n",
              "    <tr>\n",
              "      <th>397</th>\n",
              "      <td>20201128</td>\n",
              "      <td>비혼 임신, 법과 현실의 간극</td>\n",
              "      <td>사회&gt;여성</td>\n",
              "      <td>비혼,임신,현실,간극,사유리,방송인,후지타,비혼출산,한국사회,파장,한국,결혼,사람,...</td>\n",
              "      <td>기증자 비혼여성 비혼 생명윤리법 시험관 윤리지침 난임 인공수정 난임부부 한국 나영정...</td>\n",
              "      <td>방송인 후지타 사유리의 비혼출산은 한국사회에 적잖은 파장을 불러왔다. “한국에서는 ...</td>\n",
              "      <td>10</td>\n",
              "    </tr>\n",
              "    <tr>\n",
              "      <th>...</th>\n",
              "      <td>...</td>\n",
              "      <td>...</td>\n",
              "      <td>...</td>\n",
              "      <td>...</td>\n",
              "      <td>...</td>\n",
              "      <td>...</td>\n",
              "      <td>...</td>\n",
              "    </tr>\n",
              "    <tr>\n",
              "      <th>19191</th>\n",
              "      <td>20201201</td>\n",
              "      <td>대한적십자사봉사회 괴산지구협의회, 희망 꾸러미 키트 나눔 펼쳐</td>\n",
              "      <td>사회&gt;여성</td>\n",
              "      <td>대한적십자사봉,사회,괴산지구협의회,키트,희망,꾸러미,대한적십자사봉,사회,괴산,지구,...</td>\n",
              "      <td>코로나19 괴산 괴산지구협의회 키트 김영 취약계층 10여 최준환 적십자봉사회 봉사활...</td>\n",
              "      <td>[충청투데이 김영 기자] 대한적십자사봉사회 괴산지구협의회가 연탄나눔 봉사활동에 이어...</td>\n",
              "      <td>10</td>\n",
              "    </tr>\n",
              "    <tr>\n",
              "      <th>19316</th>\n",
              "      <td>20201201</td>\n",
              "      <td>코로나 블루 극단적 선택 여성 급증 스마트폰 대신 햇빛 보세요</td>\n",
              "      <td>사회&gt;여성</td>\n",
              "      <td>코로나,블루,극단,선택,여성,급증,스마트폰,햇빛,운동,도움,우울증,예방,고위험군,정...</td>\n",
              "      <td>우울증 코로나 50대 재택근무 부산 스마트폰 사망자 생활비 관련자 정신과 좌절감 자...</td>\n",
              "      <td>- 정부 차원 고위험군 서둘러 발굴\\n- 상담 제공 등 안전망 관리해야\\n\\n올들어...</td>\n",
              "      <td>10</td>\n",
              "    </tr>\n",
              "    <tr>\n",
              "      <th>19423</th>\n",
              "      <td>20201201</td>\n",
              "      <td>코로나 연말연시 모이거나 미루거나 멈추거나</td>\n",
              "      <td>사회&gt;여성</td>\n",
              "      <td>코로나,연말연시,풍경,도민,연말맞이,감염증,신종,코로나바이러스,코로나19,재확산,연...</td>\n",
              "      <td>코로나19 창원 파티룸 친구들 확진자 도민들 연말맞이 2단계 대유행 마산 연말연시 ...</td>\n",
              "      <td>신종 코로나바이러스 감염증(코로나19)이 재확산되는 가운데 연말연시를 맞는 도민들의...</td>\n",
              "      <td>10</td>\n",
              "    </tr>\n",
              "    <tr>\n",
              "      <th>19537</th>\n",
              "      <td>20201201</td>\n",
              "      <td>화성시 12월부터 사회적 거리두기 단계별 일회용품 사용규제 시행</td>\n",
              "      <td>사회&gt;여성</td>\n",
              "      <td>화성시,사회,거리,단계,일회용품,사용,규제,시행,화성시,12월,사회,거리,사용규제,...</td>\n",
              "      <td>일회용품 다회용 사용규제 과태료 코로나19 시행령 화성시 그동안 식품접객업소 활용법...</td>\n",
              "      <td>화성시는 12월부터 사회적 거리두기 단계별 일회용품 사용규제를 시행한다고 30일 밝...</td>\n",
              "      <td>10</td>\n",
              "    </tr>\n",
              "    <tr>\n",
              "      <th>19578</th>\n",
              "      <td>20201130</td>\n",
              "      <td>속초 요양원에서 코로나19 확진자 발생 100세 입소자</td>\n",
              "      <td>사회&gt;여성</td>\n",
              "      <td>속초,요양원,발생,코로나19,확진자,100세,입소자,속초,지난달,A씨,여성,코로나1...</td>\n",
              "      <td>코로나19 요양원 확진자 100세 코호트 a씨 이동동선 입소자 박주석 여성 지역 환...</td>\n",
              "      <td>[강원도민일보 박주석 기자] 지난달 30일 속초에서 100세 여성 A씨가 코로나19...</td>\n",
              "      <td>10</td>\n",
              "    </tr>\n",
              "  </tbody>\n",
              "</table>\n",
              "<p>1068 rows × 7 columns</p>\n",
              "</div>"
            ],
            "text/plain": [
              "           date  ... label\n",
              "61     20201128  ...    10\n",
              "103    20201128  ...    10\n",
              "197    20201128  ...    10\n",
              "320    20201128  ...    10\n",
              "397    20201128  ...    10\n",
              "...         ...  ...   ...\n",
              "19191  20201201  ...    10\n",
              "19316  20201201  ...    10\n",
              "19423  20201201  ...    10\n",
              "19537  20201201  ...    10\n",
              "19578  20201130  ...    10\n",
              "\n",
              "[1068 rows x 7 columns]"
            ]
          },
          "metadata": {
            "tags": []
          },
          "execution_count": 33
        }
      ]
    },
    {
      "cell_type": "code",
      "metadata": {
        "colab": {
          "base_uri": "https://localhost:8080/"
        },
        "id": "wCgjlB1V-ITR",
        "outputId": "87ea795a-8043-41f5-e272-fb35314a4281"
      },
      "source": [
        "NUM_LABELS = max(set(df['label'])) + 1\n",
        "NUM_LABELS"
      ],
      "execution_count": null,
      "outputs": [
        {
          "output_type": "execute_result",
          "data": {
            "text/plain": [
              "58"
            ]
          },
          "metadata": {
            "tags": []
          },
          "execution_count": 34
        }
      ]
    },
    {
      "cell_type": "code",
      "metadata": {
        "id": "C5I3mose-L2P"
      },
      "source": [
        "text_to_label = dict(labels_csv)"
      ],
      "execution_count": null,
      "outputs": []
    },
    {
      "cell_type": "code",
      "metadata": {
        "id": "iQukM4T8-ObU"
      },
      "source": [
        "label_to_text = {}\n",
        "for label in text_to_label:\n",
        "    label_to_text[int(text_to_label[label])] = label"
      ],
      "execution_count": null,
      "outputs": []
    },
    {
      "cell_type": "code",
      "metadata": {
        "colab": {
          "base_uri": "https://localhost:8080/"
        },
        "id": "F9M0jrGE-QdC",
        "outputId": "104812ee-8def-4a34-da59-101f30ff106a"
      },
      "source": [
        "label_to_text"
      ],
      "execution_count": null,
      "outputs": [
        {
          "output_type": "execute_result",
          "data": {
            "text/plain": [
              "{0: '문화>방송_연예',\n",
              " 1: '국제>중국',\n",
              " 2: '사회>사회일반',\n",
              " 3: '정치>국회_정당',\n",
              " 4: '사회>교육_시험',\n",
              " 5: 'IT_과학>모바일',\n",
              " 6: '정치>행정_자치',\n",
              " 7: '사회>사건_사고',\n",
              " 8: '문화>문화일반',\n",
              " 9: '정치>청와대',\n",
              " 10: '사회>여성',\n",
              " 11: '국제>유럽_EU',\n",
              " 12: '경제>자원',\n",
              " 13: '국제>미국_북미',\n",
              " 14: '사회>날씨',\n",
              " 15: '사회>의료_건강',\n",
              " 16: 'IT_과학>콘텐츠',\n",
              " 17: '경제>증권_증시',\n",
              " 18: '정치>선거',\n",
              " 19: '국제>일본',\n",
              " 20: '사회>미디어',\n",
              " 21: '문화>음악',\n",
              " 22: '국제>중남미',\n",
              " 23: '국제>중동_아프리카',\n",
              " 24: '경제>유통',\n",
              " 25: '문화>출판',\n",
              " 26: '경제>자동차',\n",
              " 27: '사회>환경',\n",
              " 28: '경제>금융_재테크',\n",
              " 29: '사회>장애인',\n",
              " 30: '문화>전시_공연',\n",
              " 31: '경제>부동산',\n",
              " 32: 'IT_과학>IT_과학일반',\n",
              " 33: '문화>요리_여행',\n",
              " 34: 'IT_과학>과학',\n",
              " 35: '경제>서비스_쇼핑',\n",
              " 36: '경제>외환',\n",
              " 37: '미분류',\n",
              " 38: '문화>미술_건축',\n",
              " 39: '문화>생활',\n",
              " 40: '경제>경제일반',\n",
              " 41: '국제>아시아',\n",
              " 42: '정치>정치일반',\n",
              " 43: '경제>국제경제',\n",
              " 44: '경제>취업_창업',\n",
              " 45: 'IT_과학>보안',\n",
              " 46: '정치>외교',\n",
              " 47: '경제>무역',\n",
              " 48: '문화>영화',\n",
              " 49: '정치>북한',\n",
              " 50: '경제>산업_기업',\n",
              " 51: '문화>종교',\n",
              " 52: '경제>반도체',\n",
              " 53: '문화>학술_문화재',\n",
              " 54: '사회>노동_복지',\n",
              " 55: '국제>국제일반',\n",
              " 56: 'IT_과학>인터넷_SNS',\n",
              " 57: '국제>러시아'}"
            ]
          },
          "metadata": {
            "tags": []
          },
          "execution_count": 37
        }
      ]
    },
    {
      "cell_type": "code",
      "metadata": {
        "colab": {
          "base_uri": "https://localhost:8080/"
        },
        "id": "u6TD0lXo-SUi",
        "outputId": "f290812b-24ae-484f-b6c6-c2fc1436c432"
      },
      "source": [
        "train, test = train, test = train_test_split(df, test_size=0.1)\n",
        "\n",
        "print(train.shape)\n",
        "print(test.shape)"
      ],
      "execution_count": null,
      "outputs": [
        {
          "output_type": "stream",
          "text": [
            "(43631, 7)\n",
            "(4848, 7)\n"
          ],
          "name": "stdout"
        }
      ]
    },
    {
      "cell_type": "code",
      "metadata": {
        "colab": {
          "base_uri": "https://localhost:8080/",
          "height": 679
        },
        "id": "dY8mvByT-U4j",
        "outputId": "de9435bf-3569-4014-cc2a-c362db3d5746"
      },
      "source": [
        "train.head(10)"
      ],
      "execution_count": null,
      "outputs": [
        {
          "output_type": "execute_result",
          "data": {
            "text/html": [
              "<div>\n",
              "<style scoped>\n",
              "    .dataframe tbody tr th:only-of-type {\n",
              "        vertical-align: middle;\n",
              "    }\n",
              "\n",
              "    .dataframe tbody tr th {\n",
              "        vertical-align: top;\n",
              "    }\n",
              "\n",
              "    .dataframe thead th {\n",
              "        text-align: right;\n",
              "    }\n",
              "</style>\n",
              "<table border=\"1\" class=\"dataframe\">\n",
              "  <thead>\n",
              "    <tr style=\"text-align: right;\">\n",
              "      <th></th>\n",
              "      <th>date</th>\n",
              "      <th>title</th>\n",
              "      <th>topic</th>\n",
              "      <th>keyword</th>\n",
              "      <th>input</th>\n",
              "      <th>body</th>\n",
              "      <th>label</th>\n",
              "    </tr>\n",
              "  </thead>\n",
              "  <tbody>\n",
              "    <tr>\n",
              "      <th>18499</th>\n",
              "      <td>20201126</td>\n",
              "      <td>영동군, 65세 이상 노인 대상포진 무료예방접종 실시</td>\n",
              "      <td>사회&gt;의료_건강</td>\n",
              "      <td>영동군,65세,충북,영동군,30일,65세,노인들,노인,대상,예방접종,대상,포진,무료...</td>\n",
              "      <td>대상포진 영동군 65세 예방접종 대상자 안내문 발생률 코로나19 노인들 대상자들 영...</td>\n",
              "      <td>충북 영동군은 2020년 11월 30일부터 만 65세 이상 노인들을 대상으로 대상포...</td>\n",
              "      <td>15</td>\n",
              "    </tr>\n",
              "    <tr>\n",
              "      <th>17977</th>\n",
              "      <td>20201126</td>\n",
              "      <td>'유키스 출신' 일라이, 지연수와 이혼 발표 \"아버지로 최선 다할 것\"</td>\n",
              "      <td>문화&gt;방송_연예</td>\n",
              "      <td>유키스,출신,일라이,지연수,이혼,아버지,이혼,최선,일라이,그룹,유키스,아내,지연수,...</td>\n",
              "      <td>일라이 유키스 지연수 혼인신고 그동안 사진제공 연상연하 돌잔치 결혼식 미국 앞날 한...</td>\n",
              "      <td>그룹 유키스 일라이가 아내 지연수와 이혼을 발표했다.\\n\\n26일 일라이는 자신의 ...</td>\n",
              "      <td>0</td>\n",
              "    </tr>\n",
              "    <tr>\n",
              "      <th>18429</th>\n",
              "      <td>20201201</td>\n",
              "      <td>스파크플러스, 포스트 코로나 '뉴노멀 오피스' 강남4호점 열어</td>\n",
              "      <td>경제&gt;경제일반</td>\n",
              "      <td>스파크플러스,포스트,코로나,뉴노멀,오피스,강남,호점,열어,스파크플러스,감염증,신종,...</td>\n",
              "      <td>강남 서울 스파크플러스 공유오피스 강남역 강남4호점 뉴노멀 호점 입주사 강남4호 열...</td>\n",
              "      <td>스파크플러스가 신종 코로나바이러스 감염증(코로나19)시대 이후 근무 환경 변화를 고...</td>\n",
              "      <td>40</td>\n",
              "    </tr>\n",
              "    <tr>\n",
              "      <th>3104</th>\n",
              "      <td>20191128</td>\n",
              "      <td>LG전자, 새 사령탑에 권봉석 사장 선임</td>\n",
              "      <td>IT_과학&gt;모바일</td>\n",
              "      <td>LG전자,사령탑,선임,권봉석,사장,HE사업본부장,MC,HE사업본부장,권봉석,LG,전...</td>\n",
              "      <td>lg전자 권봉석 부사장 부회장 전략가 서울대학교 mc lg 본부장 사령탑 사업부장 ...</td>\n",
              "      <td>[디지털타임스 이미정 기자] 권봉석 LG전자 MC HE사업본부장이 조성진 부회장의 ...</td>\n",
              "      <td>5</td>\n",
              "    </tr>\n",
              "    <tr>\n",
              "      <th>5414</th>\n",
              "      <td>20201204</td>\n",
              "      <td>\"역사 전쟁 제대로 하라\"...日 자민당 의원들, 정부에 결의문</td>\n",
              "      <td>국제&gt;일본</td>\n",
              "      <td>역사,전쟁,의원들,자민당,의원,정부,결의문,앵커,의원들,일본,자민당,의원,일본,정부...</td>\n",
              "      <td>일본 중국 베를린 모테기 센카쿠 미테구 소녀상 결의문 자민당 도쿄 이경아 결의안 독...</td>\n",
              "      <td>[앵커]\\n일본 자민당 의원들이 일본 정부에 이른바 '역사 전쟁'에 더 강하게 나설...</td>\n",
              "      <td>19</td>\n",
              "    </tr>\n",
              "    <tr>\n",
              "      <th>7636</th>\n",
              "      <td>20201203</td>\n",
              "      <td>SK그룹 정기 임원인사 박정호 유정준 부회장 승진</td>\n",
              "      <td>경제&gt;산업_기업</td>\n",
              "      <td>임원인사,SK,그룹,정기,임원,인사,박정호,유정준,부회장,승진,사장,박정호,SK,텔...</td>\n",
              "      <td>sk 위원회 부회장 위원장 박정호 전문가 하이닉스 관계사 유정준 수펙스추구협의회 s...</td>\n",
              "      <td>[디지털타임스 김위수 기자] 박정호 SK텔레콤 사장과 유정준 SK E&amp;S 사장이 각...</td>\n",
              "      <td>50</td>\n",
              "    </tr>\n",
              "    <tr>\n",
              "      <th>14996</th>\n",
              "      <td>20201120</td>\n",
              "      <td>네이버 악플차단 AI는 안다 \"단어 '쓰레기'는 OK, 욕 '쓰레기'는 NO\"</td>\n",
              "      <td>IT_과학&gt;인터넷_SNS</td>\n",
              "      <td>AI,네이버,악플,차단,단어,쓰레기,OK,쓰레기,네이버,댓글,서비스,시작,공론,역할...</td>\n",
              "      <td>악플 네이버 클린봇 ai 바이브 아시아경제 성폭력 이규호 건설적 인공지능 띄어쓰기꼼...</td>\n",
              "      <td>[아시아경제 부애리 기자] 네이버가 댓글 서비스를 시작한 지 17년째. '공론의 장...</td>\n",
              "      <td>56</td>\n",
              "    </tr>\n",
              "    <tr>\n",
              "      <th>11543</th>\n",
              "      <td>20201202</td>\n",
              "      <td>'디지털' 앞에 '순혈' 없다 銀, 혁신조직 만들고 외부인재 영입 박차(종합)</td>\n",
              "      <td>경제&gt;금융_재테크</td>\n",
              "      <td>디지털,순혈,혁신조직,박차,외부,인재,영입,종합,디지털,금융,강화,사활,시중은행들,...</td>\n",
              "      <td>전문가 사업부 부행장 본부장 ai 삼성 농협은행 우리은행 빅데이터 국민은행 은행장 ...</td>\n",
              "      <td>[아시아경제 조강욱 기자] '디지털 금융' 강화에 사활을 건 시중은행들이 적극적인 ...</td>\n",
              "      <td>28</td>\n",
              "    </tr>\n",
              "    <tr>\n",
              "      <th>15287</th>\n",
              "      <td>20201126</td>\n",
              "      <td>신논현역 인근 제주 근고기 맛집 ‘육덕식당’</td>\n",
              "      <td>문화&gt;문화일반</td>\n",
              "      <td>신논현역,인근,제주,근고기,육덕식당,신논현역,출구,인근,간판,상호,로고,복고풍,추억...</td>\n",
              "      <td>근고기 제주 육덕식당 신논현역 덩어리째 600g 강남구 연탄구이 연탄불 제주도 돼지...</td>\n",
              "      <td>신논현역 3번 출구 인근에 간판, 상호, 로고 등이 복고풍이라 추억을 소환하는 제주...</td>\n",
              "      <td>8</td>\n",
              "    </tr>\n",
              "    <tr>\n",
              "      <th>12309</th>\n",
              "      <td>20201204</td>\n",
              "      <td>​2030대 청약통장 보유율 85% 육박하지만 \"분양은 잘 몰라\"</td>\n",
              "      <td>경제&gt;부동산</td>\n",
              "      <td>육박,청약,통장,보유,85%,분양,다방,관심,분양,정보,조사,시행,사진,다방,제공,...</td>\n",
              "      <td>2030대 이용자 청약통장 부동산 행복주택 응답자 설문조사</td>\n",
              "      <td>[사진=다방 제공] \\n \\n  부동산에 대한 관심이 증가하면서 2030대 10명중...</td>\n",
              "      <td>31</td>\n",
              "    </tr>\n",
              "  </tbody>\n",
              "</table>\n",
              "</div>"
            ],
            "text/plain": [
              "           date  ... label\n",
              "18499  20201126  ...    15\n",
              "17977  20201126  ...     0\n",
              "18429  20201201  ...    40\n",
              "3104   20191128  ...     5\n",
              "5414   20201204  ...    19\n",
              "7636   20201203  ...    50\n",
              "14996  20201120  ...    56\n",
              "11543  20201202  ...    28\n",
              "15287  20201126  ...     8\n",
              "12309  20201204  ...    31\n",
              "\n",
              "[10 rows x 7 columns]"
            ]
          },
          "metadata": {
            "tags": []
          },
          "execution_count": 39
        }
      ]
    },
    {
      "cell_type": "markdown",
      "metadata": {
        "id": "iPwEF9g3-eGM"
      },
      "source": [
        "<br>\n",
        "<br>\n",
        "\n",
        "# **Preprocessing - TRAINING SET**"
      ]
    },
    {
      "cell_type": "code",
      "metadata": {
        "colab": {
          "base_uri": "https://localhost:8080/"
        },
        "id": "YovU0tbx-XBv",
        "outputId": "2050edff-109c-4fa6-e064-74948257c45e"
      },
      "source": [
        "# 문장 추출\n",
        "sentences = train['input'].values\n",
        "sentences[:10]"
      ],
      "execution_count": null,
      "outputs": [
        {
          "output_type": "execute_result",
          "data": {
            "text/plain": [
              "array(['대상포진 영동군 65세 예방접종 대상자 안내문 발생률 코로나19 노인들 대상자들 영동읍 대한민국 보건지소 수두바이러스 신경절 활성화 신경괴사 면역기능 노후생활 면역력 보건소',\n",
              "       '일라이 유키스 지연수 혼인신고 그동안 사진제공 연상연하 돌잔치 결혼식 미국 앞날 한국 sns 아들 이혼 부부 엄마 아내 최선 아버지 그룹 나이 차이 각자 결국 응원 극복 기도 축하 정식 사진 진심 화제 혼인 신고',\n",
              "       '강남 서울 스파크플러스 공유오피스 강남역 강남4호점 뉴노멀 호점 입주사 강남4호 열어 통유리 코로나바이러스 ir 목진건 방문객 출입관리 멀티비전 코로나',\n",
              "       'lg전자 권봉석 부사장 부회장 전략가 서울대학교 mc lg 본부장 사령탑 사업부장 경영자 경영방식 의사결정 수익구조 성과주의 모니터사업부장 시너지팀장 산업공학 연구개발 팀장 잠재력 그룹장 사업성 사업전반 상품기획 사업경쟁력 경쟁력 미래준비 최고경영자 조성진 5명',\n",
              "       '일본 중국 베를린 모테기 센카쿠 미테구 소녀상 결의문 자민당 도쿄 이경아 결의안 독일 외교부장 의원들',\n",
              "       'sk 위원회 부회장 위원장 박정호 전문가 하이닉스 관계사 유정준 수펙스추구협의회 sk그룹 소위원회 염용섭 추형욱 협의회 거버넌스위원회 김준 이석희 코로나',\n",
              "       '악플 네이버 클린봇 ai 바이브 아시아경제 성폭력 이규호 건설적 인공지능 띄어쓰기꼼수 웹툰',\n",
              "       '전문가 사업부 부행장 본부장 ai 삼성 농협은행 우리은행 빅데이터 국민은행 은행장 추진단 ict dt',\n",
              "       '근고기 제주 육덕식당 신논현역 덩어리째 600g 강남구 연탄구이 연탄불 제주도 돼지고기 포차 영업시간 논현동 복고풍 환상궁합 멸치젓 된장찌개 강남대로 공깃밥 청정지역 오겹살 껍데기살 직원들 목살구이 김치찌개 1인',\n",
              "       '2030대 이용자 청약통장 부동산 행복주택 응답자 설문조사'], dtype=object)"
            ]
          },
          "metadata": {
            "tags": []
          },
          "execution_count": 40
        }
      ]
    },
    {
      "cell_type": "code",
      "metadata": {
        "colab": {
          "base_uri": "https://localhost:8080/"
        },
        "id": "kyVyVh3d-ifJ",
        "outputId": "545f3c1f-1d56-4c01-da3a-1f9ae4d1efe8"
      },
      "source": [
        "# 라벨 추출\n",
        "labels = list(map(str, train['label'].values))\n",
        "labels[:10]"
      ],
      "execution_count": null,
      "outputs": [
        {
          "output_type": "execute_result",
          "data": {
            "text/plain": [
              "['15', '0', '40', '5', '19', '50', '56', '28', '8', '31']"
            ]
          },
          "metadata": {
            "tags": []
          },
          "execution_count": 41
        }
      ]
    },
    {
      "cell_type": "code",
      "metadata": {
        "id": "EIdPrTGb-lc5"
      },
      "source": [
        "train_dataset = pd.DataFrame({'sentence': sentences, 'label': labels}, columns=['sentence', 'label'])"
      ],
      "execution_count": null,
      "outputs": []
    },
    {
      "cell_type": "markdown",
      "metadata": {
        "id": "kqpn940jCeaC"
      },
      "source": [
        "<br>\n",
        "<br>\n",
        "\n",
        "# **Preprocessing - TEST SET**"
      ]
    },
    {
      "cell_type": "code",
      "metadata": {
        "colab": {
          "base_uri": "https://localhost:8080/"
        },
        "id": "P8R9JzBBBxNs",
        "outputId": "c09384c1-2d0d-4338-d5cf-536f94d6aa03"
      },
      "source": [
        "# 문장 추출\n",
        "sentences = test['input'].values\n",
        "sentences[:10]"
      ],
      "execution_count": null,
      "outputs": [
        {
          "output_type": "execute_result",
          "data": {
            "text/plain": [
              "array(['소비자 장병현 인천시 1만 복지관 인천시노인종합복지관협회 코로나19 일자리 일자리경제과장 급성장 노인들 이용법 정보 노인 디지털 어르신 행사 회원 소비 꾸러미 관내 피해 생활 사례 효율적 진행 효율 대응 경제 향상 과장',\n",
              "       '올마이티캠퍼스 서울대 학생들 교육서비스 독서실 공부법 학습관리서비스 학습관리 멘토 과목별 전문가 롯데백화점 한티역 정규수업 시험공부 수학수업 3박자',\n",
              "       '시험장 서울 학년도 동작구 숭실대학교 학부모 자녀 논술 격려 수학 능력 대학 시험 수험',\n",
              "       '메가엠디 지분변동 특별관계자 관계자 관계인 특수관계인 거래량 보고서 거래일 주식등 대량보유상황보고서 메가스터디 지분율 지분 공시 보유 변동 주식 직전 대비 일명 특별 특수 포함 개인 매입 매각 법인 이동 추가 상황 대량 종가 전문 하락 마감 기업 상장 회사',\n",
              "       '확진자 코로나19 수험생 시험실 지원자 감독관 시험장 학년도 자가격리자 교육부 49만',\n",
              "       '명신고 이사장 하춘욱 씨앤투스성진 코스닥 코로나19 明德 명덕 사람들 후배들 온몸 明德新民 명신고등학교 교직원 이현철 학교생활 청정기 생산품 新民 명덕신민 교직원들 진공청소기 보건용 건학이념 이사장님 졸업생 선배님 공기청정기 눈앞 자동차 예비심사 후배사랑 김성우',\n",
              "       '코로나19 인종차별 라틴계 라틴 그동안 cnn 미국 합병증 커닝엄',\n",
              "       '협력사 lg전자 혁신활동 경쟁력 포상금 6억 자동화 생산라인 20억 사업장 내년도 생산성 상생성과 혁신성과 제조경쟁력 코로나19 제품경쟁력 lg 5000만 생산공정 우수 전자 생산 규모 혁신 성과 편리 레터 상생 선정 활동 자동',\n",
              "       '코로나19 당선인 미국 바이든 행정부 인수위 조지 권위자 코로나 도널드 앤서니 감염병',\n",
              "       '재택근무 생산성 한국노동연구원 코로나19 개발도상국 노동자 에릭 국제노동기구 미국 코로나 원격근무 배규식 스탠퍼드대학교 서울대 건국대 김근주 장지연 제이 조용만 선임연구위원 김승택 머신러닝'],\n",
              "      dtype=object)"
            ]
          },
          "metadata": {
            "tags": []
          },
          "execution_count": 43
        }
      ]
    },
    {
      "cell_type": "code",
      "metadata": {
        "colab": {
          "base_uri": "https://localhost:8080/"
        },
        "id": "WGyfpT37C5r-",
        "outputId": "74164372-7dc3-49eb-d3fd-fa236798c7bb"
      },
      "source": [
        "# 라벨 추출\n",
        "labels = list(map(str, test['label'].values))\n",
        "labels[:10]"
      ],
      "execution_count": null,
      "outputs": [
        {
          "output_type": "execute_result",
          "data": {
            "text/plain": [
              "['35', '4', '4', '31', '4', '40', '15', '34', '13', '10']"
            ]
          },
          "metadata": {
            "tags": []
          },
          "execution_count": 44
        }
      ]
    },
    {
      "cell_type": "code",
      "metadata": {
        "id": "EFzXCEXAC7Qb"
      },
      "source": [
        "test_dataset = pd.DataFrame({'sentence': sentences, 'label': labels}, columns=['sentence', 'label'])"
      ],
      "execution_count": null,
      "outputs": []
    },
    {
      "cell_type": "code",
      "metadata": {
        "id": "pfPac-so3fhU"
      },
      "source": [
        "dataset_train = train_dataset.values\n",
        "dataset_test = test_dataset.values"
      ],
      "execution_count": null,
      "outputs": []
    },
    {
      "cell_type": "code",
      "metadata": {
        "id": "GGpdCptk3fhV",
        "colab": {
          "base_uri": "https://localhost:8080/"
        },
        "outputId": "284d4426-a709-4868-d94b-add6f14ce28e"
      },
      "source": [
        "tokenizer = get_tokenizer()\n",
        "tok = nlp.data.BERTSPTokenizer(tokenizer, vocab, lower=False)"
      ],
      "execution_count": null,
      "outputs": [
        {
          "output_type": "stream",
          "text": [
            "using cached model\n"
          ],
          "name": "stdout"
        }
      ]
    },
    {
      "cell_type": "code",
      "metadata": {
        "id": "0PuofiyC3fhV"
      },
      "source": [
        "class BERTDataset(Dataset):\n",
        "    def __init__(self, dataset, sent_idx, label_idx, bert_tokenizer, max_len,\n",
        "                 pad, pair):\n",
        "        transform = nlp.data.BERTSentenceTransform(\n",
        "            bert_tokenizer, max_seq_length=max_len, pad=pad, pair=pair)\n",
        "\n",
        "        self.sentences = []\n",
        "        self.labels = []\n",
        "        \n",
        "        for i in dataset:\n",
        "            try:\n",
        "                self.sentences.append(transform([i[sent_idx]]))\n",
        "                self.labels.append(np.int32(i[label_idx]))\n",
        "            except Exception as e:\n",
        "                print(e)\n",
        "                print(len(self.sentences), len(self.labels))\n",
        "\n",
        "    def __getitem__(self, i):\n",
        "        return (self.sentences[i] + (self.labels[i], ))\n",
        "\n",
        "    def __len__(self):\n",
        "        return (len(self.labels))"
      ],
      "execution_count": null,
      "outputs": []
    },
    {
      "cell_type": "code",
      "metadata": {
        "id": "fzHSlaRL3fhX"
      },
      "source": [
        "## Setting parameters\n",
        "max_len = 128\n",
        "batch_size = 64\n",
        "warmup_ratio = 0.1\n",
        "num_epochs = 10\n",
        "max_grad_norm = 1\n",
        "log_interval = 200\n",
        "learning_rate =  2e-5"
      ],
      "execution_count": null,
      "outputs": []
    },
    {
      "cell_type": "code",
      "metadata": {
        "id": "C6-5cIr_3fhX",
        "colab": {
          "base_uri": "https://localhost:8080/"
        },
        "outputId": "4127ead1-8dda-483a-9f28-8627b1506e1d"
      },
      "source": [
        "data_train = BERTDataset(dataset_train, 0, 1, tok, max_len, True, False)\n",
        "data_test = BERTDataset(dataset_test, 0, 1, tok, max_len, True, False)"
      ],
      "execution_count": null,
      "outputs": [
        {
          "output_type": "stream",
          "text": [
            "Argument 'text' has incorrect type (expected str, got float)\n",
            "7436 7436\n",
            "Argument 'text' has incorrect type (expected str, got float)\n",
            "15321 15321\n",
            "Argument 'text' has incorrect type (expected str, got float)\n",
            "21959 21959\n",
            "Argument 'text' has incorrect type (expected str, got float)\n",
            "23043 23043\n",
            "Argument 'text' has incorrect type (expected str, got float)\n",
            "27053 27053\n",
            "Argument 'text' has incorrect type (expected str, got float)\n",
            "28719 28719\n",
            "Argument 'text' has incorrect type (expected str, got float)\n",
            "35454 35454\n"
          ],
          "name": "stdout"
        }
      ]
    },
    {
      "cell_type": "code",
      "metadata": {
        "id": "cKi6diKg3fhY"
      },
      "source": [
        "train_dataloader = torch.utils.data.DataLoader(data_train, batch_size=batch_size, num_workers=5)\n",
        "test_dataloader = torch.utils.data.DataLoader(data_test, batch_size=batch_size, num_workers=5)"
      ],
      "execution_count": null,
      "outputs": []
    },
    {
      "cell_type": "code",
      "metadata": {
        "id": "vyQwm0IX3fhY"
      },
      "source": [
        "class BERTClassifier(nn.Module):\n",
        "    def __init__(self,\n",
        "                 bert,\n",
        "                 hidden_size = 768,\n",
        "                 num_classes=NUM_LABELS,\n",
        "                 dr_rate=None,\n",
        "                 params=None):\n",
        "        super(BERTClassifier, self).__init__()\n",
        "        self.bert = bert\n",
        "        self.dr_rate = dr_rate\n",
        "                 \n",
        "        self.classifier = nn.Linear(hidden_size , num_classes)\n",
        "        if dr_rate:\n",
        "            self.dropout = nn.Dropout(p=dr_rate)\n",
        "    \n",
        "    def gen_attention_mask(self, token_ids, valid_length):\n",
        "        attention_mask = torch.zeros_like(token_ids)\n",
        "        for i, v in enumerate(valid_length):\n",
        "            attention_mask[i][:v] = 1\n",
        "        return attention_mask.float()\n",
        "\n",
        "    def forward(self, token_ids, valid_length, segment_ids):\n",
        "        attention_mask = self.gen_attention_mask(token_ids, valid_length)\n",
        "        \n",
        "        _, pooler = self.bert(input_ids = token_ids, token_type_ids = segment_ids.long(), attention_mask = attention_mask.float().to(token_ids.device))\n",
        "        if self.dr_rate:\n",
        "            out = self.dropout(pooler)\n",
        "        return self.classifier(out)"
      ],
      "execution_count": null,
      "outputs": []
    },
    {
      "cell_type": "code",
      "metadata": {
        "id": "pVHEkGhZ3fhY"
      },
      "source": [
        "model = BERTClassifier(bertmodel,  dr_rate=0.25).to(device)"
      ],
      "execution_count": null,
      "outputs": []
    },
    {
      "cell_type": "code",
      "metadata": {
        "id": "yJioktR-3fhY"
      },
      "source": [
        "# Prepare optimizer and schedule (linear warmup and decay)\n",
        "no_decay = ['bias', 'LayerNorm.weight']\n",
        "optimizer_grouped_parameters = [\n",
        "    {'params': [p for n, p in model.named_parameters() if not any(nd in n for nd in no_decay)], 'weight_decay': 0.01},\n",
        "    {'params': [p for n, p in model.named_parameters() if any(nd in n for nd in no_decay)], 'weight_decay': 0.0}\n",
        "]"
      ],
      "execution_count": null,
      "outputs": []
    },
    {
      "cell_type": "code",
      "metadata": {
        "id": "q52RGVwE3fhZ"
      },
      "source": [
        "optimizer = AdamW(optimizer_grouped_parameters, lr=learning_rate)\n",
        "loss_fn = nn.CrossEntropyLoss()"
      ],
      "execution_count": null,
      "outputs": []
    },
    {
      "cell_type": "code",
      "metadata": {
        "id": "2otUyqVz3fhb"
      },
      "source": [
        "t_total = len(train_dataloader) * num_epochs\n",
        "warmup_step = int(t_total * warmup_ratio)"
      ],
      "execution_count": null,
      "outputs": []
    },
    {
      "cell_type": "code",
      "metadata": {
        "id": "_Bm2FUER3fhb"
      },
      "source": [
        "scheduler = get_cosine_schedule_with_warmup(optimizer, num_warmup_steps=warmup_step, num_training_steps=t_total)"
      ],
      "execution_count": null,
      "outputs": []
    },
    {
      "cell_type": "code",
      "metadata": {
        "id": "Q4mZE95c3fhb"
      },
      "source": [
        "def calc_accuracy(X,Y):\n",
        "    max_vals, max_indices = torch.max(X, 1)\n",
        "    train_acc = (max_indices == Y).sum().data.cpu().numpy()/max_indices.size()[0]\n",
        "    return train_acc"
      ],
      "execution_count": null,
      "outputs": []
    },
    {
      "cell_type": "code",
      "metadata": {
        "id": "9GUC46J4gYpA"
      },
      "source": [
        "from time import gmtime, strftime\n",
        "START_TIME = strftime(\"%Y_%m_%d_%H_%M_%S\", gmtime())"
      ],
      "execution_count": null,
      "outputs": []
    },
    {
      "cell_type": "code",
      "metadata": {
        "id": "wR2vjq0wgpAY"
      },
      "source": [
        "SAVE_PATH = BASE_PATH+\"/bert_news_model_{}.pth\".format(START_TIME)"
      ],
      "execution_count": null,
      "outputs": []
    },
    {
      "cell_type": "code",
      "metadata": {
        "id": "bqabA3z43fhc",
        "colab": {
          "base_uri": "https://localhost:8080/",
          "height": 658,
          "referenced_widgets": [
            "fc308a475ccc42ac8c6390c17449e821",
            "267f7f03e358487c9f0731e81d435c3f",
            "2178453d7ecd4f53b3ab2021e8631a37",
            "c11e48916770471081e6d2a6e7bc2c2e",
            "0dfba766102d48bb90fe96e2bc614746",
            "702ad99be01b43dbb4e5d7836707d357",
            "1095441dcb7f49c68b93eb25851e06c2",
            "23bb4397b17349369b40444f930d0d53",
            "6b2a653528bf444eaefc1d8a54b231db",
            "37a28bded9124ebca3223ff504a4fccb",
            "afdffe6350344353bbad76f150a51ef6",
            "3dad790a43324389bc58a317f2874316",
            "ece3f9becf784e569c23345d6803e29e",
            "9760e2b3a26b47068783bacb282e3831",
            "ed66cecc86244225b975e5bcb066a668",
            "b84eb321431c4b1eafc1cb8903d1c901",
            "9d0ce1f3c98e42bdb02ce635e06c4a8e",
            "3b279884cd224ec8a35fb760d32aa507",
            "c304bf8e5c9c49239479e0f8dc94213e",
            "75a92069688b4a7fb97e06fd54f051be",
            "fda9daba2d0e440ca6d9f8ad148bc40c",
            "7794bc3a15c54aeda368b4ab0719f0fa",
            "82aba0b99a984f5386b1cbebbc23bd24",
            "6b498c00417d4729812d5cbd26a7de4e"
          ]
        },
        "outputId": "572a89dc-c7d7-46a5-c41e-3359c45e3c7b"
      },
      "source": [
        "for e in range(num_epochs):\n",
        "    train_acc = 0.0\n",
        "    test_acc = 0.0\n",
        "    model.train()\n",
        "    for batch_id, (token_ids, valid_length, segment_ids, label) in enumerate(notebook.tqdm(train_dataloader)):\n",
        "        optimizer.zero_grad()\n",
        "        token_ids = token_ids.long().to(device)\n",
        "        segment_ids = segment_ids.long().to(device)\n",
        "        valid_length= valid_length\n",
        "        label = label.long().to(device)\n",
        "        out = model(token_ids, valid_length, segment_ids)\n",
        "        loss = loss_fn(out, label)\n",
        "        loss.backward()\n",
        "        torch.nn.utils.clip_grad_norm_(model.parameters(), max_grad_norm)\n",
        "        optimizer.step()\n",
        "        scheduler.step()  # Update learning rate schedule\n",
        "        train_acc += calc_accuracy(out, label)\n",
        "        if batch_id % log_interval == 0:\n",
        "            print(\"epoch {} batch id {} loss {} train acc {}\".format(e+1, batch_id+1, loss.data.cpu().numpy(), train_acc / (batch_id+1)))\n",
        "    print(\"epoch {} train acc {}\".format(e+1, train_acc / (batch_id+1)))\n",
        "    \n",
        "    torch.save(model.state_dict(), SAVE_PATH)\n",
        "    print(\"Model saved at {}\".format(SAVE_PATH))\n",
        "\n",
        "    model.eval()\n",
        "    for batch_id, (token_ids, valid_length, segment_ids, label) in enumerate(notebook.tqdm(test_dataloader)):\n",
        "        token_ids = token_ids.long().to(device)\n",
        "        segment_ids = segment_ids.long().to(device)\n",
        "        valid_length= valid_length\n",
        "        label = label.long().to(device)\n",
        "        out = model(token_ids, valid_length, segment_ids)\n",
        "        test_acc += calc_accuracy(out, label)\n",
        "    print(\"epoch {} test acc {}\".format(e+1, test_acc / (batch_id+1)))"
      ],
      "execution_count": null,
      "outputs": [
        {
          "output_type": "display_data",
          "data": {
            "application/vnd.jupyter.widget-view+json": {
              "model_id": "fc308a475ccc42ac8c6390c17449e821",
              "version_minor": 0,
              "version_major": 2
            },
            "text/plain": [
              "HBox(children=(FloatProgress(value=0.0, max=682.0), HTML(value='')))"
            ]
          },
          "metadata": {
            "tags": []
          }
        },
        {
          "output_type": "stream",
          "text": [
            "epoch 1 batch id 1 loss 4.07710599899292 train acc 0.03125\n",
            "epoch 1 batch id 201 loss 3.92838716506958 train acc 0.04329912935323383\n",
            "epoch 1 batch id 401 loss 3.147287130355835 train acc 0.1345074812967581\n",
            "epoch 1 batch id 601 loss 2.8062405586242676 train acc 0.22153182196339435\n",
            "\n",
            "epoch 1 train acc 0.24761271994134895\n",
            "Model saved at /content/drive/MyDrive/hyun_data/bert_news_model_2020_12_17_15_55_09.pth\n"
          ],
          "name": "stdout"
        },
        {
          "output_type": "display_data",
          "data": {
            "application/vnd.jupyter.widget-view+json": {
              "model_id": "6b2a653528bf444eaefc1d8a54b231db",
              "version_minor": 0,
              "version_major": 2
            },
            "text/plain": [
              "HBox(children=(FloatProgress(value=0.0, max=76.0), HTML(value='')))"
            ]
          },
          "metadata": {
            "tags": []
          }
        },
        {
          "output_type": "stream",
          "text": [
            "\n",
            "epoch 1 test acc 0.4641584429824561\n"
          ],
          "name": "stdout"
        },
        {
          "output_type": "display_data",
          "data": {
            "application/vnd.jupyter.widget-view+json": {
              "model_id": "9d0ce1f3c98e42bdb02ce635e06c4a8e",
              "version_minor": 0,
              "version_major": 2
            },
            "text/plain": [
              "HBox(children=(FloatProgress(value=0.0, max=682.0), HTML(value='')))"
            ]
          },
          "metadata": {
            "tags": []
          }
        },
        {
          "output_type": "stream",
          "text": [
            "epoch 2 batch id 1 loss 2.3890326023101807 train acc 0.46875\n"
          ],
          "name": "stdout"
        },
        {
          "output_type": "error",
          "ename": "KeyboardInterrupt",
          "evalue": "ignored",
          "traceback": [
            "\u001b[0;31m---------------------------------------------------------------------------\u001b[0m",
            "\u001b[0;31mKeyboardInterrupt\u001b[0m                         Traceback (most recent call last)",
            "\u001b[0;32m<ipython-input-61-cd22774cc38a>\u001b[0m in \u001b[0;36m<module>\u001b[0;34m()\u001b[0m\n\u001b[1;32m     11\u001b[0m         \u001b[0mout\u001b[0m \u001b[0;34m=\u001b[0m \u001b[0mmodel\u001b[0m\u001b[0;34m(\u001b[0m\u001b[0mtoken_ids\u001b[0m\u001b[0;34m,\u001b[0m \u001b[0mvalid_length\u001b[0m\u001b[0;34m,\u001b[0m \u001b[0msegment_ids\u001b[0m\u001b[0;34m)\u001b[0m\u001b[0;34m\u001b[0m\u001b[0;34m\u001b[0m\u001b[0m\n\u001b[1;32m     12\u001b[0m         \u001b[0mloss\u001b[0m \u001b[0;34m=\u001b[0m \u001b[0mloss_fn\u001b[0m\u001b[0;34m(\u001b[0m\u001b[0mout\u001b[0m\u001b[0;34m,\u001b[0m \u001b[0mlabel\u001b[0m\u001b[0;34m)\u001b[0m\u001b[0;34m\u001b[0m\u001b[0;34m\u001b[0m\u001b[0m\n\u001b[0;32m---> 13\u001b[0;31m         \u001b[0mloss\u001b[0m\u001b[0;34m.\u001b[0m\u001b[0mbackward\u001b[0m\u001b[0;34m(\u001b[0m\u001b[0;34m)\u001b[0m\u001b[0;34m\u001b[0m\u001b[0;34m\u001b[0m\u001b[0m\n\u001b[0m\u001b[1;32m     14\u001b[0m         \u001b[0mtorch\u001b[0m\u001b[0;34m.\u001b[0m\u001b[0mnn\u001b[0m\u001b[0;34m.\u001b[0m\u001b[0mutils\u001b[0m\u001b[0;34m.\u001b[0m\u001b[0mclip_grad_norm_\u001b[0m\u001b[0;34m(\u001b[0m\u001b[0mmodel\u001b[0m\u001b[0;34m.\u001b[0m\u001b[0mparameters\u001b[0m\u001b[0;34m(\u001b[0m\u001b[0;34m)\u001b[0m\u001b[0;34m,\u001b[0m \u001b[0mmax_grad_norm\u001b[0m\u001b[0;34m)\u001b[0m\u001b[0;34m\u001b[0m\u001b[0;34m\u001b[0m\u001b[0m\n\u001b[1;32m     15\u001b[0m         \u001b[0moptimizer\u001b[0m\u001b[0;34m.\u001b[0m\u001b[0mstep\u001b[0m\u001b[0;34m(\u001b[0m\u001b[0;34m)\u001b[0m\u001b[0;34m\u001b[0m\u001b[0;34m\u001b[0m\u001b[0m\n",
            "\u001b[0;32m/usr/local/lib/python3.6/dist-packages/torch/tensor.py\u001b[0m in \u001b[0;36mbackward\u001b[0;34m(self, gradient, retain_graph, create_graph)\u001b[0m\n\u001b[1;32m    219\u001b[0m                 \u001b[0mretain_graph\u001b[0m\u001b[0;34m=\u001b[0m\u001b[0mretain_graph\u001b[0m\u001b[0;34m,\u001b[0m\u001b[0;34m\u001b[0m\u001b[0;34m\u001b[0m\u001b[0m\n\u001b[1;32m    220\u001b[0m                 create_graph=create_graph)\n\u001b[0;32m--> 221\u001b[0;31m         \u001b[0mtorch\u001b[0m\u001b[0;34m.\u001b[0m\u001b[0mautograd\u001b[0m\u001b[0;34m.\u001b[0m\u001b[0mbackward\u001b[0m\u001b[0;34m(\u001b[0m\u001b[0mself\u001b[0m\u001b[0;34m,\u001b[0m \u001b[0mgradient\u001b[0m\u001b[0;34m,\u001b[0m \u001b[0mretain_graph\u001b[0m\u001b[0;34m,\u001b[0m \u001b[0mcreate_graph\u001b[0m\u001b[0;34m)\u001b[0m\u001b[0;34m\u001b[0m\u001b[0;34m\u001b[0m\u001b[0m\n\u001b[0m\u001b[1;32m    222\u001b[0m \u001b[0;34m\u001b[0m\u001b[0m\n\u001b[1;32m    223\u001b[0m     \u001b[0;32mdef\u001b[0m \u001b[0mregister_hook\u001b[0m\u001b[0;34m(\u001b[0m\u001b[0mself\u001b[0m\u001b[0;34m,\u001b[0m \u001b[0mhook\u001b[0m\u001b[0;34m)\u001b[0m\u001b[0;34m:\u001b[0m\u001b[0;34m\u001b[0m\u001b[0;34m\u001b[0m\u001b[0m\n",
            "\u001b[0;32m/usr/local/lib/python3.6/dist-packages/torch/autograd/__init__.py\u001b[0m in \u001b[0;36mbackward\u001b[0;34m(tensors, grad_tensors, retain_graph, create_graph, grad_variables)\u001b[0m\n\u001b[1;32m    130\u001b[0m     Variable._execution_engine.run_backward(\n\u001b[1;32m    131\u001b[0m         \u001b[0mtensors\u001b[0m\u001b[0;34m,\u001b[0m \u001b[0mgrad_tensors_\u001b[0m\u001b[0;34m,\u001b[0m \u001b[0mretain_graph\u001b[0m\u001b[0;34m,\u001b[0m \u001b[0mcreate_graph\u001b[0m\u001b[0;34m,\u001b[0m\u001b[0;34m\u001b[0m\u001b[0;34m\u001b[0m\u001b[0m\n\u001b[0;32m--> 132\u001b[0;31m         allow_unreachable=True)  # allow_unreachable flag\n\u001b[0m\u001b[1;32m    133\u001b[0m \u001b[0;34m\u001b[0m\u001b[0m\n\u001b[1;32m    134\u001b[0m \u001b[0;34m\u001b[0m\u001b[0m\n",
            "\u001b[0;31mKeyboardInterrupt\u001b[0m: "
          ]
        }
      ]
    },
    {
      "cell_type": "code",
      "metadata": {
        "id": "0pm8P_SXH9FL"
      },
      "source": [
        ""
      ],
      "execution_count": null,
      "outputs": []
    }
  ]
}