{
  "nbformat": 4,
  "nbformat_minor": 0,
  "metadata": {
    "colab": {
      "name": "Khaii_BERT.ipynb",
      "provenance": [],
      "collapsed_sections": [],
      "machine_shape": "hm",
      "authorship_tag": "ABX9TyPaCQPWAxhIrEkgEafd1E4Q",
      "include_colab_link": true
    },
    "kernelspec": {
      "name": "python3",
      "display_name": "Python 3"
    },
    "accelerator": "GPU"
  },
  "cells": [
    {
      "cell_type": "markdown",
      "metadata": {
        "id": "view-in-github",
        "colab_type": "text"
      },
      "source": [
        "<a href=\"https://colab.research.google.com/github/gatherheart/Classification_With_BERT/blob/main/Khaii_BERT.ipynb\" target=\"_parent\"><img src=\"https://colab.research.google.com/assets/colab-badge.svg\" alt=\"Open In Colab\"/></a>"
      ]
    },
    {
      "cell_type": "code",
      "metadata": {
        "id": "MPFySRp8JL16"
      },
      "source": [
        "import glob\n",
        "import pandas as pd\n",
        "import matplotlib.pyplot as plt"
      ],
      "execution_count": 6,
      "outputs": []
    },
    {
      "cell_type": "code",
      "metadata": {
        "colab": {
          "base_uri": "https://localhost:8080/"
        },
        "id": "-fYVF21dJdFw",
        "outputId": "8195e899-9dfe-4b1d-8ea0-8d7dfc9f6a29"
      },
      "source": [
        "from google.colab import drive\n",
        "drive.mount('/content/drive')"
      ],
      "execution_count": 7,
      "outputs": [
        {
          "output_type": "stream",
          "text": [
            "Mounted at /content/drive\n"
          ],
          "name": "stdout"
        }
      ]
    },
    {
      "cell_type": "code",
      "metadata": {
        "colab": {
          "base_uri": "https://localhost:8080/"
        },
        "id": "s0JgPPJjJ1t3",
        "outputId": "ce9f7653-c2e4-44a2-81ed-f782e83b76e2"
      },
      "source": [
        "!pip install mxnet\n",
        "!pip install gluonnlp pandas tqdm\n",
        "!pip install sentencepiece\n",
        "!pip install transformers==3\n",
        "!pip install torch"
      ],
      "execution_count": 8,
      "outputs": [
        {
          "output_type": "stream",
          "text": [
            "Collecting mxnet\n",
            "\u001b[?25l  Downloading https://files.pythonhosted.org/packages/29/bb/54cbabe428351c06d10903c658878d29ee7026efbe45133fd133598d6eb6/mxnet-1.7.0.post1-py2.py3-none-manylinux2014_x86_64.whl (55.0MB)\n",
            "\u001b[K     |████████████████████████████████| 55.0MB 104kB/s \n",
            "\u001b[?25hCollecting graphviz<0.9.0,>=0.8.1\n",
            "  Downloading https://files.pythonhosted.org/packages/53/39/4ab213673844e0c004bed8a0781a0721a3f6bb23eb8854ee75c236428892/graphviz-0.8.4-py2.py3-none-any.whl\n",
            "Requirement already satisfied: requests<3,>=2.20.0 in /usr/local/lib/python3.6/dist-packages (from mxnet) (2.23.0)\n",
            "Requirement already satisfied: numpy<2.0.0,>1.16.0 in /usr/local/lib/python3.6/dist-packages (from mxnet) (1.18.5)\n",
            "Requirement already satisfied: idna<3,>=2.5 in /usr/local/lib/python3.6/dist-packages (from requests<3,>=2.20.0->mxnet) (2.10)\n",
            "Requirement already satisfied: urllib3!=1.25.0,!=1.25.1,<1.26,>=1.21.1 in /usr/local/lib/python3.6/dist-packages (from requests<3,>=2.20.0->mxnet) (1.24.3)\n",
            "Requirement already satisfied: certifi>=2017.4.17 in /usr/local/lib/python3.6/dist-packages (from requests<3,>=2.20.0->mxnet) (2020.12.5)\n",
            "Requirement already satisfied: chardet<4,>=3.0.2 in /usr/local/lib/python3.6/dist-packages (from requests<3,>=2.20.0->mxnet) (3.0.4)\n",
            "Installing collected packages: graphviz, mxnet\n",
            "  Found existing installation: graphviz 0.10.1\n",
            "    Uninstalling graphviz-0.10.1:\n",
            "      Successfully uninstalled graphviz-0.10.1\n",
            "Successfully installed graphviz-0.8.4 mxnet-1.7.0.post1\n",
            "Collecting gluonnlp\n",
            "\u001b[?25l  Downloading https://files.pythonhosted.org/packages/9c/81/a238e47ccba0d7a61dcef4e0b4a7fd4473cb86bed3d84dd4fe28d45a0905/gluonnlp-0.10.0.tar.gz (344kB)\n",
            "\u001b[K     |████████████████████████████████| 348kB 13.2MB/s \n",
            "\u001b[?25hRequirement already satisfied: pandas in /usr/local/lib/python3.6/dist-packages (1.1.5)\n",
            "Requirement already satisfied: tqdm in /usr/local/lib/python3.6/dist-packages (4.41.1)\n",
            "Requirement already satisfied: numpy>=1.16.0 in /usr/local/lib/python3.6/dist-packages (from gluonnlp) (1.18.5)\n",
            "Requirement already satisfied: cython in /usr/local/lib/python3.6/dist-packages (from gluonnlp) (0.29.21)\n",
            "Requirement already satisfied: packaging in /usr/local/lib/python3.6/dist-packages (from gluonnlp) (20.7)\n",
            "Requirement already satisfied: pytz>=2017.2 in /usr/local/lib/python3.6/dist-packages (from pandas) (2018.9)\n",
            "Requirement already satisfied: python-dateutil>=2.7.3 in /usr/local/lib/python3.6/dist-packages (from pandas) (2.8.1)\n",
            "Requirement already satisfied: pyparsing>=2.0.2 in /usr/local/lib/python3.6/dist-packages (from packaging->gluonnlp) (2.4.7)\n",
            "Requirement already satisfied: six>=1.5 in /usr/local/lib/python3.6/dist-packages (from python-dateutil>=2.7.3->pandas) (1.15.0)\n",
            "Building wheels for collected packages: gluonnlp\n",
            "  Building wheel for gluonnlp (setup.py) ... \u001b[?25l\u001b[?25hdone\n",
            "  Created wheel for gluonnlp: filename=gluonnlp-0.10.0-cp36-cp36m-linux_x86_64.whl size=588515 sha256=3af5dd0e1d44724bfb662efc20cc20e1ca8f7fe437b531fca8824455612e617f\n",
            "  Stored in directory: /root/.cache/pip/wheels/37/65/52/63032864a0f31a08b9a88569f803b5bafac8abd207fd7f7534\n",
            "Successfully built gluonnlp\n",
            "Installing collected packages: gluonnlp\n",
            "Successfully installed gluonnlp-0.10.0\n",
            "Collecting sentencepiece\n",
            "\u001b[?25l  Downloading https://files.pythonhosted.org/packages/e5/2d/6d4ca4bef9a67070fa1cac508606328329152b1df10bdf31fb6e4e727894/sentencepiece-0.1.94-cp36-cp36m-manylinux2014_x86_64.whl (1.1MB)\n",
            "\u001b[K     |████████████████████████████████| 1.1MB 12.7MB/s \n",
            "\u001b[?25hInstalling collected packages: sentencepiece\n",
            "Successfully installed sentencepiece-0.1.94\n",
            "Collecting transformers==3\n",
            "\u001b[?25l  Downloading https://files.pythonhosted.org/packages/9c/35/1c3f6e62d81f5f0daff1384e6d5e6c5758682a8357ebc765ece2b9def62b/transformers-3.0.0-py3-none-any.whl (754kB)\n",
            "\u001b[K     |████████████████████████████████| 757kB 13.2MB/s \n",
            "\u001b[?25hCollecting tokenizers==0.8.0-rc4\n",
            "\u001b[?25l  Downloading https://files.pythonhosted.org/packages/e8/bd/e5abec46af977c8a1375c1dca7cb1e5b3ec392ef279067af7f6bc50491a0/tokenizers-0.8.0rc4-cp36-cp36m-manylinux1_x86_64.whl (3.0MB)\n",
            "\u001b[K     |████████████████████████████████| 3.0MB 31.1MB/s \n",
            "\u001b[?25hRequirement already satisfied: sentencepiece in /usr/local/lib/python3.6/dist-packages (from transformers==3) (0.1.94)\n",
            "Requirement already satisfied: packaging in /usr/local/lib/python3.6/dist-packages (from transformers==3) (20.7)\n",
            "Requirement already satisfied: regex!=2019.12.17 in /usr/local/lib/python3.6/dist-packages (from transformers==3) (2019.12.20)\n",
            "Requirement already satisfied: numpy in /usr/local/lib/python3.6/dist-packages (from transformers==3) (1.18.5)\n",
            "Collecting sacremoses\n",
            "\u001b[?25l  Downloading https://files.pythonhosted.org/packages/7d/34/09d19aff26edcc8eb2a01bed8e98f13a1537005d31e95233fd48216eed10/sacremoses-0.0.43.tar.gz (883kB)\n",
            "\u001b[K     |████████████████████████████████| 890kB 37.4MB/s \n",
            "\u001b[?25hRequirement already satisfied: filelock in /usr/local/lib/python3.6/dist-packages (from transformers==3) (3.0.12)\n",
            "Requirement already satisfied: dataclasses; python_version < \"3.7\" in /usr/local/lib/python3.6/dist-packages (from transformers==3) (0.8)\n",
            "Requirement already satisfied: tqdm>=4.27 in /usr/local/lib/python3.6/dist-packages (from transformers==3) (4.41.1)\n",
            "Requirement already satisfied: requests in /usr/local/lib/python3.6/dist-packages (from transformers==3) (2.23.0)\n",
            "Requirement already satisfied: pyparsing>=2.0.2 in /usr/local/lib/python3.6/dist-packages (from packaging->transformers==3) (2.4.7)\n",
            "Requirement already satisfied: six in /usr/local/lib/python3.6/dist-packages (from sacremoses->transformers==3) (1.15.0)\n",
            "Requirement already satisfied: click in /usr/local/lib/python3.6/dist-packages (from sacremoses->transformers==3) (7.1.2)\n",
            "Requirement already satisfied: joblib in /usr/local/lib/python3.6/dist-packages (from sacremoses->transformers==3) (0.17.0)\n",
            "Requirement already satisfied: chardet<4,>=3.0.2 in /usr/local/lib/python3.6/dist-packages (from requests->transformers==3) (3.0.4)\n",
            "Requirement already satisfied: urllib3!=1.25.0,!=1.25.1,<1.26,>=1.21.1 in /usr/local/lib/python3.6/dist-packages (from requests->transformers==3) (1.24.3)\n",
            "Requirement already satisfied: idna<3,>=2.5 in /usr/local/lib/python3.6/dist-packages (from requests->transformers==3) (2.10)\n",
            "Requirement already satisfied: certifi>=2017.4.17 in /usr/local/lib/python3.6/dist-packages (from requests->transformers==3) (2020.12.5)\n",
            "Building wheels for collected packages: sacremoses\n",
            "  Building wheel for sacremoses (setup.py) ... \u001b[?25l\u001b[?25hdone\n",
            "  Created wheel for sacremoses: filename=sacremoses-0.0.43-cp36-none-any.whl size=893261 sha256=ff504b89c0244bfd89d44e863f3ffea40b96ee3d457d230f35673c50a190b705\n",
            "  Stored in directory: /root/.cache/pip/wheels/29/3c/fd/7ce5c3f0666dab31a50123635e6fb5e19ceb42ce38d4e58f45\n",
            "Successfully built sacremoses\n",
            "Installing collected packages: tokenizers, sacremoses, transformers\n",
            "Successfully installed sacremoses-0.0.43 tokenizers-0.8.0rc4 transformers-3.0.0\n",
            "Requirement already satisfied: torch in /usr/local/lib/python3.6/dist-packages (1.7.0+cu101)\n",
            "Requirement already satisfied: typing-extensions in /usr/local/lib/python3.6/dist-packages (from torch) (3.7.4.3)\n",
            "Requirement already satisfied: dataclasses in /usr/local/lib/python3.6/dist-packages (from torch) (0.8)\n",
            "Requirement already satisfied: numpy in /usr/local/lib/python3.6/dist-packages (from torch) (1.18.5)\n",
            "Requirement already satisfied: future in /usr/local/lib/python3.6/dist-packages (from torch) (0.16.0)\n"
          ],
          "name": "stdout"
        }
      ]
    },
    {
      "cell_type": "code",
      "metadata": {
        "colab": {
          "base_uri": "https://localhost:8080/"
        },
        "id": "Nd1-om8TJ2yK",
        "outputId": "33fd4e7f-eb2c-4b6e-cfa8-719836c2e496"
      },
      "source": [
        "!pip install git+https://git@github.com/SKTBrain/KoBERT.git@master"
      ],
      "execution_count": 9,
      "outputs": [
        {
          "output_type": "stream",
          "text": [
            "Collecting git+https://****@github.com/SKTBrain/KoBERT.git@master\n",
            "  Cloning https://****@github.com/SKTBrain/KoBERT.git (to revision master) to /tmp/pip-req-build-818nry6s\n",
            "  Running command git clone -q 'https://****@github.com/SKTBrain/KoBERT.git' /tmp/pip-req-build-818nry6s\n",
            "Building wheels for collected packages: kobert\n",
            "  Building wheel for kobert (setup.py) ... \u001b[?25l\u001b[?25hdone\n",
            "  Created wheel for kobert: filename=kobert-0.1.2-cp36-none-any.whl size=12734 sha256=517e5900f82e2355a83cefd9d543c4f7fff4144aeb5e61ffb6bdaf2939ca657c\n",
            "  Stored in directory: /tmp/pip-ephem-wheel-cache-4zk_86gj/wheels/a2/b0/41/435ee4e918f91918be41529283c5ff86cd010f02e7525aecf3\n",
            "Successfully built kobert\n",
            "Installing collected packages: kobert\n",
            "Successfully installed kobert-0.1.2\n"
          ],
          "name": "stdout"
        }
      ]
    },
    {
      "cell_type": "code",
      "metadata": {
        "id": "RW-pkMBSJ7tA"
      },
      "source": [
        "import torch\n",
        "from torch import nn\n",
        "import torch.nn.functional as F\n",
        "import torch.optim as optim\n",
        "from torch.utils.data import Dataset, DataLoader\n",
        "import gluonnlp as nlp\n",
        "from tqdm import tqdm, tqdm_notebook, notebook"
      ],
      "execution_count": 10,
      "outputs": []
    },
    {
      "cell_type": "code",
      "metadata": {
        "id": "GbekzZWvJ8aD"
      },
      "source": [
        "from kobert.utils import get_tokenizer\n",
        "from kobert.pytorch_kobert import get_pytorch_kobert_model"
      ],
      "execution_count": 11,
      "outputs": []
    },
    {
      "cell_type": "code",
      "metadata": {
        "id": "XQSZZ9I5J-H1"
      },
      "source": [
        "from transformers import AdamW\n",
        "from transformers.optimization import get_cosine_schedule_with_warmup\n",
        "\n",
        "from transformers import BertTokenizer\n",
        "from transformers import BertForSequenceClassification, BertConfig\n",
        "from transformers import get_linear_schedule_with_warmup\n",
        "from torch.utils.data import TensorDataset, DataLoader, RandomSampler, SequentialSampler\n",
        "from keras.preprocessing.sequence import pad_sequences"
      ],
      "execution_count": 12,
      "outputs": []
    },
    {
      "cell_type": "code",
      "metadata": {
        "id": "qRmHeL9bJl30"
      },
      "source": [
        "BASE_PATH = '/content/drive/MyDrive/hyun_data'"
      ],
      "execution_count": 13,
      "outputs": []
    },
    {
      "cell_type": "code",
      "metadata": {
        "id": "mXoW5ujaJeAc"
      },
      "source": [
        "data_2019 = glob.glob(BASE_PATH+'/crawling/NewsResult_2019*')"
      ],
      "execution_count": 14,
      "outputs": []
    },
    {
      "cell_type": "code",
      "metadata": {
        "colab": {
          "base_uri": "https://localhost:8080/"
        },
        "id": "lONRfRWXJySg",
        "outputId": "1c3f9b19-0794-4163-89b6-a4c9d8bbcbf9"
      },
      "source": [
        "data_2019"
      ],
      "execution_count": 15,
      "outputs": [
        {
          "output_type": "execute_result",
          "data": {
            "text/plain": [
              "['/content/drive/MyDrive/hyun_data/crawling/NewsResult_20190801-20190810.csv',\n",
              " '/content/drive/MyDrive/hyun_data/crawling/NewsResult_20190721-20190731.csv',\n",
              " '/content/drive/MyDrive/hyun_data/crawling/NewsResult_20190711-20190720.csv',\n",
              " '/content/drive/MyDrive/hyun_data/crawling/NewsResult_20190811-20190820.csv',\n",
              " '/content/drive/MyDrive/hyun_data/crawling/NewsResult_20190821-20190831.csv',\n",
              " '/content/drive/MyDrive/hyun_data/crawling/NewsResult_20190901-20190910.csv',\n",
              " '/content/drive/MyDrive/hyun_data/crawling/NewsResult_20190921-20190930.csv',\n",
              " '/content/drive/MyDrive/hyun_data/crawling/NewsResult_20190911-20190920.csv',\n",
              " '/content/drive/MyDrive/hyun_data/crawling/NewsResult_20190701-20190710.csv']"
            ]
          },
          "metadata": {
            "tags": []
          },
          "execution_count": 15
        }
      ]
    },
    {
      "cell_type": "code",
      "metadata": {
        "id": "N-jw5P5GJ0Z2"
      },
      "source": [
        "data_2020 = glob.glob(BASE_PATH+'/crawling/NewsResult_2020*')"
      ],
      "execution_count": 16,
      "outputs": []
    },
    {
      "cell_type": "code",
      "metadata": {
        "colab": {
          "base_uri": "https://localhost:8080/"
        },
        "id": "NY25BQ0LJ4K-",
        "outputId": "70da8f0a-8a1d-4ba3-e4b7-e94f76d5ef23"
      },
      "source": [
        "data_2020"
      ],
      "execution_count": 17,
      "outputs": [
        {
          "output_type": "execute_result",
          "data": {
            "text/plain": [
              "['/content/drive/MyDrive/hyun_data/crawling/NewsResult_20200711-20200720.csv',\n",
              " '/content/drive/MyDrive/hyun_data/crawling/NewsResult_20200701-20200710.csv',\n",
              " '/content/drive/MyDrive/hyun_data/crawling/NewsResult_20200721-20200731.csv',\n",
              " '/content/drive/MyDrive/hyun_data/crawling/NewsResult_20200801-20200810.csv',\n",
              " '/content/drive/MyDrive/hyun_data/crawling/NewsResult_20200811-20200820.csv',\n",
              " '/content/drive/MyDrive/hyun_data/crawling/NewsResult_20200821-20200831.csv',\n",
              " '/content/drive/MyDrive/hyun_data/crawling/NewsResult_20200901-20200910.csv',\n",
              " '/content/drive/MyDrive/hyun_data/crawling/NewsResult_20200911-20200920.csv',\n",
              " '/content/drive/MyDrive/hyun_data/crawling/NewsResult_20200921-20200930.csv']"
            ]
          },
          "metadata": {
            "tags": []
          },
          "execution_count": 17
        }
      ]
    },
    {
      "cell_type": "code",
      "metadata": {
        "id": "aK8kxONZNfFl"
      },
      "source": [
        "df = pd.concat(map(lambda x: pd.read_csv(x), data_2019))"
      ],
      "execution_count": 18,
      "outputs": []
    },
    {
      "cell_type": "code",
      "metadata": {
        "colab": {
          "base_uri": "https://localhost:8080/",
          "height": 419
        },
        "id": "OmDoihuaJSD9",
        "outputId": "f51b24d3-ba96-4cf0-a759-63d1c3f890ed"
      },
      "source": [
        "df"
      ],
      "execution_count": 19,
      "outputs": [
        {
          "output_type": "execute_result",
          "data": {
            "text/html": [
              "<div>\n",
              "<style scoped>\n",
              "    .dataframe tbody tr th:only-of-type {\n",
              "        vertical-align: middle;\n",
              "    }\n",
              "\n",
              "    .dataframe tbody tr th {\n",
              "        vertical-align: top;\n",
              "    }\n",
              "\n",
              "    .dataframe thead th {\n",
              "        text-align: right;\n",
              "    }\n",
              "</style>\n",
              "<table border=\"1\" class=\"dataframe\">\n",
              "  <thead>\n",
              "    <tr style=\"text-align: right;\">\n",
              "      <th></th>\n",
              "      <th>0</th>\n",
              "      <th>뉴스 식별자</th>\n",
              "      <th>일자</th>\n",
              "      <th>단어</th>\n",
              "      <th>본문</th>\n",
              "    </tr>\n",
              "  </thead>\n",
              "  <tbody>\n",
              "    <tr>\n",
              "      <th>0</th>\n",
              "      <td>1</td>\n",
              "      <td>2.100601e+06</td>\n",
              "      <td>20190810</td>\n",
              "      <td>수,다,사진,다나,인스타그램,가수,모습,공개,다,일,오후,자신,사회,관계,망,서비스...</td>\n",
              "      <td>['\\n', '\\n', '\\n', '\\n', '\\n', '가수 다나/사진=다나 인스...</td>\n",
              "    </tr>\n",
              "    <tr>\n",
              "      <th>1</th>\n",
              "      <td>2</td>\n",
              "      <td>2.100601e+06</td>\n",
              "      <td>20190810</td>\n",
              "      <td>왓,사진,방송,영상,캡처,진,범,비리장부,서강준,습격,일,방송,주말드라,왓,김영군,...</td>\n",
              "      <td>['\\n', '\\n', '\\n', '\\n', '\\n', '\\n', '왓쳐 (사진=방...</td>\n",
              "    </tr>\n",
              "    <tr>\n",
              "      <th>2</th>\n",
              "      <td>3</td>\n",
              "      <td>2.100601e+06</td>\n",
              "      <td>20190810</td>\n",
              "      <td>호텔,델루,사진,방송,영상,캡처,호텔,델루,남,우물,신,특,연,일,방송,토일,드라마...</td>\n",
              "      <td>['\\n', '\\n', '\\n', '\\n', '\\n', '\\n', '호텔 델루나 (...</td>\n",
              "    </tr>\n",
              "    <tr>\n",
              "      <th>3</th>\n",
              "      <td>4</td>\n",
              "      <td>2.100601e+06</td>\n",
              "      <td>20190810</td>\n",
              "      <td>오승환,사진,연합,뉴스,돌부,처,오승환,정팀,삼성,라이온즈,유니폼,오승환,일,대구,...</td>\n",
              "      <td>['\\n', '\\n', '\\n', '\\n', '\\n', '오승환/사진=연합뉴스', ...</td>\n",
              "    </tr>\n",
              "    <tr>\n",
              "      <th>4</th>\n",
              "      <td>5</td>\n",
              "      <td>2.100601e+06</td>\n",
              "      <td>20190810</td>\n",
              "      <td>호텔,델루,사진,방송,영상,캡처,여,진,구,개장,호텔,델루나,이지,일,오후,방송,호...</td>\n",
              "      <td>['\\n', '\\n', '\\n', '\\n', '\\n', '\\n', '호텔 델루나 (...</td>\n",
              "    </tr>\n",
              "    <tr>\n",
              "      <th>...</th>\n",
              "      <td>...</td>\n",
              "      <td>...</td>\n",
              "      <td>...</td>\n",
              "      <td>...</td>\n",
              "      <td>...</td>\n",
              "    </tr>\n",
              "    <tr>\n",
              "      <th>914</th>\n",
              "      <td>915</td>\n",
              "      <td>2.100601e+06</td>\n",
              "      <td>20190709</td>\n",
              "      <td>사진,연합,뉴스,일본,정부,한국,경제,보복,조치,대북제재,위반,의혹,들,청와대,강경...</td>\n",
              "      <td>['\\n', '\\n', '\\n', '\\n', '\\n', '사진=연합뉴스', '\\n'...</td>\n",
              "    </tr>\n",
              "    <tr>\n",
              "      <th>915</th>\n",
              "      <td>916</td>\n",
              "      <td>2.100601e+06</td>\n",
              "      <td>20190709</td>\n",
              "      <td>이낙연,국무총리,한국,수출,규제,북한,연결,일본,아베,총리,발언,위험,발언,말,총리...</td>\n",
              "      <td>['\\n', '\\n', '\\n', '\\n', '\\n', '\\n', '\\n      ...</td>\n",
              "    </tr>\n",
              "    <tr>\n",
              "      <th>916</th>\n",
              "      <td>917</td>\n",
              "      <td>2.100601e+06</td>\n",
              "      <td>20190709</td>\n",
              "      <td>양호석,차오름,사진,양호석,차오름,인스타그램,양호석,차오름,진흙탕,폭로전,일,서울중...</td>\n",
              "      <td>['\\n', '\\n', '\\n', '\\n', '\\n', '양호석, 차오름/사진=양호...</td>\n",
              "    </tr>\n",
              "    <tr>\n",
              "      <th>917</th>\n",
              "      <td>918</td>\n",
              "      <td>2.100601e+06</td>\n",
              "      <td>20190709</td>\n",
              "      <td>경기,용인시,시청,개,구청,개,읍,면,동,동시,실시간,연결,영상회,시스템,구축,시정...</td>\n",
              "      <td>['\\n', '경기 용인시는 시청과 ', '3', '개 구청', ', 31', '개...</td>\n",
              "    </tr>\n",
              "    <tr>\n",
              "      <th>918</th>\n",
              "      <td>919</td>\n",
              "      <td>2.100601e+06</td>\n",
              "      <td>20190709</td>\n",
              "      <td>초기,스타트업,신생,벤처,기업,전문,투자사,매쉬,업엔,젤스,스타일,가,발,브랜드,헤...</td>\n",
              "      <td>[\"\\n\\t\\t\\t\\t\\t\\t\\t\\t초기 스타트업(신생 벤처기업) 전문 투자사 매쉬...</td>\n",
              "    </tr>\n",
              "  </tbody>\n",
              "</table>\n",
              "<p>9363 rows × 5 columns</p>\n",
              "</div>"
            ],
            "text/plain": [
              "       0  ...                                                 본문\n",
              "0      1  ...  ['\\n', '\\n', '\\n', '\\n', '\\n', '가수 다나/사진=다나 인스...\n",
              "1      2  ...  ['\\n', '\\n', '\\n', '\\n', '\\n', '\\n', '왓쳐 (사진=방...\n",
              "2      3  ...  ['\\n', '\\n', '\\n', '\\n', '\\n', '\\n', '호텔 델루나 (...\n",
              "3      4  ...  ['\\n', '\\n', '\\n', '\\n', '\\n', '오승환/사진=연합뉴스', ...\n",
              "4      5  ...  ['\\n', '\\n', '\\n', '\\n', '\\n', '\\n', '호텔 델루나 (...\n",
              "..   ...  ...                                                ...\n",
              "914  915  ...  ['\\n', '\\n', '\\n', '\\n', '\\n', '사진=연합뉴스', '\\n'...\n",
              "915  916  ...  ['\\n', '\\n', '\\n', '\\n', '\\n', '\\n', '\\n      ...\n",
              "916  917  ...  ['\\n', '\\n', '\\n', '\\n', '\\n', '양호석, 차오름/사진=양호...\n",
              "917  918  ...  ['\\n', '경기 용인시는 시청과 ', '3', '개 구청', ', 31', '개...\n",
              "918  919  ...  [\"\\n\\t\\t\\t\\t\\t\\t\\t\\t초기 스타트업(신생 벤처기업) 전문 투자사 매쉬...\n",
              "\n",
              "[9363 rows x 5 columns]"
            ]
          },
          "metadata": {
            "tags": []
          },
          "execution_count": 19
        }
      ]
    },
    {
      "cell_type": "code",
      "metadata": {
        "id": "aBkVw1IcPZkm"
      },
      "source": [
        "df['단어'] =  list(map(lambda x: str(x).replace(',', ' '), df['단어']))"
      ],
      "execution_count": 17,
      "outputs": []
    },
    {
      "cell_type": "code",
      "metadata": {
        "id": "_tTk7p-JPas3"
      },
      "source": [
        "df = df.reset_index().drop(['0'], axis=1)"
      ],
      "execution_count": 18,
      "outputs": []
    },
    {
      "cell_type": "code",
      "metadata": {
        "colab": {
          "base_uri": "https://localhost:8080/",
          "height": 204
        },
        "id": "tdZTphRoRnCo",
        "outputId": "d5ba6ed3-1feb-42cb-c004-e43bc713fd12"
      },
      "source": [
        "df.head(5)"
      ],
      "execution_count": 19,
      "outputs": [
        {
          "output_type": "execute_result",
          "data": {
            "text/html": [
              "<div>\n",
              "<style scoped>\n",
              "    .dataframe tbody tr th:only-of-type {\n",
              "        vertical-align: middle;\n",
              "    }\n",
              "\n",
              "    .dataframe tbody tr th {\n",
              "        vertical-align: top;\n",
              "    }\n",
              "\n",
              "    .dataframe thead th {\n",
              "        text-align: right;\n",
              "    }\n",
              "</style>\n",
              "<table border=\"1\" class=\"dataframe\">\n",
              "  <thead>\n",
              "    <tr style=\"text-align: right;\">\n",
              "      <th></th>\n",
              "      <th>index</th>\n",
              "      <th>뉴스 식별자</th>\n",
              "      <th>일자</th>\n",
              "      <th>단어</th>\n",
              "      <th>본문</th>\n",
              "    </tr>\n",
              "  </thead>\n",
              "  <tbody>\n",
              "    <tr>\n",
              "      <th>0</th>\n",
              "      <td>0</td>\n",
              "      <td>2.100601e+06</td>\n",
              "      <td>20190810</td>\n",
              "      <td>수 다 사진 다나 인스타그램 가수 모습 공개 다 일 오후 자신 사회 관계 망 서비스...</td>\n",
              "      <td>['\\n', '\\n', '\\n', '\\n', '\\n', '가수 다나/사진=다나 인스...</td>\n",
              "    </tr>\n",
              "    <tr>\n",
              "      <th>1</th>\n",
              "      <td>1</td>\n",
              "      <td>2.100601e+06</td>\n",
              "      <td>20190810</td>\n",
              "      <td>왓 사진 방송 영상 캡처 진 범 비리장부 서강준 습격 일 방송 주말드라 왓 김영군 ...</td>\n",
              "      <td>['\\n', '\\n', '\\n', '\\n', '\\n', '\\n', '왓쳐 (사진=방...</td>\n",
              "    </tr>\n",
              "    <tr>\n",
              "      <th>2</th>\n",
              "      <td>2</td>\n",
              "      <td>2.100601e+06</td>\n",
              "      <td>20190810</td>\n",
              "      <td>호텔 델루 사진 방송 영상 캡처 호텔 델루 남 우물 신 특 연 일 방송 토일 드라마...</td>\n",
              "      <td>['\\n', '\\n', '\\n', '\\n', '\\n', '\\n', '호텔 델루나 (...</td>\n",
              "    </tr>\n",
              "    <tr>\n",
              "      <th>3</th>\n",
              "      <td>3</td>\n",
              "      <td>2.100601e+06</td>\n",
              "      <td>20190810</td>\n",
              "      <td>오승환 사진 연합 뉴스 돌부 처 오승환 정팀 삼성 라이온즈 유니폼 오승환 일 대구 ...</td>\n",
              "      <td>['\\n', '\\n', '\\n', '\\n', '\\n', '오승환/사진=연합뉴스', ...</td>\n",
              "    </tr>\n",
              "    <tr>\n",
              "      <th>4</th>\n",
              "      <td>4</td>\n",
              "      <td>2.100601e+06</td>\n",
              "      <td>20190810</td>\n",
              "      <td>호텔 델루 사진 방송 영상 캡처 여 진 구 개장 호텔 델루나 이지 일 오후 방송 호...</td>\n",
              "      <td>['\\n', '\\n', '\\n', '\\n', '\\n', '\\n', '호텔 델루나 (...</td>\n",
              "    </tr>\n",
              "  </tbody>\n",
              "</table>\n",
              "</div>"
            ],
            "text/plain": [
              "   index  ...                                                 본문\n",
              "0      0  ...  ['\\n', '\\n', '\\n', '\\n', '\\n', '가수 다나/사진=다나 인스...\n",
              "1      1  ...  ['\\n', '\\n', '\\n', '\\n', '\\n', '\\n', '왓쳐 (사진=방...\n",
              "2      2  ...  ['\\n', '\\n', '\\n', '\\n', '\\n', '\\n', '호텔 델루나 (...\n",
              "3      3  ...  ['\\n', '\\n', '\\n', '\\n', '\\n', '오승환/사진=연합뉴스', ...\n",
              "4      4  ...  ['\\n', '\\n', '\\n', '\\n', '\\n', '\\n', '호텔 델루나 (...\n",
              "\n",
              "[5 rows x 5 columns]"
            ]
          },
          "metadata": {
            "tags": []
          },
          "execution_count": 19
        }
      ]
    },
    {
      "cell_type": "code",
      "metadata": {
        "colab": {
          "base_uri": "https://localhost:8080/",
          "height": 103
        },
        "id": "8-kEKR5XSfnM",
        "outputId": "1ffd0961-dbdb-4734-e59b-9f5e5c05a507"
      },
      "source": [
        "df.iloc[9]['본문']"
      ],
      "execution_count": 20,
      "outputs": [
        {
          "output_type": "execute_result",
          "data": {
            "application/vnd.google.colaboratory.intrinsic+json": {
              "type": "string"
            },
            "text/plain": [
              "'[\\'\\\\n\\', \\'\\\\n\\', \\'\\\\n\\', \\'\\\\n\\', \\'\\\\n\\', \\'일본 DHC/사진=JTBC\\', \\'\\\\n\\', \\'\\\\n                        일본 유명 화장품업체인 DHC의 자회사인 방송국이 혐한 방송을 진행, 논란이 일고 있다.\\', \"JTBC는 10일 DHC의 자회사 \\'DHC텔레비선\\'의 한 프로그램에서 한국의 불매운동을 비하하고 역사왜곡 발언을 했다고 보도했다.\", \\'보도에 따르면 이 방송에 출연한 한 패널은 \"한국은 원래 금방 뜨거워지고 금방 식는 나라니까. 일본은 그냥 조용히 두고 봐야지\"라며 한국의 일본상품 불매운동을 비하했다.\\', \\'또 다른 패널은 \"\\\\\\'조센징\\\\\\'들은 한문을 썼는데 한문을 문자화시키지 못해서, 일본에서 만든 교과서로 한글을 배포했다. 일본인이 한글을 통일시켜서 지금의 한글이 됐다\"고 역사왜곡 발언을 했다.\\', \"더불어 인터넷을 기반으로 하는 \\'DHC텔레비전\\'은 단순한 자회사가 아니라 중간 중간 자사 화장품 광고도 내보내는 등 해당 브랜드와 밀접한 관련을 맺고 있다.\", \\'나아가 요시다 요시아키 DHC 회장은 과거 재일동포를 비하하거나 극우 정당을 지원했다는 논란 등으로 비판을 받기도 했다.\\', \\'김정호 한경닷컴 기자 newsinfo@hankyung.com\\\\n\\\\t\\\\t\\\\t\\\\t\\\\t\\\\t\\\\t\\\\t\\']'"
            ]
          },
          "metadata": {
            "tags": []
          },
          "execution_count": 20
        }
      ]
    },
    {
      "cell_type": "code",
      "metadata": {
        "id": "vvXMMABuKYUY"
      },
      "source": [
        "NUM_LABELS = 58"
      ],
      "execution_count": 28,
      "outputs": []
    },
    {
      "cell_type": "code",
      "metadata": {
        "id": "Hhund40pJsYQ"
      },
      "source": [
        "class BERTClassifier(nn.Module):\n",
        "    def __init__(self,\n",
        "                 bert,\n",
        "                 hidden_size = 768,\n",
        "                 num_classes=NUM_LABELS,\n",
        "                 dr_rate=None,\n",
        "                 params=None):\n",
        "        super(BERTClassifier, self).__init__()\n",
        "        self.bert = bert\n",
        "        self.dr_rate = dr_rate\n",
        "                 \n",
        "        self.classifier = nn.Linear(hidden_size , num_classes)\n",
        "        if dr_rate:\n",
        "            self.dropout = nn.Dropout(p=dr_rate)\n",
        "    \n",
        "    def gen_attention_mask(self, token_ids, valid_length):\n",
        "        attention_mask = torch.zeros_like(token_ids)\n",
        "        for i, v in enumerate(valid_length):\n",
        "            attention_mask[i][:v] = 1\n",
        "        return attention_mask.float()\n",
        "\n",
        "    def forward(self, token_ids, valid_length, segment_ids):\n",
        "        attention_mask = self.gen_attention_mask(token_ids, valid_length)\n",
        "        \n",
        "        _, pooler = self.bert(input_ids = token_ids, token_type_ids = segment_ids.long(), attention_mask = attention_mask.float().to(token_ids.device))\n",
        "        if self.dr_rate:\n",
        "            out = self.dropout(pooler)\n",
        "        return self.classifier(out)"
      ],
      "execution_count": 29,
      "outputs": []
    },
    {
      "cell_type": "code",
      "metadata": {
        "colab": {
          "base_uri": "https://localhost:8080/"
        },
        "id": "gNAqN-64LClr",
        "outputId": "7d7f62a9-681f-40d2-ce62-27d82b41698b"
      },
      "source": [
        "bertmodel, vocab = get_pytorch_kobert_model()"
      ],
      "execution_count": null,
      "outputs": [
        {
          "output_type": "stream",
          "text": [
            "[███████████████████████████████████████...........]"
          ],
          "name": "stdout"
        }
      ]
    },
    {
      "cell_type": "code",
      "metadata": {
        "id": "soafYN5XLDxZ"
      },
      "source": [
        "gpu_info = !nvidia-smi\n",
        "gpu_info = '\\n'.join(gpu_info)\n",
        "if gpu_info.find('failed') >= 0:\n",
        "  print('Select the Runtime > \"Change runtime type\" menu to enable a GPU accelerator, ')\n",
        "  print('and then re-execute this cell.')\n",
        "else:\n",
        "  print(gpu_info)"
      ],
      "execution_count": null,
      "outputs": []
    },
    {
      "cell_type": "code",
      "metadata": {
        "id": "eHL0prcjLGq5"
      },
      "source": [
        ""
      ],
      "execution_count": null,
      "outputs": []
    },
    {
      "cell_type": "code",
      "metadata": {
        "id": "ZJEf3uOVJsg5"
      },
      "source": [
        "model.cuda()\n",
        "model.load_state_dict(torch.load(PATH))\n",
        "model.eval()"
      ],
      "execution_count": null,
      "outputs": []
    },
    {
      "cell_type": "code",
      "metadata": {
        "id": "dd73WIRDJsjc"
      },
      "source": [
        ""
      ],
      "execution_count": null,
      "outputs": []
    },
    {
      "cell_type": "code",
      "metadata": {
        "id": "57I6HpKdJslx"
      },
      "source": [
        ""
      ],
      "execution_count": null,
      "outputs": []
    },
    {
      "cell_type": "code",
      "metadata": {
        "colab": {
          "base_uri": "https://localhost:8080/"
        },
        "id": "OIa5auOGSlqU",
        "outputId": "44676168-fbc9-44be-856e-77d8fb18a02a"
      },
      "source": [
        "!pip install textrankr"
      ],
      "execution_count": 31,
      "outputs": [
        {
          "output_type": "stream",
          "text": [
            "Collecting textrankr\n",
            "  Downloading https://files.pythonhosted.org/packages/bd/4b/c0b912ccce70b114dd6579195b1640b4ae3eca24278b03000a2115006fc2/textrankr-1.0-py3-none-any.whl\n",
            "Requirement already satisfied: networkx in /usr/local/lib/python3.6/dist-packages (from textrankr) (2.5)\n",
            "Requirement already satisfied: setuptools in /usr/local/lib/python3.6/dist-packages (from textrankr) (50.3.2)\n",
            "Requirement already satisfied: decorator>=4.3.0 in /usr/local/lib/python3.6/dist-packages (from networkx->textrankr) (4.4.2)\n",
            "Installing collected packages: textrankr\n",
            "Successfully installed textrankr-1.0\n"
          ],
          "name": "stdout"
        }
      ]
    },
    {
      "cell_type": "code",
      "metadata": {
        "id": "xX5AWCOLVHc4"
      },
      "source": [
        "your_text_here = '세계 각국의 ‘고부가가치’를 향한 경쟁이 치열하다. 무역 자체도 이미 부가가치 무역으로 탈바꿈한 상태다. 그만큼 공급망이 복잡해지고 기술과 지식이 중요해지는 세상이다. 그 속에서 한국 무역은 ‘세계 경제의 바로미터’로 인정받고 있다. 글로벌 공급망에 완전히 노출돼 있고, 이미 높은 부가가치 제품을 수출하는 국가에 속한다. 하지만 좀 더 큰 부가가치를 올리기 위해 다른 나라들과 치열하게 경쟁하고 있다. 4차 산업혁명과 바이오 등 무궁무진한 분야의 주도권을 쥐기 위한 레이스다. 이 와중에 일본의 반도체 수출규제란 걸림돌이 생겼다. 한국 부가가치 수출의 현주소와 전망 등을 짚어본다.', '지난달 발간된 일본 경제산업성의 통상백서는 아세안(동남아국가연합) 국가들의 전자기기와 부품 수요를 한국에 빼앗길 가능성에 대해 언급했다. 일본의 장래 시장으로 여겼던 아세안에서 한국 등에 선수를 빼앗길까 노심초사하는 모습이 역력하다. 그 이면에는 글로벌 가치사슬에 따른 고부가가치 품목의 수출이 자리 잡고 있다. 백서는 한국 제조업 생산에서 차지하는 수출품의 부가가치 비중이 2005년 19.2%, 2015년엔 22.4%나 된다고 지적했다. 일본의 16.1%(2015년)보다 훨씬 높다는 점을 내비치고 있다.', '갈수록 무역에서 부가가치가 중요해지고 있다. 애플이 제조하는 스마트폰인 아이폰에서 중국의 노동력이 차지하는 비중은 1.8%에 불과하다는 통계도 있다. 한국 기업을 포함한 수백 개 기업이 아이폰 제조에 참여하면서 부가가치를 창출해낸다. 물론 높은 부가가치는 지식집약과 자본집약의 산물이다. 자동차도 그렇고 반도체도 그렇다. 높은 부가가치를 창출하는 품목과 산업의 주도권을 누가 쥐느냐에 세계 무역의 향방이 결정된다. 세계 기업들은 그런 방향에 맞춰 얽히고설켜 있다. 글로벌 가치사슬(GVC) 생태계다. 경제협력개발기구(OECD)는 각국의 무역 금액 외에 부가가치무역(TiVA) 통계를 따로 내고 있다.\\n ', '\\n', '\\n', '\\n', '\\n', '\\n', '\\n', '\\n', '반도체·정밀기계 부가가치화 주도', '이런 부가가치 무역에서 한국의 위상은 높아지고 있다. 당장 세계 무역에서 가장 중요한 중국에서 그렇다. OECD 자료에 따르면 중국이 수출하는 제품에 들어가는 중간재의 연간 부가가치는 한국이 426억달러(2.2%)로 1위다. 일본의 346억달러에 비해 80억달러 많다. 반도체나 정밀기계 화학제품 등 각종 부품과 소재가 중국으로 수출되고 있다. 중국은 이들을 받아 완제품으로 만들어 미국과 유럽에 수출한다. 이런 제품들은 자본집약적이고 지식집약적이다.', '불과 20년 전만 하더라도 고부가가치 무역은 어려운 과제였다. 오히려 일본에서 첨단소재와 부품을 들여와 수출 제품을 만들었다. 일본 닛세이기초연구소 자료에 따르면 한국의 전자부품과 통신기기에서 차지하는 일본 부품의 부가가치는 1995년 기준 20%를 넘는 게 수두룩하다. 지금은 모든 품목의 일본 부가가치 평균이 5%에도 못 미친다. 자동차 부품은 이미 일본과 경합구도를 만들어내고 있으며 전자 부품 또한 많이 줄어들고 있다. 그만큼 부품의 국산화가 이뤄졌거나 다른 국가 제품으로 방향을 틀었다.', '물론 한국 부가가치 품목 수출에서 중국의 성장을 빼놓을 수 없다. ‘세계의 공장’ 중국은 풍부한 노동력을 바탕으로 세계의 제조 기업들을 불러들였다. 제품을 만들기 위한 각종 기자재, 부품, 원료 등을 가까운 한국에서 찾았다. 가격경쟁력이나 품질경쟁력이 있었기 때문에 가능한 일이었다. 디지털도 한몫했다. 한국에서 디지털 기기의 급속한 보급은 노동력 절감과 생산성 향상으로 이어졌다. 원가 경쟁력이 충분히 생겼다. 도표에 따르면 부가가치를 높이는 산업용 로봇 활용 비중에서 한국이 월등하다. 독일조차 한국의 절반이다.', '고부가가치화를 향한 선택과 집중 전략을 택하고 자급보다 글로벌화에 기울였던 기업 전략이 먹혀든 것이다. 국내 기업들은 전 세계 시장 개척에 나섰고 세계 1등 제품을 모색했다. 그렇게 해서 반도체 디스플레이 등 세계 1등 부품과 제품이 탄생했다.', '외국에선 중국의 사드(고고도 미사일방어체계) 보복 사태에서 한국 기업들의 발 빠른 움직임을 눈여겨본다. 사드 사태가 터진 이후 한국 기업들은 기민하게 중국에 치우쳤던 생산 거점을 분산시켰다. 그만큼 한국 기업의 위기 대응능력이 뛰어나다는 것이다.', '지금 세계 무역의 퇴조가 확연하다. 네덜란드의 세계무역국 자료에 따르면 지난 5월 세계 무역량은 전년 동기 대비 0.4% 줄어들었다. 독일과 일본도 감소했으며 한국 또한 줄었다. 한국의 7월 수출은 전년 동기 대비 11% 감소했다. 한국의 부가가치 품목 수출도 떨어지고 있다.', '자동차 부품은 일본과 경합', '한국에서 반도체 수출이 감소하면 주변국도 타격을 받는다. 일본의 반도체 제조장치와 주변부품 수요가 줄어든다. 시진핑 중국 국가주석은 이런 때 자력갱생을 외치고 중국 내 자급경제를 독촉하고 있다. 자칫 한국의 대중 수출에 큰 영향을 받을 수 있다. 하지만 이런 위기일수록 기회가 마련된다는 주장도 있다. 일본의 한 전문가는 중국 시장에 대한 미국 기업의 경쟁력 저하가 한국 기업에 이득이 될 것이라고 본다.', '산업통상자원부도 최근 내놓은 보고서에서 “미·중 무역분쟁 속에 중국의 부품·소재산업 자급률 향상이 한국에 위기이자 기회가 되고 있다”고 전제한다. 보고서는 이어 “중국은 한국의 대(對)중국 주력 수출제품인 철강, 석유화학에서 이미 자급 생산체제를 갖췄다고 평가되며, 이제는 반도체의 자급 준비도 착착 진행하고 있다”며 “그동안 중국에 중간재를 공급하던 한국, 일본, 대만과 중국 간의 분업 협력구조가 깨지면서 무한 경쟁에 직면할 것으로 보인다”고 내다봤다.', '보고서는 중국의 부품 자급률이 높아질 때일수록 한국이 소재와 장비를 공급하는 망을 형성해야 한다고 주장한다. 우리의 조립·부품산업이 일본의 소재·장비를 공급받아 성장했듯이 우리도 중국에 대해 일본과 같은 역할을 할 수 있어야 한다는 것이다.', '한·일·중·대만 지역협력 깨질 듯', '한·일 마찰도 마찬가지다. 일본 정부가 반도체 재료를 수출 규제한다면 가치사슬 체계는 달라지고 부가가치 시스템도 흔들린다. 이럴 때일수록 새로운 공급망을 만들거나 보다 나은 소재를 개발할 수도 있다. 이들 모두 기업이 할 수 있고 해야 할 몫이다.', '더욱 중요한 문제는 미래를 향한 부가가치를 누가 확보하느냐에 달려 있다. 산업부 보고서에도 “전기자동차, 스마트와 같은 신산업은 아직 권역별 가치사슬이 형성돼 있지 않다”며 “새롭게 형성되는 가치사슬을 우리가 주도할 수 있는 기회를 잡아야 한다”고 밝히고 있다.', '최근 일본 정부와 재계 언론은 하나같이 ‘디지털’을 외치고 있다. 디지털 지체로 생긴 한국과의 부가가치 열위를 만회하겠다고 읽힌다. 새로운 가치사슬과 부가가치를 향해 애쓰는 노력이 엿보인다. 일본의 수출규제로 촉발된 부품 소재 국산화도 나름 의미 있고 필요한 일이다. 하지만 일본보다 부가가치를 높일 수 있는 5G 등 지식집약적인 4차 산업에 매진하는 것이 더 필요할지 모른다.'"
      ],
      "execution_count": 41,
      "outputs": []
    },
    {
      "cell_type": "code",
      "metadata": {
        "colab": {
          "base_uri": "https://localhost:8080/"
        },
        "id": "DjXJIIxvV9e2",
        "outputId": "1119c776-ea43-4d6f-c4c4-75930453f8fb"
      },
      "source": [
        "!pip install konlpy"
      ],
      "execution_count": 36,
      "outputs": [
        {
          "output_type": "stream",
          "text": [
            "Collecting konlpy\n",
            "\u001b[?25l  Downloading https://files.pythonhosted.org/packages/85/0e/f385566fec837c0b83f216b2da65db9997b35dd675e107752005b7d392b1/konlpy-0.5.2-py2.py3-none-any.whl (19.4MB)\n",
            "\u001b[K     |████████████████████████████████| 19.4MB 30.6MB/s \n",
            "\u001b[?25hCollecting beautifulsoup4==4.6.0\n",
            "\u001b[?25l  Downloading https://files.pythonhosted.org/packages/9e/d4/10f46e5cfac773e22707237bfcd51bbffeaf0a576b0a847ec7ab15bd7ace/beautifulsoup4-4.6.0-py3-none-any.whl (86kB)\n",
            "\u001b[K     |████████████████████████████████| 92kB 10.2MB/s \n",
            "\u001b[?25hRequirement already satisfied: lxml>=4.1.0 in /usr/local/lib/python3.6/dist-packages (from konlpy) (4.2.6)\n",
            "Requirement already satisfied: numpy>=1.6 in /usr/local/lib/python3.6/dist-packages (from konlpy) (1.18.5)\n",
            "Collecting JPype1>=0.7.0\n",
            "\u001b[?25l  Downloading https://files.pythonhosted.org/packages/b7/21/9e2c0dbf9df856e6392a1aec1d18006c60b175aa4e31d351e8278a8a63c0/JPype1-1.2.0-cp36-cp36m-manylinux2010_x86_64.whl (453kB)\n",
            "\u001b[K     |████████████████████████████████| 460kB 42.3MB/s \n",
            "\u001b[?25hCollecting tweepy>=3.7.0\n",
            "  Downloading https://files.pythonhosted.org/packages/bb/7c/99d51f80f3b77b107ebae2634108717362c059a41384a1810d13e2429a81/tweepy-3.9.0-py2.py3-none-any.whl\n",
            "Collecting colorama\n",
            "  Downloading https://files.pythonhosted.org/packages/44/98/5b86278fbbf250d239ae0ecb724f8572af1c91f4a11edf4d36a206189440/colorama-0.4.4-py2.py3-none-any.whl\n",
            "Requirement already satisfied: typing-extensions; python_version < \"3.8\" in /usr/local/lib/python3.6/dist-packages (from JPype1>=0.7.0->konlpy) (3.7.4.3)\n",
            "Requirement already satisfied: requests-oauthlib>=0.7.0 in /usr/local/lib/python3.6/dist-packages (from tweepy>=3.7.0->konlpy) (1.3.0)\n",
            "Requirement already satisfied: six>=1.10.0 in /usr/local/lib/python3.6/dist-packages (from tweepy>=3.7.0->konlpy) (1.15.0)\n",
            "Requirement already satisfied: requests[socks]>=2.11.1 in /usr/local/lib/python3.6/dist-packages (from tweepy>=3.7.0->konlpy) (2.23.0)\n",
            "Requirement already satisfied: oauthlib>=3.0.0 in /usr/local/lib/python3.6/dist-packages (from requests-oauthlib>=0.7.0->tweepy>=3.7.0->konlpy) (3.1.0)\n",
            "Requirement already satisfied: idna<3,>=2.5 in /usr/local/lib/python3.6/dist-packages (from requests[socks]>=2.11.1->tweepy>=3.7.0->konlpy) (2.10)\n",
            "Requirement already satisfied: certifi>=2017.4.17 in /usr/local/lib/python3.6/dist-packages (from requests[socks]>=2.11.1->tweepy>=3.7.0->konlpy) (2020.12.5)\n",
            "Requirement already satisfied: urllib3!=1.25.0,!=1.25.1,<1.26,>=1.21.1 in /usr/local/lib/python3.6/dist-packages (from requests[socks]>=2.11.1->tweepy>=3.7.0->konlpy) (1.24.3)\n",
            "Requirement already satisfied: chardet<4,>=3.0.2 in /usr/local/lib/python3.6/dist-packages (from requests[socks]>=2.11.1->tweepy>=3.7.0->konlpy) (3.0.4)\n",
            "Requirement already satisfied: PySocks!=1.5.7,>=1.5.6; extra == \"socks\" in /usr/local/lib/python3.6/dist-packages (from requests[socks]>=2.11.1->tweepy>=3.7.0->konlpy) (1.7.1)\n",
            "Installing collected packages: beautifulsoup4, JPype1, tweepy, colorama, konlpy\n",
            "  Found existing installation: beautifulsoup4 4.6.3\n",
            "    Uninstalling beautifulsoup4-4.6.3:\n",
            "      Successfully uninstalled beautifulsoup4-4.6.3\n",
            "  Found existing installation: tweepy 3.6.0\n",
            "    Uninstalling tweepy-3.6.0:\n",
            "      Successfully uninstalled tweepy-3.6.0\n",
            "Successfully installed JPype1-1.2.0 beautifulsoup4-4.6.0 colorama-0.4.4 konlpy-0.5.2 tweepy-3.9.0\n"
          ],
          "name": "stdout"
        }
      ]
    },
    {
      "cell_type": "code",
      "metadata": {
        "id": "BZMqypsGV8B3"
      },
      "source": [
        "from typing import List\n",
        "from konlpy.tag import Okt\n",
        "\n",
        "class OktTokenizer:\n",
        "    okt: Okt = Okt()\n",
        "\n",
        "    def __call__(self, text: str) -> List[str]:\n",
        "        tokens: List[str] = self.okt.phrases(text)\n",
        "        return tokens"
      ],
      "execution_count": 37,
      "outputs": []
    },
    {
      "cell_type": "code",
      "metadata": {
        "colab": {
          "base_uri": "https://localhost:8080/"
        },
        "id": "5l50sQ5MU_qX",
        "outputId": "a988a873-c866-463d-d03e-0edf78506214"
      },
      "source": [
        "from typing import List\n",
        "from textrankr import TextRank\n",
        "\n",
        "mytokenizer: OktTokenizer = OktTokenizer()\n",
        "textrank: TextRank = TextRank(mytokenizer)\n",
        "\n",
        "k: int = 3  # num sentences in the resulting summary\n",
        "\n",
        "summarized: str = textrank.summarize(str(your_text_here), k)\n",
        "print(summarized)\n",
        "\n",
        "# if verbose=False, it returns a list\n",
        "summaries: List[str] = textrank.summarize(str(your_text_here), k, verbose=False)\n",
        "for summary in summaries:\n",
        "    print(summary)"
      ],
      "execution_count": 48,
      "outputs": [
        {
          "output_type": "stream",
          "text": [
            "', '물론 한국 부가가치 품목 수출에서 중국의 성장을 빼놓을 수 없다\n",
            "한국의 부가가치 품목 수출도 떨어지고 있다\n",
            "', '자동차 부품은 일본과 경합', '한국에서 반도체 수출이 감소하면 주변국도 타격을 받는다\n",
            "', '물론 한국 부가가치 품목 수출에서 중국의 성장을 빼놓을 수 없다\n",
            "한국의 부가가치 품목 수출도 떨어지고 있다\n",
            "', '자동차 부품은 일본과 경합', '한국에서 반도체 수출이 감소하면 주변국도 타격을 받는다\n"
          ],
          "name": "stdout"
        }
      ]
    },
    {
      "cell_type": "code",
      "metadata": {
        "colab": {
          "base_uri": "https://localhost:8080/",
          "height": 963
        },
        "id": "xsZPPPIxViff",
        "outputId": "74c7c370-40e4-4341-fbb4-a6023c848cab"
      },
      "source": [
        "pd.read_csv('/content/NewsResult_20190811-20190820 (1).csv')"
      ],
      "execution_count": 32,
      "outputs": [
        {
          "output_type": "execute_result",
          "data": {
            "text/html": [
              "<div>\n",
              "<style scoped>\n",
              "    .dataframe tbody tr th:only-of-type {\n",
              "        vertical-align: middle;\n",
              "    }\n",
              "\n",
              "    .dataframe tbody tr th {\n",
              "        vertical-align: top;\n",
              "    }\n",
              "\n",
              "    .dataframe thead th {\n",
              "        text-align: right;\n",
              "    }\n",
              "</style>\n",
              "<table border=\"1\" class=\"dataframe\">\n",
              "  <thead>\n",
              "    <tr style=\"text-align: right;\">\n",
              "      <th></th>\n",
              "      <th>0</th>\n",
              "      <th>2100601.2019082</th>\n",
              "      <th>20190820</th>\n",
              "      <th>['\\n', '\\n', '\\n', '\\n', '\\n', '\\n', '\\n                            세계 각국의 ‘고부가가치’를 향한 경쟁이 치열하다. 무역 자체도 이미 부가가치 무역으로 탈바꿈한 상태다. 그만큼 공급망이 복잡해지고 기술과 지식이 중요해지는 세상이다. 그 속에서 한국 무역은 ‘세계 경제의 바로미터’로 인정받고 있다. 글로벌 공급망에 완전히 노출돼 있고, 이미 높은 부가가치 제품을 수출하는 국가에 속한다. 하지만 좀 더 큰 부가가치를 올리기 위해 다른 나라들과 치열하게 경쟁하고 있다. 4차 산업혁명과 바이오 등 무궁무진한 분야의 주도권을 쥐기 위한 레이스다. 이 와중에 일본의 반도체 수출규제란 걸림돌이 생겼다. 한국 부가가치 수출의 현주소와 전망 등을 짚어본다.', '지난달 발간된 일본 경제산업성의 통상백서는 아세안(동남아국가연합) 국가들의 전자기기와 부품 수요를 한국에 빼앗길 가능성에 대해 언급했다. 일본의 장래 시장으로 여겼던 아세안에서 한국 등에 선수를 빼앗길까 노심초사하는 모습이 역력하다. 그 이면에는 글로벌 가치사슬에 따른 고부가가치 품목의 수출이 자리 잡고 있다. 백서는 한국 제조업 생산에서 차지하는 수출품의 부가가치 비중이 2005년 19.2%, 2015년엔 22.4%나 된다고 지적했다. 일본의 16.1%(2015년)보다 훨씬 높다는 점을 내비치고 있다.', '갈수록 무역에서 부가가치가 중요해지고 있다. 애플이 제조하는 스마트폰인 아이폰에서 중국의 노동력이 차지하는 비중은 1.8%에 불과하다는 통계도 있다. 한국 기업을 포함한 수백 개 기업이 아이폰 제조에 참여하면서 부가가치를 창출해낸다. 물론 높은 부가가치는 지식집약과 자본집약의 산물이다. 자동차도 그렇고 반도체도 그렇다. 높은 부가가치를 창출하는 품목과 산업의 주도권을 누가 쥐느냐에 세계 무역의 향방이 결정된다. 세계 기업들은 그런 방향에 맞춰 얽히고설켜 있다. 글로벌 가치사슬(GVC) 생태계다. 경제협력개발기구(OECD)는 각국의 무역 금액 외에 부가가치무역(TiVA) 통계를 따로 내고 있다.\\n                            ', '\\n', '\\n', '\\n', '\\n', '\\n', '\\n', '\\n', '반도체·정밀기계 부가가치화 주도', '이런 부가가치 무역에서 한국의 위상은 높아지고 있다. 당장 세계 무역에서 가장 중요한 중국에서 그렇다. OECD 자료에 따르면 중국이 수출하는 제품에 들어가는 중간재의 연간 부가가치는 한국이 426억달러(2.2%)로 1위다. 일본의 346억달러에 비해 80억달러 많다. 반도체나 정밀기계 화학제품 등 각종 부품과 소재가 중국으로 수출되고 있다. 중국은 이들을 받아 완제품으로 만들어 미국과 유럽에 수출한다. 이런 제품들은 자본집약적이고 지식집약적이다.', '불과 20년 전만 하더라도 고부가가치 무역은 어려운 과제였다. 오히려 일본에서 첨단소재와 부품을 들여와 수출 제품을 만들었다. 일본 닛세이기초연구소 자료에 따르면 한국의 전자부품과 통신기기에서 차지하는 일본 부품의 부가가치는 1995년 기준 20%를 넘는 게 수두룩하다. 지금은 모든 품목의 일본 부가가치 평균이 5%에도 못 미친다. 자동차 부품은 이미 일본과 경합구도를 만들어내고 있으며 전자 부품 또한 많이 줄어들고 있다. 그만큼 부품의 국산화가 이뤄졌거나 다른 국가 제품으로 방향을 틀었다.', '물론 한국 부가가치 품목 수출에서 중국의 성장을 빼놓을 수 없다. ‘세계의 공장’ 중국은 풍부한 노동력을 바탕으로 세계의 제조 기업들을 불러들였다. 제품을 만들기 위한 각종 기자재, 부품, 원료 등을 가까운 한국에서 찾았다. 가격경쟁력이나 품질경쟁력이 있었기 때문에 가능한 일이었다. 디지털도 한몫했다. 한국에서 디지털 기기의 급속한 보급은 노동력 절감과 생산성 향상으로 이어졌다. 원가 경쟁력이 충분히 생겼다. 도표에 따르면 부가가치를 높이는 산업용 로봇 활용 비중에서 한국이 월등하다. 독일조차 한국의 절반이다.', '고부가가치화를 향한 선택과 집중 전략을 택하고 자급보다 글로벌화에 기울였던 기업 전략이 먹혀든 것이다. 국내 기업들은 전 세계 시장 개척에 나섰고 세계 1등 제품을 모색했다. 그렇게 해서 반도체 디스플레이 등 세계 1등 부품과 제품이 탄생했다.', '외국에선 중국의 사드(고고도 미사일방어체계) 보복 사태에서 한국 기업들의 발 빠른 움직임을 눈여겨본다. 사드 사태가 터진 이후 한국 기업들은 기민하게 중국에 치우쳤던 생산 거점을 분산시켰다. 그만큼 한국 기업의 위기 대응능력이 뛰어나다는 것이다.', '지금 세계 무역의 퇴조가 확연하다. 네덜란드의 세계무역국 자료에 따르면 지난 5월 세계 무역량은 전년 동기 대비 0.4% 줄어들었다. 독일과 일본도 감소했으며 한국 또한 줄었다. 한국의 7월 수출은 전년 동기 대비 11% 감소했다. 한국의 부가가치 품목 수출도 떨어지고 있다.', '자동차 부품은 일본과 경합', '한국에서 반도체 수출이 감소하면 주변국도 타격을 받는다. 일본의 반도체 제조장치와 주변부품 수요가 줄어든다. 시진핑 중국 국가주석은 이런 때 자력갱생을 외치고 중국 내 자급경제를 독촉하고 있다. 자칫 한국의 대중 수출에 큰 영향을 받을 수 있다. 하지만 이런 위기일수록 기회가 마련된다는 주장도 있다. 일본의 한 전문가는 중국 시장에 대한 미국 기업의 경쟁력 저하가 한국 기업에 이득이 될 것이라고 본다.', '산업통상자원부도 최근 내놓은 보고서에서 “미·중 무역분쟁 속에 중국의 부품·소재산업 자급률 향상이 한국에 위기이자 기회가 되고 있다”고 전제한다. 보고서는 이어 “중국은 한국의 대(對)중국 주력 수출제품인 철강, 석유화학에서 이미 자급 생산체제를 갖췄다고 평가되며, 이제는 반도체의 자급 준비도 착착 진행하고 있다”며 “그동안 중국에 중간재를 공급하던 한국, 일본, 대만과 중국 간의 분업 협력구조가 깨지면서 무한 경쟁에 직면할 것으로 보인다”고 내다봤다.', '보고서는 중국의 부품 자급률이 높아질 때일수록 한국이 소재와 장비를 공급하는 망을 형성해야 한다고 주장한다. 우리의 조립·부품산업이 일본의 소재·장비를 공급받아 성장했듯이 우리도 중국에 대해 일본과 같은 역할을 할 수 있어야 한다는 것이다.', '한·일·중·대만 지역협력 깨질 듯', '한·일 마찰도 마찬가지다. 일본 정부가 반도체 재료를 수출 규제한다면 가치사슬 체계는 달라지고 부가가치 시스템도 흔들린다. 이럴 때일수록 새로운 공급망을 만들거나 보다 나은 소재를 개발할 수도 있다. 이들 모두 기업이 할 수 있고 해야 할 몫이다.', '더욱 중요한 문제는 미래를 향한 부가가치를 누가 확보하느냐에 달려 있다. 산업부 보고서에도 “전기자동차, 스마트와 같은 신산업은 아직 권역별 가치사슬이 형성돼 있지 않다”며 “새롭게 형성되는 가치사슬을 우리가 주도할 수 있는 기회를 잡아야 한다”고 밝히고 있다.', '최근 일본 정부와 재계 언론은 하나같이 ‘디지털’을 외치고 있다. 디지털 지체로 생긴 한국과의 부가가치 열위를 만회하겠다고 읽힌다. 새로운 가치사슬과 부가가치를 향해 애쓰는 노력이 엿보인다. 일본의 수출규제로 촉발된 부품 소재 국산화도 나름 의미 있고 필요한 일이다. 하지만 일본보다 부가가치를 높일 수 있는 5G 등 지식집약적인 4차 산업에 매진하는 것이 더 필요할지 모른다.', 'ohchoon@hankyung.com\\n\\t\\t\\t\\t\\t\\t\\t\\t']</th>\n",
              "    </tr>\n",
              "  </thead>\n",
              "  <tbody>\n",
              "    <tr>\n",
              "      <th>0</th>\n",
              "      <td>1</td>\n",
              "      <td>2.100601e+06</td>\n",
              "      <td>20190820</td>\n",
              "      <td>['\\n', '\\n', '\\n', '\\n', '\\n', '\\n', '\\n      ...</td>\n",
              "    </tr>\n",
              "    <tr>\n",
              "      <th>1</th>\n",
              "      <td>2</td>\n",
              "      <td>2.100601e+06</td>\n",
              "      <td>20190820</td>\n",
              "      <td>['\\n', '\\n', '\\n', '\\n', '\\n', '\\n', '\\n      ...</td>\n",
              "    </tr>\n",
              "    <tr>\n",
              "      <th>2</th>\n",
              "      <td>3</td>\n",
              "      <td>2.100601e+06</td>\n",
              "      <td>20190820</td>\n",
              "      <td>['\\n', '\\n', '\\n', '\\n', '\\n', '\\n', '\\n      ...</td>\n",
              "    </tr>\n",
              "    <tr>\n",
              "      <th>3</th>\n",
              "      <td>4</td>\n",
              "      <td>2.100601e+06</td>\n",
              "      <td>20190820</td>\n",
              "      <td>['\\n\\t\\t\\t\\t\\t\\t\\t\\t정부가 어제 국무회의를 열고 ‘사회적 기업 육성...</td>\n",
              "    </tr>\n",
              "    <tr>\n",
              "      <th>4</th>\n",
              "      <td>5</td>\n",
              "      <td>2.100601e+06</td>\n",
              "      <td>20190820</td>\n",
              "      <td>['\\n\\t\\t\\t\\t\\t\\t\\t\\t정부가 조만간 확정할 예정인 ‘2020년 예산안...</td>\n",
              "    </tr>\n",
              "    <tr>\n",
              "      <th>...</th>\n",
              "      <td>...</td>\n",
              "      <td>...</td>\n",
              "      <td>...</td>\n",
              "      <td>...</td>\n",
              "    </tr>\n",
              "    <tr>\n",
              "      <th>1115</th>\n",
              "      <td>1116</td>\n",
              "      <td>2.100601e+06</td>\n",
              "      <td>20190819</td>\n",
              "      <td>['\\n\\t\\t\\t\\t\\t\\t\\t\\t청룡기 전국고교야구대회 우승 6회, 황금사자기 ...</td>\n",
              "    </tr>\n",
              "    <tr>\n",
              "      <th>1116</th>\n",
              "      <td>1117</td>\n",
              "      <td>2.100601e+06</td>\n",
              "      <td>20190819</td>\n",
              "      <td>['\\n', '\\n', '\\n', '\\n', '\\n', \"BIFF '올해의 배우상'...</td>\n",
              "    </tr>\n",
              "    <tr>\n",
              "      <th>1117</th>\n",
              "      <td>1118</td>\n",
              "      <td>2.100601e+06</td>\n",
              "      <td>20190819</td>\n",
              "      <td>['\\n', '서플러스글로벌', '(2,960 -1.99%)', '이 이 회사가 구...</td>\n",
              "    </tr>\n",
              "    <tr>\n",
              "      <th>1118</th>\n",
              "      <td>1119</td>\n",
              "      <td>2.100601e+06</td>\n",
              "      <td>20190819</td>\n",
              "      <td>['\\n', '\\n', '\\n', '\\n', '\\n', '[리얼미터 제공]', '\\...</td>\n",
              "    </tr>\n",
              "    <tr>\n",
              "      <th>1119</th>\n",
              "      <td>1120</td>\n",
              "      <td>2.100601e+06</td>\n",
              "      <td>20190819</td>\n",
              "      <td>['\\n', '\\n', '\\n', '\\n', '\\n', '최대훈 손예진 / 사진 =...</td>\n",
              "    </tr>\n",
              "  </tbody>\n",
              "</table>\n",
              "<p>1120 rows × 4 columns</p>\n",
              "</div>"
            ],
            "text/plain": [
              "         0  ...  ['\\n', '\\n', '\\n', '\\n', '\\n', '\\n', '\\n                            세계 각국의 ‘고부가가치’를 향한 경쟁이 치열하다. 무역 자체도 이미 부가가치 무역으로 탈바꿈한 상태다. 그만큼 공급망이 복잡해지고 기술과 지식이 중요해지는 세상이다. 그 속에서 한국 무역은 ‘세계 경제의 바로미터’로 인정받고 있다. 글로벌 공급망에 완전히 노출돼 있고, 이미 높은 부가가치 제품을 수출하는 국가에 속한다. 하지만 좀 더 큰 부가가치를 올리기 위해 다른 나라들과 치열하게 경쟁하고 있다. 4차 산업혁명과 바이오 등 무궁무진한 분야의 주도권을 쥐기 위한 레이스다. 이 와중에 일본의 반도체 수출규제란 걸림돌이 생겼다. 한국 부가가치 수출의 현주소와 전망 등을 짚어본다.', '지난달 발간된 일본 경제산업성의 통상백서는 아세안(동남아국가연합) 국가들의 전자기기와 부품 수요를 한국에 빼앗길 가능성에 대해 언급했다. 일본의 장래 시장으로 여겼던 아세안에서 한국 등에 선수를 빼앗길까 노심초사하는 모습이 역력하다. 그 이면에는 글로벌 가치사슬에 따른 고부가가치 품목의 수출이 자리 잡고 있다. 백서는 한국 제조업 생산에서 차지하는 수출품의 부가가치 비중이 2005년 19.2%, 2015년엔 22.4%나 된다고 지적했다. 일본의 16.1%(2015년)보다 훨씬 높다는 점을 내비치고 있다.', '갈수록 무역에서 부가가치가 중요해지고 있다. 애플이 제조하는 스마트폰인 아이폰에서 중국의 노동력이 차지하는 비중은 1.8%에 불과하다는 통계도 있다. 한국 기업을 포함한 수백 개 기업이 아이폰 제조에 참여하면서 부가가치를 창출해낸다. 물론 높은 부가가치는 지식집약과 자본집약의 산물이다. 자동차도 그렇고 반도체도 그렇다. 높은 부가가치를 창출하는 품목과 산업의 주도권을 누가 쥐느냐에 세계 무역의 향방이 결정된다. 세계 기업들은 그런 방향에 맞춰 얽히고설켜 있다. 글로벌 가치사슬(GVC) 생태계다. 경제협력개발기구(OECD)는 각국의 무역 금액 외에 부가가치무역(TiVA) 통계를 따로 내고 있다.\\n                            ', '\\n', '\\n', '\\n', '\\n', '\\n', '\\n', '\\n', '반도체·정밀기계 부가가치화 주도', '이런 부가가치 무역에서 한국의 위상은 높아지고 있다. 당장 세계 무역에서 가장 중요한 중국에서 그렇다. OECD 자료에 따르면 중국이 수출하는 제품에 들어가는 중간재의 연간 부가가치는 한국이 426억달러(2.2%)로 1위다. 일본의 346억달러에 비해 80억달러 많다. 반도체나 정밀기계 화학제품 등 각종 부품과 소재가 중국으로 수출되고 있다. 중국은 이들을 받아 완제품으로 만들어 미국과 유럽에 수출한다. 이런 제품들은 자본집약적이고 지식집약적이다.', '불과 20년 전만 하더라도 고부가가치 무역은 어려운 과제였다. 오히려 일본에서 첨단소재와 부품을 들여와 수출 제품을 만들었다. 일본 닛세이기초연구소 자료에 따르면 한국의 전자부품과 통신기기에서 차지하는 일본 부품의 부가가치는 1995년 기준 20%를 넘는 게 수두룩하다. 지금은 모든 품목의 일본 부가가치 평균이 5%에도 못 미친다. 자동차 부품은 이미 일본과 경합구도를 만들어내고 있으며 전자 부품 또한 많이 줄어들고 있다. 그만큼 부품의 국산화가 이뤄졌거나 다른 국가 제품으로 방향을 틀었다.', '물론 한국 부가가치 품목 수출에서 중국의 성장을 빼놓을 수 없다. ‘세계의 공장’ 중국은 풍부한 노동력을 바탕으로 세계의 제조 기업들을 불러들였다. 제품을 만들기 위한 각종 기자재, 부품, 원료 등을 가까운 한국에서 찾았다. 가격경쟁력이나 품질경쟁력이 있었기 때문에 가능한 일이었다. 디지털도 한몫했다. 한국에서 디지털 기기의 급속한 보급은 노동력 절감과 생산성 향상으로 이어졌다. 원가 경쟁력이 충분히 생겼다. 도표에 따르면 부가가치를 높이는 산업용 로봇 활용 비중에서 한국이 월등하다. 독일조차 한국의 절반이다.', '고부가가치화를 향한 선택과 집중 전략을 택하고 자급보다 글로벌화에 기울였던 기업 전략이 먹혀든 것이다. 국내 기업들은 전 세계 시장 개척에 나섰고 세계 1등 제품을 모색했다. 그렇게 해서 반도체 디스플레이 등 세계 1등 부품과 제품이 탄생했다.', '외국에선 중국의 사드(고고도 미사일방어체계) 보복 사태에서 한국 기업들의 발 빠른 움직임을 눈여겨본다. 사드 사태가 터진 이후 한국 기업들은 기민하게 중국에 치우쳤던 생산 거점을 분산시켰다. 그만큼 한국 기업의 위기 대응능력이 뛰어나다는 것이다.', '지금 세계 무역의 퇴조가 확연하다. 네덜란드의 세계무역국 자료에 따르면 지난 5월 세계 무역량은 전년 동기 대비 0.4% 줄어들었다. 독일과 일본도 감소했으며 한국 또한 줄었다. 한국의 7월 수출은 전년 동기 대비 11% 감소했다. 한국의 부가가치 품목 수출도 떨어지고 있다.', '자동차 부품은 일본과 경합', '한국에서 반도체 수출이 감소하면 주변국도 타격을 받는다. 일본의 반도체 제조장치와 주변부품 수요가 줄어든다. 시진핑 중국 국가주석은 이런 때 자력갱생을 외치고 중국 내 자급경제를 독촉하고 있다. 자칫 한국의 대중 수출에 큰 영향을 받을 수 있다. 하지만 이런 위기일수록 기회가 마련된다는 주장도 있다. 일본의 한 전문가는 중국 시장에 대한 미국 기업의 경쟁력 저하가 한국 기업에 이득이 될 것이라고 본다.', '산업통상자원부도 최근 내놓은 보고서에서 “미·중 무역분쟁 속에 중국의 부품·소재산업 자급률 향상이 한국에 위기이자 기회가 되고 있다”고 전제한다. 보고서는 이어 “중국은 한국의 대(對)중국 주력 수출제품인 철강, 석유화학에서 이미 자급 생산체제를 갖췄다고 평가되며, 이제는 반도체의 자급 준비도 착착 진행하고 있다”며 “그동안 중국에 중간재를 공급하던 한국, 일본, 대만과 중국 간의 분업 협력구조가 깨지면서 무한 경쟁에 직면할 것으로 보인다”고 내다봤다.', '보고서는 중국의 부품 자급률이 높아질 때일수록 한국이 소재와 장비를 공급하는 망을 형성해야 한다고 주장한다. 우리의 조립·부품산업이 일본의 소재·장비를 공급받아 성장했듯이 우리도 중국에 대해 일본과 같은 역할을 할 수 있어야 한다는 것이다.', '한·일·중·대만 지역협력 깨질 듯', '한·일 마찰도 마찬가지다. 일본 정부가 반도체 재료를 수출 규제한다면 가치사슬 체계는 달라지고 부가가치 시스템도 흔들린다. 이럴 때일수록 새로운 공급망을 만들거나 보다 나은 소재를 개발할 수도 있다. 이들 모두 기업이 할 수 있고 해야 할 몫이다.', '더욱 중요한 문제는 미래를 향한 부가가치를 누가 확보하느냐에 달려 있다. 산업부 보고서에도 “전기자동차, 스마트와 같은 신산업은 아직 권역별 가치사슬이 형성돼 있지 않다”며 “새롭게 형성되는 가치사슬을 우리가 주도할 수 있는 기회를 잡아야 한다”고 밝히고 있다.', '최근 일본 정부와 재계 언론은 하나같이 ‘디지털’을 외치고 있다. 디지털 지체로 생긴 한국과의 부가가치 열위를 만회하겠다고 읽힌다. 새로운 가치사슬과 부가가치를 향해 애쓰는 노력이 엿보인다. 일본의 수출규제로 촉발된 부품 소재 국산화도 나름 의미 있고 필요한 일이다. 하지만 일본보다 부가가치를 높일 수 있는 5G 등 지식집약적인 4차 산업에 매진하는 것이 더 필요할지 모른다.', 'ohchoon@hankyung.com\\n\\t\\t\\t\\t\\t\\t\\t\\t']\n",
              "0        1  ...  ['\\n', '\\n', '\\n', '\\n', '\\n', '\\n', '\\n      ...                                                                                                                                                                                                                                                                                                                                                                                                                                                                                                                                                                                                                                                                                                                                                                                                                                                                                                                                                                                                                                                                                                                                                                                                                                                                                                                                                                                                                                                                                                                                                                                                                                                                                                                                                                                                                                                                                                                                                                                                                                                                                                                                                                                                                                                                                                                                                                                                                                                                                                                                                                                                                                                                                                                                                                                                                                                                                                                                                                                                                                                                                                                                                                                                                                                                                                                                                                                                                                                                                                                                                                                                                                                                                               \n",
              "1        2  ...  ['\\n', '\\n', '\\n', '\\n', '\\n', '\\n', '\\n      ...                                                                                                                                                                                                                                                                                                                                                                                                                                                                                                                                                                                                                                                                                                                                                                                                                                                                                                                                                                                                                                                                                                                                                                                                                                                                                                                                                                                                                                                                                                                                                                                                                                                                                                                                                                                                                                                                                                                                                                                                                                                                                                                                                                                                                                                                                                                                                                                                                                                                                                                                                                                                                                                                                                                                                                                                                                                                                                                                                                                                                                                                                                                                                                                                                                                                                                                                                                                                                                                                                                                                                                                                                                                                                               \n",
              "2        3  ...  ['\\n', '\\n', '\\n', '\\n', '\\n', '\\n', '\\n      ...                                                                                                                                                                                                                                                                                                                                                                                                                                                                                                                                                                                                                                                                                                                                                                                                                                                                                                                                                                                                                                                                                                                                                                                                                                                                                                                                                                                                                                                                                                                                                                                                                                                                                                                                                                                                                                                                                                                                                                                                                                                                                                                                                                                                                                                                                                                                                                                                                                                                                                                                                                                                                                                                                                                                                                                                                                                                                                                                                                                                                                                                                                                                                                                                                                                                                                                                                                                                                                                                                                                                                                                                                                                                                               \n",
              "3        4  ...  ['\\n\\t\\t\\t\\t\\t\\t\\t\\t정부가 어제 국무회의를 열고 ‘사회적 기업 육성...                                                                                                                                                                                                                                                                                                                                                                                                                                                                                                                                                                                                                                                                                                                                                                                                                                                                                                                                                                                                                                                                                                                                                                                                                                                                                                                                                                                                                                                                                                                                                                                                                                                                                                                                                                                                                                                                                                                                                                                                                                                                                                                                                                                                                                                                                                                                                                                                                                                                                                                                                                                                                                                                                                                                                                                                                                                                                                                                                                                                                                                                                                                                                                                                                                                                                                                                                                                                                                                                                                                                                                                                                                                                                               \n",
              "4        5  ...  ['\\n\\t\\t\\t\\t\\t\\t\\t\\t정부가 조만간 확정할 예정인 ‘2020년 예산안...                                                                                                                                                                                                                                                                                                                                                                                                                                                                                                                                                                                                                                                                                                                                                                                                                                                                                                                                                                                                                                                                                                                                                                                                                                                                                                                                                                                                                                                                                                                                                                                                                                                                                                                                                                                                                                                                                                                                                                                                                                                                                                                                                                                                                                                                                                                                                                                                                                                                                                                                                                                                                                                                                                                                                                                                                                                                                                                                                                                                                                                                                                                                                                                                                                                                                                                                                                                                                                                                                                                                                                                                                                                                                               \n",
              "...    ...  ...                                                ...                                                                                                                                                                                                                                                                                                                                                                                                                                                                                                                                                                                                                                                                                                                                                                                                                                                                                                                                                                                                                                                                                                                                                                                                                                                                                                                                                                                                                                                                                                                                                                                                                                                                                                                                                                                                                                                                                                                                                                                                                                                                                                                                                                                                                                                                                                                                                                                                                                                                                                                                                                                                                                                                                                                                                                                                                                                                                                                                                                                                                                                                                                                                                                                                                                                                                                                                                                                                                                                                                                                                                                                                                                                                                               \n",
              "1115  1116  ...  ['\\n\\t\\t\\t\\t\\t\\t\\t\\t청룡기 전국고교야구대회 우승 6회, 황금사자기 ...                                                                                                                                                                                                                                                                                                                                                                                                                                                                                                                                                                                                                                                                                                                                                                                                                                                                                                                                                                                                                                                                                                                                                                                                                                                                                                                                                                                                                                                                                                                                                                                                                                                                                                                                                                                                                                                                                                                                                                                                                                                                                                                                                                                                                                                                                                                                                                                                                                                                                                                                                                                                                                                                                                                                                                                                                                                                                                                                                                                                                                                                                                                                                                                                                                                                                                                                                                                                                                                                                                                                                                                                                                                                                               \n",
              "1116  1117  ...  ['\\n', '\\n', '\\n', '\\n', '\\n', \"BIFF '올해의 배우상'...                                                                                                                                                                                                                                                                                                                                                                                                                                                                                                                                                                                                                                                                                                                                                                                                                                                                                                                                                                                                                                                                                                                                                                                                                                                                                                                                                                                                                                                                                                                                                                                                                                                                                                                                                                                                                                                                                                                                                                                                                                                                                                                                                                                                                                                                                                                                                                                                                                                                                                                                                                                                                                                                                                                                                                                                                                                                                                                                                                                                                                                                                                                                                                                                                                                                                                                                                                                                                                                                                                                                                                                                                                                                                               \n",
              "1117  1118  ...  ['\\n', '서플러스글로벌', '(2,960 -1.99%)', '이 이 회사가 구...                                                                                                                                                                                                                                                                                                                                                                                                                                                                                                                                                                                                                                                                                                                                                                                                                                                                                                                                                                                                                                                                                                                                                                                                                                                                                                                                                                                                                                                                                                                                                                                                                                                                                                                                                                                                                                                                                                                                                                                                                                                                                                                                                                                                                                                                                                                                                                                                                                                                                                                                                                                                                                                                                                                                                                                                                                                                                                                                                                                                                                                                                                                                                                                                                                                                                                                                                                                                                                                                                                                                                                                                                                                                                               \n",
              "1118  1119  ...  ['\\n', '\\n', '\\n', '\\n', '\\n', '[리얼미터 제공]', '\\...                                                                                                                                                                                                                                                                                                                                                                                                                                                                                                                                                                                                                                                                                                                                                                                                                                                                                                                                                                                                                                                                                                                                                                                                                                                                                                                                                                                                                                                                                                                                                                                                                                                                                                                                                                                                                                                                                                                                                                                                                                                                                                                                                                                                                                                                                                                                                                                                                                                                                                                                                                                                                                                                                                                                                                                                                                                                                                                                                                                                                                                                                                                                                                                                                                                                                                                                                                                                                                                                                                                                                                                                                                                                                               \n",
              "1119  1120  ...  ['\\n', '\\n', '\\n', '\\n', '\\n', '최대훈 손예진 / 사진 =...                                                                                                                                                                                                                                                                                                                                                                                                                                                                                                                                                                                                                                                                                                                                                                                                                                                                                                                                                                                                                                                                                                                                                                                                                                                                                                                                                                                                                                                                                                                                                                                                                                                                                                                                                                                                                                                                                                                                                                                                                                                                                                                                                                                                                                                                                                                                                                                                                                                                                                                                                                                                                                                                                                                                                                                                                                                                                                                                                                                                                                                                                                                                                                                                                                                                                                                                                                                                                                                                                                                                                                                                                                                                                               \n",
              "\n",
              "[1120 rows x 4 columns]"
            ]
          },
          "metadata": {
            "tags": []
          },
          "execution_count": 32
        }
      ]
    },
    {
      "cell_type": "code",
      "metadata": {
        "colab": {
          "base_uri": "https://localhost:8080/",
          "height": 419
        },
        "id": "KsLHQjU5Vmjh",
        "outputId": "80ce629f-631f-49e5-c922-24d15e8fc250"
      },
      "source": [
        "pd.read_csv('NewsResult_20190711-20190720 (1).csv')"
      ],
      "execution_count": 46,
      "outputs": [
        {
          "output_type": "execute_result",
          "data": {
            "text/html": [
              "<div>\n",
              "<style scoped>\n",
              "    .dataframe tbody tr th:only-of-type {\n",
              "        vertical-align: middle;\n",
              "    }\n",
              "\n",
              "    .dataframe tbody tr th {\n",
              "        vertical-align: top;\n",
              "    }\n",
              "\n",
              "    .dataframe thead th {\n",
              "        text-align: right;\n",
              "    }\n",
              "</style>\n",
              "<table border=\"1\" class=\"dataframe\">\n",
              "  <thead>\n",
              "    <tr style=\"text-align: right;\">\n",
              "      <th></th>\n",
              "      <th>0</th>\n",
              "      <th>뉴스 식별자</th>\n",
              "      <th>일자</th>\n",
              "      <th>단어</th>\n",
              "      <th>본문</th>\n",
              "    </tr>\n",
              "  </thead>\n",
              "  <tbody>\n",
              "    <tr>\n",
              "      <th>0</th>\n",
              "      <td>1</td>\n",
              "      <td>2.100601e+06</td>\n",
              "      <td>20190720</td>\n",
              "      <td>교급식,왕,사진,방송,면,오늘,일,토,방송,고교,급,식,왕,결승전,눈길,오늘,방송,...</td>\n",
              "      <td>['\\n', '\\n', '\\n', '\\n', '\\n', '\\n', '고교급식왕(사진...</td>\n",
              "    </tr>\n",
              "    <tr>\n",
              "      <th>1</th>\n",
              "      <td>2</td>\n",
              "      <td>2.100601e+06</td>\n",
              "      <td>20190720</td>\n",
              "      <td>강호동,사진,방송,강호동,팬,앞,눈물,일,방송,강식당,강호동,팬,진심,감동,눈물,모...</td>\n",
              "      <td>['\\n', '\\n', '\\n', '\\n', '\\n', '강호동/사진=tvN', '...</td>\n",
              "    </tr>\n",
              "    <tr>\n",
              "      <th>2</th>\n",
              "      <td>3</td>\n",
              "      <td>2.100601e+06</td>\n",
              "      <td>20190720</td>\n",
              "      <td>지성,세,영,사진,의사,요한,막강,의사,케미,가동,금,토,드라마,의사,요한,회,시청...</td>\n",
              "      <td>['\\n', '\\n', '\\n', '\\n', '\\n', '\\n', '지성, 지세영(...</td>\n",
              "    </tr>\n",
              "    <tr>\n",
              "      <th>3</th>\n",
              "      <td>4</td>\n",
              "      <td>2.100601e+06</td>\n",
              "      <td>20190720</td>\n",
              "      <td>에이스,바론,사진,엔터테인먼트,제공,그룹,멤버,에,이,스,바론,컴백,특별,시,구,시...</td>\n",
              "      <td>['\\n', '\\n', '\\n', '\\n', '\\n', '\\n', '에이스, 바론(...</td>\n",
              "    </tr>\n",
              "    <tr>\n",
              "      <th>4</th>\n",
              "      <td>5</td>\n",
              "      <td>2.100601e+06</td>\n",
              "      <td>20190720</td>\n",
              "      <td>양준혁,사진,프로,야구,선수,출신,양준혁,박찬호,언급,눈길,일,오후,방송,예능,프로...</td>\n",
              "      <td>['\\n', '\\n', '\\n', '\\n', '\\n', '양준혁/사진=JTBC', ...</td>\n",
              "    </tr>\n",
              "    <tr>\n",
              "      <th>...</th>\n",
              "      <td>...</td>\n",
              "      <td>...</td>\n",
              "      <td>...</td>\n",
              "      <td>...</td>\n",
              "      <td>...</td>\n",
              "    </tr>\n",
              "    <tr>\n",
              "      <th>1095</th>\n",
              "      <td>1096</td>\n",
              "      <td>2.100601e+06</td>\n",
              "      <td>20190718</td>\n",
              "      <td>차트,분석,단기,중기,평선,정배열,상승세,시간,차트,흐름,단기,중기,평선,정배열,상...</td>\n",
              "      <td>['\\n', '\\n', '\\n', '\\n', '\\n', '\\n', '\\n', '\\n...</td>\n",
              "    </tr>\n",
              "    <tr>\n",
              "      <th>1096</th>\n",
              "      <td>1097</td>\n",
              "      <td>2.100601e+06</td>\n",
              "      <td>20190718</td>\n",
              "      <td>가수,하성,운,오후,서울,상암동,센터,엠카운트,드라이,카메라,리허설,참석,포토타임,...</td>\n",
              "      <td>['\\n', '\\n', '\\n', '\\n', '\\n', '\\n', \"\\n      ...</td>\n",
              "    </tr>\n",
              "    <tr>\n",
              "      <th>1097</th>\n",
              "      <td>1098</td>\n",
              "      <td>2.100601e+06</td>\n",
              "      <td>20190718</td>\n",
              "      <td>녹원씨,엔아,이,세계,전자,회사,세계,최초,평면,연성,인쇄,회로,기판,회로,보호,잉...</td>\n",
              "      <td>['\\n', '녹원씨엔아이', '(6,010 -1.15%)', '는 세계적 전자회사...</td>\n",
              "    </tr>\n",
              "    <tr>\n",
              "      <th>1098</th>\n",
              "      <td>1099</td>\n",
              "      <td>2.100601e+06</td>\n",
              "      <td>20190718</td>\n",
              "      <td>일본,정부,강제,징용,문제,해법,제안,제국,중재,위원회,구성,시한,일,정부,거부,입...</td>\n",
              "      <td>['\\n', '\\n', '\\n', '\\n', '\\n', '일본 정부가 강제징용 문제...</td>\n",
              "    </tr>\n",
              "    <tr>\n",
              "      <th>1099</th>\n",
              "      <td>1100</td>\n",
              "      <td>2.100601e+06</td>\n",
              "      <td>20190718</td>\n",
              "      <td>박나래,만원,탕진,사진,프렌즈,방송,캡처,방송,박나래,만,탕진,손,일,방송,예능,프...</td>\n",
              "      <td>['\\n', '\\n', '\\n', '\\n', '\\n', \"박나래 61만원 탕진 / ...</td>\n",
              "    </tr>\n",
              "  </tbody>\n",
              "</table>\n",
              "<p>1100 rows × 5 columns</p>\n",
              "</div>"
            ],
            "text/plain": [
              "         0  ...                                                 본문\n",
              "0        1  ...  ['\\n', '\\n', '\\n', '\\n', '\\n', '\\n', '고교급식왕(사진...\n",
              "1        2  ...  ['\\n', '\\n', '\\n', '\\n', '\\n', '강호동/사진=tvN', '...\n",
              "2        3  ...  ['\\n', '\\n', '\\n', '\\n', '\\n', '\\n', '지성, 지세영(...\n",
              "3        4  ...  ['\\n', '\\n', '\\n', '\\n', '\\n', '\\n', '에이스, 바론(...\n",
              "4        5  ...  ['\\n', '\\n', '\\n', '\\n', '\\n', '양준혁/사진=JTBC', ...\n",
              "...    ...  ...                                                ...\n",
              "1095  1096  ...  ['\\n', '\\n', '\\n', '\\n', '\\n', '\\n', '\\n', '\\n...\n",
              "1096  1097  ...  ['\\n', '\\n', '\\n', '\\n', '\\n', '\\n', \"\\n      ...\n",
              "1097  1098  ...  ['\\n', '녹원씨엔아이', '(6,010 -1.15%)', '는 세계적 전자회사...\n",
              "1098  1099  ...  ['\\n', '\\n', '\\n', '\\n', '\\n', '일본 정부가 강제징용 문제...\n",
              "1099  1100  ...  ['\\n', '\\n', '\\n', '\\n', '\\n', \"박나래 61만원 탕진 / ...\n",
              "\n",
              "[1100 rows x 5 columns]"
            ]
          },
          "metadata": {
            "tags": []
          },
          "execution_count": 46
        }
      ]
    },
    {
      "cell_type": "code",
      "metadata": {
        "id": "9vrARPMQd5gd"
      },
      "source": [
        ""
      ],
      "execution_count": null,
      "outputs": []
    }
  ]
}